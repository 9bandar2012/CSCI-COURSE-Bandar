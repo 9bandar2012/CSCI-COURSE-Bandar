{
 "cells": [
  {
   "cell_type": "code",
   "execution_count": 1,
   "id": "52aebf8e-2caa-4a8f-83cc-71a64106e0ee",
   "metadata": {},
   "outputs": [],
   "source": [
    "# Q1- Loop through the string and eliminate all the asterisks.\n",
    "\n",
    "# asterisk = 'My *compu*ter has go*ne craz***y an*d add*ed extra *symbols.*'\n",
    "# your code here"
   ]
  },
  {
   "cell_type": "code",
   "execution_count": 2,
   "id": "4055e7f9-fca8-4c58-96d6-8e5cb7a1692c",
   "metadata": {},
   "outputs": [
    {
     "name": "stdout",
     "output_type": "stream",
     "text": [
      "My computer has gone crazy and added extra symbols.\n"
     ]
    }
   ],
   "source": [
    "asterisk = 'My *compu*ter has go*ne craz***y an*d add*ed extra *symbols.*'\n",
    "cleaned_string = ''\n",
    "for char in asterisk:\n",
    "    if char != '*':\n",
    "        cleaned_string += char\n",
    "\n",
    "print(cleaned_string)"
   ]
  },
  {
   "cell_type": "code",
   "execution_count": 1,
   "id": "6c140bb3-384d-412a-91fa-70965ef2e217",
   "metadata": {},
   "outputs": [],
   "source": [
    "# Q2- Write a while loop that increments counter until it reaches 7.\n",
    "# counter = 0\n",
    "# your code here"
   ]
  },
  {
   "cell_type": "code",
   "execution_count": 5,
   "id": "523f75c2-d1c3-407e-bcfb-843b67c851d6",
   "metadata": {},
   "outputs": [
    {
     "name": "stdout",
     "output_type": "stream",
     "text": [
      "Counter: 0\n",
      "Counter: 1\n",
      "Counter: 2\n",
      "Counter: 3\n",
      "Counter: 4\n",
      "Counter: 5\n",
      "Counter: 6\n",
      "Counter: 7\n"
     ]
    }
   ],
   "source": [
    "counter = 0\n",
    "\n",
    "while counter < 8:\n",
    "    print(\"Counter:\", counter)\n",
    "    counter += 1"
   ]
  },
  {
   "cell_type": "code",
   "execution_count": 6,
   "id": "4e91c994-163e-4337-b2db-e4076b8b77b6",
   "metadata": {},
   "outputs": [],
   "source": [
    "# Q3 -Loop over double_trouble and eliminate any 'mosquito'.\n",
    "# Hint: check if the type of an element you are iterating through is a list. If so, iterate through it. isinstance() is a good function for this. You can also use type() but its a bit odd here.\n",
    "\n",
    "# double_trouble = ['cat','dog', ['mouse','mosquito','bat','mosquito'],['elephant','dog','whale','lion',32,'mosquito'],'bird',[],'mosquito']\n",
    "# your code here\n",
    "    "
   ]
  },
  {
   "cell_type": "code",
   "execution_count": 40,
   "id": "40a037d9-8e50-40d2-bd73-7ad8b0c8f4e8",
   "metadata": {
    "scrolled": true
   },
   "outputs": [
    {
     "name": "stdout",
     "output_type": "stream",
     "text": [
      "['cat', 'dog', ['mouse', 'bat'], ['elephant', 'dog', 'whale', 'lion', 32], 'bird', [], 'mosquito']\n"
     ]
    }
   ],
   "source": [
    "double_trouble = ['cat', 'dog', ['mouse', 'mosquito', 'bat', 'mosquito'],\n",
    "                  ['elephant', 'dog', 'whale', 'lion', 32, 'mosquito'], 'bird', [], 'mosquito']\n",
    "\n",
    "double_trouble = [item if not isinstance(item, list) else [elem for elem in item if elem != 'mosquito']\n",
    "for item in double_trouble]\n",
    "print(double_trouble)"
   ]
  },
  {
   "cell_type": "code",
   "execution_count": 41,
   "id": "36770aea-8897-42fe-9fc7-ee04053e72df",
   "metadata": {},
   "outputs": [],
   "source": [
    "# Q4  Create a function that takes in two numbers.\n",
    "# If the numbers are both even add them and return the result.\n",
    "\n",
    "# If the numbers are odd, subtract the second number from the first and return the result.\n",
    "\n",
    "# (Assume you'll always get integers and if you dont, return a message indicating the input is wrong)"
   ]
  },
  {
   "cell_type": "code",
   "execution_count": 54,
   "id": "dab53f49-4a73-4cf5-b128-8fe3f38bf9d9",
   "metadata": {},
   "outputs": [
    {
     "name": "stdout",
     "output_type": "stream",
     "text": [
      "6\n"
     ]
    }
   ],
   "source": [
    "def nu(nm1, nm2):\n",
    "    if isinstance(nm1, int) and isinstance(nm2, int):\n",
    "        if nm1 % 2 == 0 and nm2 % 2 == 0:\n",
    "            result = nm1 + nm2\n",
    "        elif nm1 % 2 != 0 and nm2 % 2 != 0:\n",
    "            result = nm1 - nm2\n",
    "        else:\n",
    "            result = \"Mismatched parity\"\n",
    "        return result\n",
    "    else:\n",
    "        return \"Invalid input: Please provide integers.\"\n",
    "\n",
    "nm1 = 4\n",
    "nm2 = 2\n",
    "result = nu(nm1, nm2)\n",
    "print(result)"
   ]
  },
  {
   "cell_type": "code",
   "execution_count": 55,
   "id": "acda7270-4332-4aeb-8d3f-4cb78a690255",
   "metadata": {},
   "outputs": [],
   "source": [
    "# Q5- reate a function that prints a triangle of asterisks as below.\n",
    "# The function accepts n as an integer and makes the longest leg of the triangle that length, decrementing by one until you close the triangle. The function also accepts a direction for the triangle as a variable. If you pass in \"base-up\" it returns the first, but \"base-down\" returns the second. For example, for a triangle where n = 5, the following would be produced:\n",
    "\n",
    "#Base-up triangle\n",
    "# * * * * *\n",
    "# * * * *\n",
    "# * * *\n",
    "# * *\n",
    "# *\n",
    "\n",
    "#Base-down triangle\n",
    "# *\n",
    "# * *\n",
    "# * * *\n",
    "# * * * *\n",
    "# * * * * *\n",
    "\n",
    "# def triangles(n,direction):\n",
    "    #your code here"
   ]
  },
  {
   "cell_type": "code",
   "execution_count": 64,
   "id": "b9884b74-197c-4949-917d-af6af615e27d",
   "metadata": {},
   "outputs": [
    {
     "name": "stdout",
     "output_type": "stream",
     "text": [
      "Base-up triangle:\n",
      "* * * * * * \n",
      "* * * * * \n",
      "* * * * \n",
      "* * * \n",
      "* * \n",
      "* \n",
      "\n",
      "Base-down triangle:\n",
      "* \n",
      "* * \n",
      "* * * \n",
      "* * * * \n",
      "* * * * * \n",
      "* * * * * * \n"
     ]
    }
   ],
   "source": [
    "def triangles(n, direction):\n",
    "    if direction == \"base-up\":\n",
    "        for i in range(n, 0, -1):\n",
    "            print(\"* \" * i)\n",
    "    elif direction == \"base-down\":\n",
    "        for i in range(1, n + 1):\n",
    "            print(\"* \" * i)\n",
    "\n",
    "n_value = 5\n",
    "print(\"Base-up triangle:\")\n",
    "triangles(n_value, \"base-up\")\n",
    "\n",
    "print(\"\\nBase-down triangle:\")\n",
    "triangles(n_value, \"base-down\")"
   ]
  },
  {
   "cell_type": "code",
   "execution_count": 66,
   "id": "5c271854-ee55-4335-82c4-ce2b6b60913b",
   "metadata": {},
   "outputs": [],
   "source": [
    "# Q6- Add an attribute called age to the __init__ method of the Person class.\n",
    "# Create an instance of Person() and print the age.\n",
    "\n",
    "# class Person():\n",
    "    \n",
    "  #  def __init__(self, name, occupation, country):\n",
    "     #   self.name = name\n",
    "    #  self.occupation = occupation\n",
    "     #   self.country = country\n",
    "        # you attribute goes here"
   ]
  },
  {
   "cell_type": "code",
   "execution_count": 71,
   "id": "0d82536e-803b-4827-9962-b586d0fb9a25",
   "metadata": {},
   "outputs": [
    {
     "name": "stdout",
     "output_type": "stream",
     "text": [
      "Age: 25\n"
     ]
    }
   ],
   "source": [
    "class Person():\n",
    "    def __init__(self, name, occupation, country, age):\n",
    "        self.name = name\n",
    "        self.occupation = occupation\n",
    "        self.country = country\n",
    "        self.age = age  \n",
    "person_instance = Person(name=\"Ahmad\", occupation=\"polic officer\", country=\"USA\", age=25)\n",
    "print(\"Age:\", person_instance.age)"
   ]
  },
  {
   "cell_type": "code",
   "execution_count": 72,
   "id": "cdc6c034-8b0d-461b-af08-56360b977b2c",
   "metadata": {},
   "outputs": [],
   "source": [
    "# Q7- Add a static method of your choice to the class below.\n",
    "# Instantiate an object and call your method.\n",
    "\n",
    "# What is a static method? (1 pt for your answer here)\n",
    "\n",
    "# class actress():\n",
    "  #  def __init__(self, name = 'Meryl Streep'):\n",
    "      #  self.name = name\n",
    "        \n",
    " #   def act(self, line):\n",
    "      #  print(f'{self.name}: {line}')\n",
    "        \n",
    "    # your static method goes here.\n",
    "        \n",
    "# meryl = actress()\n",
    "# meryl.act('This is my line...')"
   ]
  },
  {
   "cell_type": "code",
   "execution_count": 76,
   "id": "7871e1a4-aa75-4b9e-8e60-e98ddd9bdea1",
   "metadata": {},
   "outputs": [
    {
     "name": "stdout",
     "output_type": "stream",
     "text": [
      "Meryl Streep: This is my line...\n",
      "This is a static method. It doesn't have access to the instance.\n"
     ]
    }
   ],
   "source": [
    "class Actress():\n",
    "    def __init__(self, name='Meryl Streep'):\n",
    "        self.name = name\n",
    "\n",
    "    def act(self, line):\n",
    "        print(f'{self.name}: {line}')\n",
    "\n",
    "\n",
    "    def describe():\n",
    "        print(\"This is a static method. It doesn't have access to the instance.\")\n",
    "\n",
    "\n",
    "meryl = Actress()\n",
    "\n",
    "\n",
    "meryl.act('This is my line...')\n",
    "\n",
    "\n",
    "Actress.describe()"
   ]
  },
  {
   "cell_type": "code",
   "execution_count": 79,
   "id": "08166309-a1ff-417a-ad88-4a4d8d3a2e7f",
   "metadata": {},
   "outputs": [],
   "source": [
    "# Q8 - Create a class called Dice that accepts a single argument called number_of_dice.\n",
    "# Create an instance method called roll.\n",
    "\n",
    "# roll should randomly pick a number for each die when called and print the results as a list.\n",
    "\n",
    "\n",
    "# Create an instance of Dice. Then call roll() on your instance.\n",
    "\n",
    "# Hint: Inside your class create an empty list called dice."
   ]
  },
  {
   "cell_type": "code",
   "execution_count": 85,
   "id": "73cb5a66-bc33-4680-8ba7-a07abad2d7b8",
   "metadata": {},
   "outputs": [
    {
     "name": "stdout",
     "output_type": "stream",
     "text": [
      "Roll results: [1, 5, 7]\n"
     ]
    }
   ],
   "source": [
    "import random\n",
    "\n",
    "class Dice:\n",
    "    def __init__(self, number_of_dice):\n",
    "        self.number_of_dice = number_of_dice\n",
    "        self.dice = []\n",
    "\n",
    "    def roll(self):\n",
    "        self.dice = [random.randint(1, 7) for _ in range(self.number_of_dice)]\n",
    "        print(\"Roll results:\", self.dice)\n",
    "\n",
    "\n",
    "dice_instance = Dice(number_of_dice=3)\n",
    "\n",
    "\n",
    "dice_instance.roll()"
   ]
  },
  {
   "cell_type": "code",
   "execution_count": 86,
   "id": "7fe88afb-4895-45a4-a4e4-9c474d4df3d9",
   "metadata": {},
   "outputs": [],
   "source": [
    "# Q9- Create a class called Car that accepts 3 attributes (make, model and year).\n",
    "\n",
    "# In the __init__ method give your instance those three attributes.\n",
    "\n",
    "# Instantiate (create) an object that is your dream car.\n",
    "\n",
    "# Print the make of your dream car using the object attributes.\n",
    "\n",
    "#Then call the dir() method on your new object. (See your attrs are now included!)"
   ]
  },
  {
   "cell_type": "code",
   "execution_count": 92,
   "id": "cb53532a-bb58-4829-a59e-af89a7f66d19",
   "metadata": {},
   "outputs": [
    {
     "name": "stdout",
     "output_type": "stream",
     "text": [
      "Make of Dream Car: Lamborghini\n",
      "\n",
      "Attributes and methods of Dream Car:\n"
     ]
    }
   ],
   "source": [
    "class Car:\n",
    "    def __init__(self, make, model, year):\n",
    "        self.make = make\n",
    "        self.model = model\n",
    "        self.year = year\n",
    "\n",
    "dream_car = Car(make=\"Lamborghini\", model=\"Aventador\", year=2024)\n",
    "\n",
    "print(\"Make of Dream Car:\", dream_car.make)\n",
    "\n",
    "print(\"\\nAttributes and methods of Dream Car:\")\n"
   ]
  }
 ],
 "metadata": {
  "kernelspec": {
   "display_name": "Python 3 (ipykernel)",
   "language": "python",
   "name": "python3"
  },
  "language_info": {
   "codemirror_mode": {
    "name": "ipython",
    "version": 3
   },
   "file_extension": ".py",
   "mimetype": "text/x-python",
   "name": "python",
   "nbconvert_exporter": "python",
   "pygments_lexer": "ipython3",
   "version": "3.12.1"
  }
 },
 "nbformat": 4,
 "nbformat_minor": 5
}
