{
 "cells": [
  {
   "cell_type": "code",
   "execution_count": 1,
   "id": "21507aee-b43d-4256-a60a-4f62f196d34b",
   "metadata": {},
   "outputs": [],
   "source": [
    "# Q1 Loop through the string and eliminate all the asterisks.\n",
    "# asterisk = 'My *compu*ter has go*ne craz***y an*d add*ed extra *symbols.*'\n",
    "# your code here"
   ]
  },
  {
   "cell_type": "code",
   "execution_count": 2,
   "id": "d727e644-f95e-4f29-8ab7-b6fc6d0b30de",
   "metadata": {},
   "outputs": [
    {
     "name": "stdout",
     "output_type": "stream",
     "text": [
      "My computer has gone crazy and added extra symbols.\n"
     ]
    }
   ],
   "source": [
    "# A1\n",
    "asterisk = 'My *compu*ter has go*ne craz***y an*d add*ed extra *symbols.*'\n",
    "cleaned_string = ''\n",
    "for char in asterisk:\n",
    "    if char != '*':\n",
    "        cleaned_string += char\n",
    "\n",
    "print(cleaned_string)\n"
   ]
  },
  {
   "cell_type": "code",
   "execution_count": 3,
   "id": "11c3d864-29f5-4301-8d8d-6466cf3f2915",
   "metadata": {},
   "outputs": [],
   "source": [
    "# Q2- Write a while loop that increments counter until it reaches 7.\n",
    "# counter = 0\n",
    "# your code here"
   ]
  },
  {
   "cell_type": "code",
   "execution_count": 4,
   "id": "29655f81-54dd-4f08-a4d1-2d6120c01250",
   "metadata": {},
   "outputs": [
    {
     "name": "stdout",
     "output_type": "stream",
     "text": [
      "1\n",
      "2\n",
      "4\n",
      "5\n",
      "6\n",
      "7\n"
     ]
    }
   ],
   "source": [
    "# A2 \n",
    "counter = 0\n",
    "while counter < 7:\n",
    "  counter += 1\n",
    "  if counter == 3:\n",
    "    continue\n",
    "  print(counter)"
   ]
  },
  {
   "cell_type": "code",
   "execution_count": 5,
   "id": "833cd6e1-8e92-44bc-89f7-31fea2c95371",
   "metadata": {},
   "outputs": [],
   "source": [
    "# Q3 Loop over double_trouble and eliminate any 'mosquito'.\n",
    "# Hint: check if the type of an element you are iterating through is a list. If so, iterate through it. isinstance() is a good function for this. You can also use type() but its a bit odd here.\n",
    "\n",
    "# double_trouble = ['cat','dog', ['mouse','mosquito','bat','mosquito'],['elephant','dog','whale','lion',32,'mosquito'],'bird',[],'mosquito']\n",
    "# your code here\n"
   ]
  },
  {
   "cell_type": "code",
   "execution_count": 1,
   "id": "83655763-e739-45cc-9bc1-d5a87be71787",
   "metadata": {},
   "outputs": [
    {
     "name": "stdout",
     "output_type": "stream",
     "text": [
      "['cat', 'dog', 'mouse', 'mosquito', 'bat', 'mosquito', 'elephant', 'dog', 'whale', 'lion', 32, 'mosquito', 'bird', 'mosquito']\n"
     ]
    }
   ],
   "source": [
    "# A3- \n",
    "double_trouble = ['cat','dog', 'mouse','mosquito','bat','mosquito' , 'elephant','dog','whale','lion',32,'mosquito','bird','mosquito']\n",
    "\n",
    "double_trouble = [item if not isinstance(item, list) else [elem for elem in item if elem != 'mosquito']\n",
    "for item in double_trouble]\n",
    "print(double_trouble)"
   ]
  },
  {
   "cell_type": "code",
   "execution_count": 7,
   "id": "f814be30-44b5-4c25-86c8-5a74f792ec3e",
   "metadata": {},
   "outputs": [],
   "source": [
    "# Q4- Create a function that takes in two numbers.\n",
    "# If the numbers are both even add them and return the result.\n",
    "\n",
    "# If the numbers are odd, subtract the second number from the first and return the result.\n",
    "\n",
    "# (Assume you'll always get integers and if you dont, return a message indicating the input is wrong)"
   ]
  },
  {
   "cell_type": "code",
   "execution_count": 11,
   "id": "86b3e4be-1da6-4620-bd5b-3ee1d3beec60",
   "metadata": {},
   "outputs": [],
   "source": [
    "# A4- \n",
    "def process_numbers(num1, num2):\n",
    "    \"\"\"\n",
    "    Function to process two numbers based on their parity.\n",
    "    - If both numbers are even, their sum is returned.\n",
    "    - If both numbers are odd, subtract the second number from the first.\n",
    "    - Checks for integer inputs and returns a message if inputs are invalid.\n",
    "    \"\"\"\n",
    "    if not (isinstance(num1, int) and isinstance(num2, int)):\n",
    "        return \"Please provide integer inputs.\"\n",
    "    if num1 % 2 == 0 and num2 % 2 == 0:\n",
    "        return num1 + num2\n",
    "    elif num1 % 2 != 0 and num2 % 2 != 0:\n",
    "        return num1 - num2\n",
    "    else:\n",
    "        return \"One number is even and the other is odd. No specific operation defined for this case.\""
   ]
  },
  {
   "cell_type": "code",
   "execution_count": 9,
   "id": "1197fa74-2607-4b93-a39d-af9f1c4f0c95",
   "metadata": {},
   "outputs": [
    {
     "name": "stdout",
     "output_type": "stream",
     "text": [
      "6\n",
      "-2\n",
      "Please provide integer inputs.\n"
     ]
    }
   ],
   "source": [
    "result = process_numbers(2, 4) \n",
    "print(result)  # Expected output: 6\n",
    "\n",
    "result = process_numbers(3, 5) \n",
    "print(result)  # Expected output: -2\n",
    "\n",
    "result = process_numbers(2, \"a\") \n",
    "print(result) "
   ]
  },
  {
   "cell_type": "code",
   "execution_count": 12,
   "id": "eb0794ad-78f8-4706-a1cb-3f068dfa7508",
   "metadata": {},
   "outputs": [],
   "source": [
    "# Q5- reate a function that prints a triangle of asterisks as below.\n",
    "# The function accepts n as an integer and makes the longest leg of the triangle that length, decrementing by one until you close the triangle. The function also accepts a direction for the triangle as a variable. If you pass in \"base-up\" it returns the first, but \"base-down\" returns the second. For example, for a triangle where n = 5, the following would be produced:\n",
    "\n",
    "#Base-up triangle\n",
    "# * * * * *\n",
    "# * * * *\n",
    "# * * *\n",
    "# * *\n",
    "# *\n",
    "\n",
    "#Base-down triangle\n",
    "# *\n",
    "# * *\n",
    "# * * *\n",
    "# * * * *\n",
    "# * * * * *\n",
    "\n",
    "# def triangles(n,direction):\n",
    "    #your code here"
   ]
  },
  {
   "cell_type": "code",
   "execution_count": 11,
   "id": "e80ddf5d-f9d4-4a7a-bb0c-00b426939f92",
   "metadata": {},
   "outputs": [
    {
     "name": "stdout",
     "output_type": "stream",
     "text": [
      "Base-up triangle:\n",
      "* * * * * \n",
      "* * * * \n",
      "* * * \n",
      "* * \n",
      "* \n",
      "\n",
      "Base-down triangle:\n",
      "* \n",
      "* * \n",
      "* * * \n",
      "* * * * \n",
      "* * * * * \n"
     ]
    }
   ],
   "source": [
    "# A5- \n",
    "def triangles(n, direction):\n",
    "    if direction == \"base-up\":\n",
    "        for i in range(n, 0, -1):\n",
    "            print(\"* \" * i)\n",
    "    elif direction == \"base-down\":\n",
    "        for i in range(1, n + 1):\n",
    "            print(\"* \" * i)\n",
    "\n",
    "n_value = 5\n",
    "print(\"Base-up triangle:\")\n",
    "triangles(n_value, \"base-up\")\n",
    "\n",
    "print(\"\\nBase-down triangle:\")\n",
    "triangles(n_value, \"base-down\")"
   ]
  },
  {
   "cell_type": "code",
   "execution_count": 12,
   "id": "334dad1a-daa3-456a-8419-7a6020e2658c",
   "metadata": {},
   "outputs": [],
   "source": [
    "# Q6- Add an attribute called age to the __init__ method of the Person class.\n",
    "# Create an instance of Person() and print the age.\n",
    "\n",
    "# class Person():\n",
    "    \n",
    "  #  def __init__(self, name, occupation, country):\n",
    "     #   self.name = name\n",
    "    #  self.occupation = occupation\n",
    "     #   self.country = country\n",
    "        # you attribute goes here"
   ]
  },
  {
   "cell_type": "code",
   "execution_count": 13,
   "id": "0f4aa248-f571-4cfc-a8b8-9ae60ecaa33f",
   "metadata": {},
   "outputs": [
    {
     "name": "stdout",
     "output_type": "stream",
     "text": [
      "Age: 25\n"
     ]
    }
   ],
   "source": [
    "class Person():\n",
    "    def __init__(self, name, occupation, country, age):\n",
    "        self.name = name\n",
    "        self.occupation = occupation\n",
    "        self.country = country\n",
    "        self.age = age  \n",
    "person_instance = Person(name=\"Ahmad\", occupation=\"polic officer\", country=\"USA\", age=25)\n",
    "print(\"Age:\", person_instance.age)"
   ]
  },
  {
   "cell_type": "code",
   "execution_count": 14,
   "id": "342dd34a-42b1-4a0f-84c0-56af0e29c6f0",
   "metadata": {},
   "outputs": [],
   "source": [
    "# Q7- Add a static method of your choice to the class below.\n",
    "# Instantiate an object and call your method.\n",
    "\n",
    "# What is a static method? (1 pt for your answer here)\n",
    "\n",
    "# class actress():\n",
    "  #  def __init__(self, name = 'Meryl Streep'):\n",
    "      #  self.name = name\n",
    "        \n",
    " #   def act(self, line):\n",
    "      #  print(f'{self.name}: {line}')\n",
    "        \n",
    "    # your static method goes here.\n",
    "        \n",
    "# meryl = actress()\n",
    "# meryl.act('This is my line...')"
   ]
  },
  {
   "cell_type": "code",
   "execution_count": 15,
   "id": "c71afe3a-d256-444b-928e-a1f145b9d757",
   "metadata": {},
   "outputs": [
    {
     "name": "stdout",
     "output_type": "stream",
     "text": [
      "Meryl Streep: This is my line...\n",
      "This is a static method. It doesn't have access to the instance.\n"
     ]
    }
   ],
   "source": [
    "#A7- \n",
    "class Actress():\n",
    "    def __init__(self, name='Meryl Streep'):\n",
    "        self.name = name\n",
    "\n",
    "    def act(self, line):\n",
    "        print(f'{self.name}: {line}')\n",
    "\n",
    "\n",
    "    def describe():\n",
    "        print(\"This is a static method. It doesn't have access to the instance.\")\n",
    "\n",
    "\n",
    "meryl = Actress()\n",
    "\n",
    "\n",
    "meryl.act('This is my line...')\n",
    "\n",
    "\n",
    "Actress.describe()"
   ]
  },
  {
   "cell_type": "code",
   "execution_count": 16,
   "id": "3ffcc73e-46e0-4d1a-90ef-2de2066d218d",
   "metadata": {},
   "outputs": [],
   "source": [
    "# Q8 - Create a class called Dice that accepts a single argument called number_of_dice.\n",
    "# Create an instance method called roll.\n",
    "\n",
    "# roll should randomly pick a number for each die when called and print the results as a list.\n",
    "\n",
    "\n",
    "# Create an instance of Dice. Then call roll() on your instance.\n",
    "\n",
    "# Hint: Inside your class create an empty list called dice."
   ]
  },
  {
   "cell_type": "code",
   "execution_count": 17,
   "id": "4cd4340b-d428-4a01-84fe-88c91e6909f4",
   "metadata": {},
   "outputs": [
    {
     "name": "stdout",
     "output_type": "stream",
     "text": [
      "Roll results: [3, 5, 1]\n"
     ]
    }
   ],
   "source": [
    "# A8- \n",
    "import random\n",
    "\n",
    "class Dice:\n",
    "    def __init__(self, number_of_dice):\n",
    "        self.number_of_dice = number_of_dice\n",
    "        self.dice = []\n",
    "\n",
    "    def roll(self):\n",
    "        self.dice = [random.randint(1, 7) for _ in range(self.number_of_dice)]\n",
    "        print(\"Roll results:\", self.dice)\n",
    "\n",
    "\n",
    "dice_instance = Dice(number_of_dice=3)\n",
    "\n",
    "\n",
    "dice_instance.roll()"
   ]
  },
  {
   "cell_type": "code",
   "execution_count": 18,
   "id": "a291df12-25a1-4a4f-b7fd-61efcea04ad9",
   "metadata": {},
   "outputs": [],
   "source": [
    "# Q9- Create a class called Car that accepts 3 attributes (make, model and year).\n",
    "\n",
    "# In the __init__ method give your instance those three attributes.\n",
    "\n",
    "# Instantiate (create) an object that is your dream car.\n",
    "\n",
    "# Print the make of your dream car using the object attributes.\n",
    "\n",
    "#Then call the dir() method on your new object. (See your attrs are now included!)"
   ]
  },
  {
   "cell_type": "code",
   "execution_count": 19,
   "id": "9330f2e2-13b6-4e05-bf50-e2a714f575f3",
   "metadata": {},
   "outputs": [
    {
     "name": "stdout",
     "output_type": "stream",
     "text": [
      "Make of Dream Car: Lamborghini\n",
      "\n",
      "Attributes and methods of Dream Car:\n"
     ]
    }
   ],
   "source": [
    "# A9- \n",
    "class Car:\n",
    "    def __init__(self, make, model, year):\n",
    "        self.make = make\n",
    "        self.model = model\n",
    "        self.year = year\n",
    "\n",
    "dream_car = Car(make=\"Lamborghini\", model=\"Aventador\", year=2024)\n",
    "\n",
    "print(\"Make of Dream Car:\", dream_car.make)\n",
    "\n",
    "print(\"\\nAttributes and methods of Dream Car:\")"
   ]
  },
  {
   "cell_type": "code",
   "execution_count": null,
   "id": "4e4229ca-f00c-46d2-8a57-a286674bcaf0",
   "metadata": {},
   "outputs": [],
   "source": []
  }
 ],
 "metadata": {
  "kernelspec": {
   "display_name": "Python 3 (ipykernel)",
   "language": "python",
   "name": "python3"
  },
  "language_info": {
   "codemirror_mode": {
    "name": "ipython",
    "version": 3
   },
   "file_extension": ".py",
   "mimetype": "text/x-python",
   "name": "python",
   "nbconvert_exporter": "python",
   "pygments_lexer": "ipython3",
   "version": "3.12.1"
  }
 },
 "nbformat": 4,
 "nbformat_minor": 5
}
