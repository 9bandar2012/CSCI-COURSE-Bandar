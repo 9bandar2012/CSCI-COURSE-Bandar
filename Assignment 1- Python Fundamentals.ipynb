{
 "cells": [
  {
   "cell_type": "code",
   "execution_count": 5,
   "id": "130969d6-650b-4046-8b71-35a71ad45a13",
   "metadata": {},
   "outputs": [],
   "source": [
    "# Q1 - How can you get more information about a function or an object from inside a jupyter cell?"
   ]
  },
  {
   "cell_type": "code",
   "execution_count": 12,
   "id": "796db0bc-33ef-4222-8ffd-258a518d19d3",
   "metadata": {},
   "outputs": [
    {
     "data": {
      "text/plain": [
       "\u001b[0;31mInit signature:\u001b[0m \u001b[0mrange\u001b[0m\u001b[0;34m(\u001b[0m\u001b[0mself\u001b[0m\u001b[0;34m,\u001b[0m \u001b[0;34m/\u001b[0m\u001b[0;34m,\u001b[0m \u001b[0;34m*\u001b[0m\u001b[0margs\u001b[0m\u001b[0;34m,\u001b[0m \u001b[0;34m**\u001b[0m\u001b[0mkwargs\u001b[0m\u001b[0;34m)\u001b[0m\u001b[0;34m\u001b[0m\u001b[0;34m\u001b[0m\u001b[0m\n",
       "\u001b[0;31mDocstring:\u001b[0m     \n",
       "range(stop) -> range object\n",
       "range(start, stop[, step]) -> range object\n",
       "\n",
       "Return an object that produces a sequence of integers from start (inclusive)\n",
       "to stop (exclusive) by step.  range(i, j) produces i, i+1, i+2, ..., j-1.\n",
       "start defaults to 0, and stop is omitted!  range(4) produces 0, 1, 2, 3.\n",
       "These are exactly the valid indices for a list of 4 elements.\n",
       "When step is given, it specifies the increment (or decrement).\n",
       "\u001b[0;31mType:\u001b[0m           type\n",
       "\u001b[0;31mSubclasses:\u001b[0m     "
      ]
     },
     "metadata": {},
     "output_type": "display_data"
    }
   ],
   "source": [
    "# A1- Jupyter provide two options to get more information about any function or object.\n",
    "# help () function. also we add a add aquestion mark (?) to the function or object name.\n",
    "An examples: help(range) or range?"
   ]
  },
  {
   "cell_type": "code",
   "execution_count": 13,
   "id": "b3403382-30f5-4e89-93eb-ef339b94bfcf",
   "metadata": {},
   "outputs": [],
   "source": [
    "# Q2- How can you determine the data type of an object?"
   ]
  },
  {
   "cell_type": "code",
   "execution_count": 40,
   "id": "5918d394-a586-44d6-a710-73328da3b2af",
   "metadata": {},
   "outputs": [
    {
     "name": "stdout",
     "output_type": "stream",
     "text": [
      "menu_1: ['Eggs', 'pancake', 'toast']\n",
      "menu_2: ['Coffee', 'Black', 'Juice']\n"
     ]
    }
   ],
   "source": [
    "# A2- To determine the data type of an object using the type () function.\n",
    "# An examples: \n",
    "# Breakfast menu items\n",
    "menu_1 = [\"Eggs\", \"pancake\", \"toast\"]\n",
    "menu_2 = [\"Coffee\", \"Black\", \"Juice\"]\n",
    "print(f\"menu_1: {menu_1}\")\n",
    "print(f\"menu_2: {menu_2}\")"
   ]
  },
  {
   "cell_type": "code",
   "execution_count": 41,
   "id": "4636b67c-8587-46e3-b401-6d4fffe497ab",
   "metadata": {},
   "outputs": [],
   "source": [
    "# Q3- Assign a variable named foo and give it a value of 'bar'. What does assignment mean?"
   ]
  },
  {
   "cell_type": "code",
   "execution_count": 46,
   "id": "9707ea12-48ed-41f5-b99e-f830f4c2a8f1",
   "metadata": {},
   "outputs": [
    {
     "name": "stdout",
     "output_type": "stream",
     "text": [
      "bar\n"
     ]
    }
   ],
   "source": [
    "#A3- This assignment means we associate a variable f00 with a specific value which is 'bar'\n",
    "f00 = 'bar' \n",
    "print(f00)"
   ]
  },
  {
   "cell_type": "code",
   "execution_count": 47,
   "id": "1fc3bbf2-fd26-4011-8afd-27910c33e289",
   "metadata": {},
   "outputs": [],
   "source": [
    "# Q4- You have an assortment of items you will need to keep track of. What would be a good data structure to keep them in? Provide an example."
   ]
  },
  {
   "cell_type": "code",
   "execution_count": 55,
   "id": "deb67550-619e-45b7-9e4d-07f139aadbde",
   "metadata": {},
   "outputs": [],
   "source": [
    "# A4- he perfect data structure to keep track of an assortment of items is a dictionary.\n",
    "# Example: \n",
    "fruits = {\n",
    "    \"oranges\": 10,\n",
    "    \"Apples\": 20,\n",
    "    \"Mangoes\": 30\n",
    "}"
   ]
  },
  {
   "cell_type": "code",
   "execution_count": 56,
   "id": "9d47e915-bc44-4727-a66f-6fcd932fbaaf",
   "metadata": {},
   "outputs": [],
   "source": [
    "# Q5- You have an assortment of names and telephone numbers. What might be a good data structure to keep them in? Show an example"
   ]
  },
  {
   "cell_type": "code",
   "execution_count": 66,
   "id": "d70fd48e-772c-443b-a428-45b0471e764c",
   "metadata": {},
   "outputs": [
    {
     "name": "stdout",
     "output_type": "stream",
     "text": [
      "Bandar's number: 0000-1234-0000\n",
      "Sam's number: 0000-1231-0000\n"
     ]
    }
   ],
   "source": [
    "# The most useful data structure is a dictionary.\n",
    "# An example:\n",
    "phone_numbers = {\n",
    "    'Bandar': '0000-1234-0000',\n",
    "    'Sam': '0000-1231-0000'\n",
    "}\n",
    "\n",
    "Bandar_number = phone_numbers[\"Bandar\"]\n",
    "Sam_number = phone_numbers[\"Sam\"]\n",
    "\n",
    "print(\"Bandar's number:\", Bandar_number)\n",
    "print(\"Sam's number:\", Sam_number)"
   ]
  },
  {
   "cell_type": "code",
   "execution_count": 68,
   "id": "6349904c-ca31-40af-a6cc-2473c9353ac0",
   "metadata": {},
   "outputs": [],
   "source": [
    "# Q6- You need to create a copy of an important list and alter the copy. Why is the following code a bad idea?\n",
    "# ist1 = [1,2,3]\n",
    "# list2 = list1\n",
    "# list2[0]= 9"
   ]
  },
  {
   "cell_type": "code",
   "execution_count": 71,
   "id": "a2edabc8-90e3-481a-8fa8-6dc21ac2cf51",
   "metadata": {},
   "outputs": [],
   "source": [
    "# A6- The above code is a bad idea if the intention is to create a copy of list1 and then later alter the copy. \n",
    "# Its a bad idea because in python assignment list2 = list1 doesn’t create a new copy of the list. \n",
    "# Instead, it creates a new reference pointing to the same list object in memory this means that list1 and list2 are refering to the same list object.\n",
    "# To create a copy of list1 you can use the copy() function e.g list2 = list1.copy()"
   ]
  },
  {
   "cell_type": "code",
   "execution_count": 72,
   "id": "30b9a428-adfb-4d71-9235-bf329b2ad925",
   "metadata": {},
   "outputs": [],
   "source": [
    "# Q7- What is truthy and falsey? Provide a list example and a string example."
   ]
  },
  {
   "cell_type": "code",
   "execution_count": 73,
   "id": "d2b91ec6-1871-4bfd-8d93-f976f946c85d",
   "metadata": {},
   "outputs": [],
   "source": [
    "# A7- Truth and falsity are considered truthy or false based on their boolean evaluation in a boolean context.\n",
    "# List example for truth: breakfast_list = ['eggs' , 'pancake' , 'omelette']\n",
    "# List example for false: breakfast_list = []\n",
    "# String example for truth: its_string = \"Hello, professor!\"\n",
    "# String example for false: its_string = \"\""
   ]
  },
  {
   "cell_type": "code",
   "execution_count": 75,
   "id": "c17ea7af-34b0-46b8-a5a7-73cfedf666a7",
   "metadata": {},
   "outputs": [],
   "source": [
    "# Q8- What is the difference between a dynamically typed and statically typed language?\n",
    "# Which one is python? When is that a good thing? When is that a bad thing?"
   ]
  },
  {
   "cell_type": "code",
   "execution_count": 76,
   "id": "669f49d6-2d9d-4ae8-90ef-70bacdf91efc",
   "metadata": {},
   "outputs": [],
   "source": [
    "# A8- In Dynamically typed languages variable types are determined at the time of execution(runtime), meaning one doesn’t need to declared the variable type explictly\n",
    "# while in statically typed languages, variable types are determined at the time of compilation so variables types must be defined explicitly.\n",
    "# Python is a dynamically typed language.\n",
    "# When its a good thing: dynamically typed languages offer alot of flexibilities,and rapid development as one deosn’t have to declare variable types.\n",
    "# When its a bad thing: it can easily lead to runtime errors that would otherwise be caught during compile time in statically typed languages."
   ]
  },
  {
   "cell_type": "code",
   "execution_count": 77,
   "id": "e07f45e6-98cb-4b9c-bc6a-ef26c607a3ef",
   "metadata": {},
   "outputs": [],
   "source": [
    "# Q9- Here is a link to the python built-in functions. Choose 2 and give an example of how to use them."
   ]
  },
  {
   "cell_type": "code",
   "execution_count": 81,
   "id": "4bbced49-2eba-4f63-b688-957d56d97358",
   "metadata": {},
   "outputs": [
    {
     "name": "stdout",
     "output_type": "stream",
     "text": [
      "['__add__', '__class__', '__class_getitem__', '__contains__', '__delattr__', '__delitem__', '__dir__', '__doc__', '__eq__', '__format__', '__ge__', '__getattribute__', '__getitem__', '__getstate__', '__gt__', '__hash__', '__iadd__', '__imul__', '__init__', '__init_subclass__', '__iter__', '__le__', '__len__', '__lt__', '__mul__', '__ne__', '__new__', '__reduce__', '__reduce_ex__', '__repr__', '__reversed__', '__rmul__', '__setattr__', '__setitem__', '__sizeof__', '__str__', '__subclasshook__', 'append', 'clear', 'copy', 'count', 'extend', 'index', 'insert', 'pop', 'remove', 'reverse', 'sort']\n",
      "['eggs', 'pancake', 'omelette']\n"
     ]
    }
   ],
   "source": [
    "# A9- dir() function, an example: \n",
    "ranking_list = [5, 7, 9]\n",
    "print(dir(ranking_list))\n",
    "# list() function, an example: \n",
    "breakfast_menu = ['eggs', 'pancake', 'omelette']\n",
    "print(breakfast_menu) "
   ]
  },
  {
   "cell_type": "code",
   "execution_count": 82,
   "id": "2c5e791c-c50b-4c1a-bc1d-94943df468ba",
   "metadata": {},
   "outputs": [],
   "source": [
    "# Q10: I need to know if an integer is odd or even. What operator might help me do that? Provide an example"
   ]
  },
  {
   "cell_type": "code",
   "execution_count": 84,
   "id": "96285d53-37b5-4f5a-a61d-565842d8ffa9",
   "metadata": {},
   "outputs": [
    {
     "name": "stdout",
     "output_type": "stream",
     "text": [
      "Odd\n"
     ]
    }
   ],
   "source": [
    "# A10: A10- to determine whether a number is even or odd, you can use the modulo operator(%), this operator returns the remainder when a number is divided by another.\n",
    "# Example:\n",
    "num = 11\n",
    "\n",
    "if num % 2 == 0:\n",
    "    print(\"Even\")\n",
    "else:\n",
    "    print(\"Odd\")"
   ]
  },
  {
   "cell_type": "code",
   "execution_count": 85,
   "id": "5361df37-9404-4d68-8ed2-7cb6767b0a30",
   "metadata": {},
   "outputs": [],
   "source": [
    "# Q11- What is a python expression? What does an expression evaluate to?"
   ]
  },
  {
   "cell_type": "code",
   "execution_count": 86,
   "id": "d7775e79-0c78-4e0b-85ce-465360fafdb4",
   "metadata": {},
   "outputs": [
    {
     "name": "stdout",
     "output_type": "stream",
     "text": [
      "The result of 5 + 5 is: 10\n"
     ]
    }
   ],
   "source": [
    "# A11- is a combination of values, variables and operators that python interpreter can use to produce a value in return.\n",
    "# Example: 5 + 5 = 10\n",
    "result = 5 + 5 \n",
    "print(\"The result of 5 + 5 is:\", result)"
   ]
  },
  {
   "cell_type": "code",
   "execution_count": 87,
   "id": "4823fc99-50b0-476f-b94f-bac954475d29",
   "metadata": {},
   "outputs": [],
   "source": [
    "# Q12- Provide an expression that evaluates which variable is greater.\n",
    "# foo = 23\n",
    "# bar = 48"
   ]
  },
  {
   "cell_type": "code",
   "execution_count": 91,
   "id": "98ee51c1-ee7a-478a-9286-65ab1c3db029",
   "metadata": {},
   "outputs": [
    {
     "name": "stdout",
     "output_type": "stream",
     "text": [
      "bar\n"
     ]
    }
   ],
   "source": [
    "# A12- \n",
    "foo = 23\n",
    "bar = 48\n",
    "x = \"bar\" if bar > foo else \"foo\"\n",
    "print(x)"
   ]
  },
  {
   "cell_type": "code",
   "execution_count": 92,
   "id": "43d33ba0-b738-44ab-be05-0ca3a4aa0b2b",
   "metadata": {},
   "outputs": [],
   "source": [
    "# Q13- Provide an if statement (inside the provided for loop) that prints 'even' if the number is\n",
    "# even, 'odd' if the number is odd, and 'three' if the number is 3. my_list = [1,2,3,4,5,6,7,8,9] for i in my_list:"
   ]
  },
  {
   "cell_type": "code",
   "execution_count": 98,
   "id": "42ce9931-1dd2-4f8a-a795-0fd33123080c",
   "metadata": {},
   "outputs": [
    {
     "name": "stdout",
     "output_type": "stream",
     "text": [
      "odd\n",
      "even\n",
      "three\n",
      "even\n",
      "odd\n",
      "even\n",
      "odd\n",
      "even\n",
      "odd\n"
     ]
    }
   ],
   "source": [
    "# A13: \n",
    "my_list = [1, 2, 3, 4, 5, 6, 7, 8, 9]\n",
    "\n",
    "for i in my_list:\n",
    "    if i == 3:\n",
    "        print(\"three\")\n",
    "    elif i % 2 == 0:\n",
    "        print(\"even\")\n",
    "    else:\n",
    "        print(\"odd\")"
   ]
  },
  {
   "cell_type": "code",
   "execution_count": 99,
   "id": "acbd4df7-8824-4d3c-9000-5bcfc630ab7e",
   "metadata": {},
   "outputs": [],
   "source": [
    "# Q14: What is the less than equal to operator? And show an example of how it is used."
   ]
  },
  {
   "cell_type": "code",
   "execution_count": 106,
   "id": "9b3a5fdd-2e0f-4fb5-b27a-9f6c82e5b602",
   "metadata": {},
   "outputs": [
    {
     "name": "stdout",
     "output_type": "stream",
     "text": [
      "False\n"
     ]
    }
   ],
   "source": [
    "# Q14: A14- the less than or equals to operator is used to check if the left operand is less than or equal to the right operand. (<=)\n",
    "# example: x, y = 5, 3\n",
    "result = x <= y\n",
    "print(result)"
   ]
  },
  {
   "cell_type": "code",
   "execution_count": 107,
   "id": "7541ca7e-6e48-4ef7-9239-f61cccecb144",
   "metadata": {},
   "outputs": [],
   "source": [
    "# Q15: What is the floored division operator? And show an example of how it is used?"
   ]
  },
  {
   "cell_type": "code",
   "execution_count": 108,
   "id": "ff60ae37-cff5-4a66-9e85-32644d62782f",
   "metadata": {},
   "outputs": [
    {
     "name": "stdout",
     "output_type": "stream",
     "text": [
      "5\n"
     ]
    }
   ],
   "source": [
    "#A15: The floored division operator is used to perform division where the result rounded down to the nearest integer.\n",
    "# Example x = 10 // 3\n",
    "print(x)\n"
   ]
  },
  {
   "cell_type": "code",
   "execution_count": 109,
   "id": "74533d44-e32e-4303-9ca9-594dfdb32474",
   "metadata": {},
   "outputs": [],
   "source": [
    "#16: 16. Q16- Why does the following give an error? Show an example of how to fix it.\n",
    "# 2cars = ('Ferarri', 'Mustang')\n",
    "# Cell In[1], line 1\n",
    "# 2cars = ('Ferarri', 'Mustang') ^\n",
    "# SyntaxError: invalid decimal literal"
   ]
  },
  {
   "cell_type": "code",
   "execution_count": 115,
   "id": "d0c6f80c-7e00-48e1-91f0-b405f8368af6",
   "metadata": {},
   "outputs": [
    {
     "name": "stdout",
     "output_type": "stream",
     "text": [
      "('Ferrari', 'Mustang')\n"
     ]
    }
   ],
   "source": [
    "# A16: The number cannot become before the variable name in Python.\n",
    "# Here is how we can fix it:\n",
    "cars2 = ('Ferrari', 'Mustang')\n",
    "print(cars2)"
   ]
  },
  {
   "cell_type": "code",
   "execution_count": null,
   "id": "0bb112e1-8442-420a-8ee7-a0ff39e0cb00",
   "metadata": {},
   "outputs": [],
   "source": [
    "# Q17: Why does this if statement evaluate to true and do what's in the if body?\n",
    "# You will see this shortcut a lot and it can be confusing as to what is going on.\n",
    "# some_list = ['fizz','buzz',1,{'key':'value'}]\n",
    "# if some_list:\n",
    "# print('Hooray!'"
   ]
  },
  {
   "cell_type": "code",
   "execution_count": 116,
   "id": "1a990caa-9bd6-4215-a124-b4b251b76e8d",
   "metadata": {},
   "outputs": [],
   "source": [
    "# A17: the given condition if some_list: evaluates to True if the list ‘some_list’ is not empty and False if empty. \n",
    "# Since ‘some_list’ contains the condition evaluates to ‘True’ and therefore the print(“Hooray”) statement inside the body will be executed."
   ]
  },
  {
   "cell_type": "code",
   "execution_count": 117,
   "id": "24bc7467-97c9-4fab-88cd-0da787e2bfe3",
   "metadata": {},
   "outputs": [],
   "source": [
    "# Q18: Write an expression that raises one number to the power of 3."
   ]
  },
  {
   "cell_type": "code",
   "execution_count": 118,
   "id": "ce76fe67-e2b4-409b-9faa-dd44eb4a36ea",
   "metadata": {},
   "outputs": [],
   "source": [
    "# A18:\n",
    "num = 3**3"
   ]
  },
  {
   "cell_type": "code",
   "execution_count": 119,
   "id": "5f457015-0abe-466e-b1f3-af8d5245372f",
   "metadata": {},
   "outputs": [],
   "source": [
    "# Q19: How can you change my_var form an int to a str?\n",
    "# my_var = 42"
   ]
  },
  {
   "cell_type": "code",
   "execution_count": 125,
   "id": "eeae69d7-657e-42ed-bee4-b80225a5faab",
   "metadata": {},
   "outputs": [
    {
     "name": "stdout",
     "output_type": "stream",
     "text": [
      "42\n"
     ]
    }
   ],
   "source": [
    "#A19-\n",
    "my_var = 42\n",
    "my_var_str = str(my_var)\n",
    "print((my_var_str)) "
   ]
  },
  {
   "cell_type": "code",
   "execution_count": 126,
   "id": "78dc4b1c-19fb-4bdd-9f16-d9afcd704619",
   "metadata": {},
   "outputs": [],
   "source": [
    "#20- Slice some_string to only include the words lazy.\n",
    "# some_string = \"The quick brown fox jumped over the lazy dog.\""
   ]
  },
  {
   "cell_type": "code",
   "execution_count": 131,
   "id": "28f8ea80-7199-45b1-84a4-a5b753996bd8",
   "metadata": {},
   "outputs": [
    {
     "name": "stdout",
     "output_type": "stream",
     "text": [
      "lazy\n"
     ]
    }
   ],
   "source": [
    "#A20: \n",
    "some_string = \"The quick brown fox jumped over the lazy dog.\"\n",
    "lazy_string = some_string[36:40]\n",
    "print(lazy_string)"
   ]
  },
  {
   "cell_type": "code",
   "execution_count": 132,
   "id": "16aa988b-a5d1-41ea-83d4-43bbb1b372e6",
   "metadata": {},
   "outputs": [],
   "source": [
    "# Q21: \n",
    "#Assign a new variable sport to the 3rd element in the list.\n",
    "# my_favorite_teams= ['Chiefs', 'Cardinals', 'Blues', 'Lakers','Manchester United', 'Couch Surfing']"
   ]
  },
  {
   "cell_type": "code",
   "execution_count": 136,
   "id": "edafa5ec-d1fc-474e-92dd-085a0edee783",
   "metadata": {},
   "outputs": [
    {
     "name": "stdout",
     "output_type": "stream",
     "text": [
      "Blues\n"
     ]
    }
   ],
   "source": [
    "# A21 \n",
    "my_favorite_teams = ['Chiefs', 'Cardinals', 'Blues', 'Lakers', 'Manchester United', 'Couch Surfing']\n",
    "sport = my_favorite_teams[2]\n",
    "print(sport)"
   ]
  },
  {
   "cell_type": "code",
   "execution_count": 137,
   "id": "6b750778-3bf2-4a00-a68a-053fad394717",
   "metadata": {},
   "outputs": [],
   "source": [
    "# Q22 What is the use case for the dir() method"
   ]
  },
  {
   "cell_type": "code",
   "execution_count": 138,
   "id": "06ec2eca-9f59-499a-946a-9351c625054a",
   "metadata": {},
   "outputs": [],
   "source": [
    "#A22:used to return a list of valid attributes and methods, it provides a way to examine the properties of an object including its attributes and related information\n"
   ]
  },
  {
   "cell_type": "code",
   "execution_count": 139,
   "id": "20f78143-5000-4280-9fe1-7b0b41efde3e",
   "metadata": {},
   "outputs": [],
   "source": [
    "#Q23- Write a function that takes in a number and doubles it."
   ]
  },
  {
   "cell_type": "code",
   "execution_count": 142,
   "id": "669a0b97-641e-49a8-9288-3a0d6511b843",
   "metadata": {},
   "outputs": [],
   "source": [
    "#A23- A23- \n",
    "def double_num(num):\n",
    "    return num * 2"
   ]
  },
  {
   "cell_type": "code",
   "execution_count": 143,
   "id": "2b1122b1-c55f-4794-8270-c36bd57bae00",
   "metadata": {},
   "outputs": [],
   "source": [
    "# Bonus Q- Iterate through integers_list and print values that are multiples of 7.\n",
    "# import random\n",
    "# integers_list = [random.randint(0,1000) for i in range(50)] # a list comprehension"
   ]
  },
  {
   "cell_type": "code",
   "execution_count": 168,
   "id": "1d391772-8a2f-4d69-8d6e-9996f33da31b",
   "metadata": {},
   "outputs": [
    {
     "name": "stdout",
     "output_type": "stream",
     "text": [
      "(0, 1000)\n",
      "(0, 1000)\n",
      "(0, 1000)\n",
      "(0, 1000)\n",
      "(0, 1000)\n",
      "(0, 1000)\n",
      "(0, 1000)\n",
      "(0, 1000)\n",
      "(0, 1000)\n",
      "(0, 1000)\n",
      "(0, 1000)\n",
      "(0, 1000)\n",
      "(0, 1000)\n",
      "(0, 1000)\n",
      "(0, 1000)\n",
      "(0, 1000)\n",
      "(0, 1000)\n",
      "(0, 1000)\n",
      "(0, 1000)\n",
      "(0, 1000)\n",
      "(0, 1000)\n",
      "(0, 1000)\n",
      "(0, 1000)\n",
      "(0, 1000)\n",
      "(0, 1000)\n",
      "(0, 1000)\n",
      "(0, 1000)\n",
      "(0, 1000)\n",
      "(0, 1000)\n",
      "(0, 1000)\n",
      "(0, 1000)\n",
      "(0, 1000)\n",
      "(0, 1000)\n",
      "(0, 1000)\n",
      "(0, 1000)\n",
      "(0, 1000)\n",
      "(0, 1000)\n",
      "(0, 1000)\n",
      "(0, 1000)\n",
      "(0, 1000)\n",
      "(0, 1000)\n",
      "(0, 1000)\n",
      "(0, 1000)\n",
      "(0, 1000)\n",
      "(0, 1000)\n",
      "(0, 1000)\n",
      "(0, 1000)\n",
      "(0, 1000)\n",
      "(0, 1000)\n",
      "(0, 1000)\n"
     ]
    }
   ],
   "source": [
    "#A- \n",
    "# integers_list = [random.randint(0, 1000) for i in range(50)] # a list comprehension\n",
    "for num in integers_list:\n",
    "    if \"num % 7 == 0\":\n",
    "        print(num)"
   ]
  },
  {
   "cell_type": "code",
   "execution_count": null,
   "id": "11774c5e-b63a-498e-81ba-15582c4d6d69",
   "metadata": {},
   "outputs": [],
   "source": []
  }
 ],
 "metadata": {
  "kernelspec": {
   "display_name": "Python 3 (ipykernel)",
   "language": "python",
   "name": "python3"
  },
  "language_info": {
   "codemirror_mode": {
    "name": "ipython",
    "version": 3
   },
   "file_extension": ".py",
   "mimetype": "text/x-python",
   "name": "python",
   "nbconvert_exporter": "python",
   "pygments_lexer": "ipython3",
   "version": "3.12.1"
  }
 },
 "nbformat": 4,
 "nbformat_minor": 5
}
