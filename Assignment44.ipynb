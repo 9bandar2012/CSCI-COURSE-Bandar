{
 "cells": [
  {
   "cell_type": "code",
   "execution_count": 138,
   "id": "31f7ccaf-d2a4-4f9f-82a7-4da0141925c2",
   "metadata": {},
   "outputs": [
    {
     "data": {
      "text/html": [
       "<div>\n",
       "<style scoped>\n",
       "    .dataframe tbody tr th:only-of-type {\n",
       "        vertical-align: middle;\n",
       "    }\n",
       "\n",
       "    .dataframe tbody tr th {\n",
       "        vertical-align: top;\n",
       "    }\n",
       "\n",
       "    .dataframe thead th {\n",
       "        text-align: right;\n",
       "    }\n",
       "</style>\n",
       "<table border=\"1\" class=\"dataframe\">\n",
       "  <thead>\n",
       "    <tr style=\"text-align: right;\">\n",
       "      <th></th>\n",
       "      <th>Timestamp</th>\n",
       "      <th>What is your name?</th>\n",
       "      <th>What state/country were you born in?</th>\n",
       "      <th>Are you working while in school?</th>\n",
       "      <th>How much experience do you have programming?</th>\n",
       "      <th>What class are you in?</th>\n",
       "      <th>How many siblings do you have?</th>\n",
       "      <th>How many pets and of which kind do you have?</th>\n",
       "      <th>What is your favorite type of food?</th>\n",
       "      <th>Where do you live?</th>\n",
       "      <th>Do you take the metro?</th>\n",
       "      <th>What is your major?</th>\n",
       "      <th>How old are you?</th>\n",
       "      <th>What is your favorite TV show?</th>\n",
       "      <th>What is your favorite video game?</th>\n",
       "      <th>What is your favorite book?</th>\n",
       "      <th>Why are you taking this class?</th>\n",
       "      <th>Whats your favorite bash command?</th>\n",
       "    </tr>\n",
       "  </thead>\n",
       "  <tbody>\n",
       "    <tr>\n",
       "      <th>0</th>\n",
       "      <td>2024/01/29 6:34:23 PM CST</td>\n",
       "      <td>Gavin Edwards</td>\n",
       "      <td>Missouri</td>\n",
       "      <td>Yes</td>\n",
       "      <td>6 months - 1 year</td>\n",
       "      <td>Freshman</td>\n",
       "      <td>1</td>\n",
       "      <td>I have two dogs both chihuahua mixes.</td>\n",
       "      <td>Pasta but fish is a close second.</td>\n",
       "      <td>On campus</td>\n",
       "      <td>No</td>\n",
       "      <td>Data Science</td>\n",
       "      <td>18</td>\n",
       "      <td>Breaking Bad</td>\n",
       "      <td>Rocket League</td>\n",
       "      <td>The Scythe series</td>\n",
       "      <td>Its a requirement for the data science major.</td>\n",
       "      <td>ls</td>\n",
       "    </tr>\n",
       "    <tr>\n",
       "      <th>1</th>\n",
       "      <td>2024/01/29 6:46:07 PM CST</td>\n",
       "      <td>NaN</td>\n",
       "      <td>Saint Louis, Missouri</td>\n",
       "      <td>Yes</td>\n",
       "      <td>0-3 months</td>\n",
       "      <td>Freshman</td>\n",
       "      <td>2</td>\n",
       "      <td>0</td>\n",
       "      <td>Hot wings</td>\n",
       "      <td>Off campus</td>\n",
       "      <td>No</td>\n",
       "      <td>Nursing</td>\n",
       "      <td>19</td>\n",
       "      <td>Criminal Minds</td>\n",
       "      <td>Valorant</td>\n",
       "      <td>A Little life by Hanya Yanaghara</td>\n",
       "      <td>I have an interest in programming. I enjoy lea...</td>\n",
       "      <td>NaN</td>\n",
       "    </tr>\n",
       "    <tr>\n",
       "      <th>2</th>\n",
       "      <td>2024/01/29 7:45:39 PM CST</td>\n",
       "      <td>Connor Love</td>\n",
       "      <td>Illinois</td>\n",
       "      <td>No</td>\n",
       "      <td>0-3 months</td>\n",
       "      <td>Freshman</td>\n",
       "      <td>1</td>\n",
       "      <td>I have two golden retrievers, Ellie and Amber....</td>\n",
       "      <td>Mexican.</td>\n",
       "      <td>On campus</td>\n",
       "      <td>No</td>\n",
       "      <td>Economics and Finance.</td>\n",
       "      <td>19</td>\n",
       "      <td>The Wire.</td>\n",
       "      <td>Pokémon White 2.</td>\n",
       "      <td>\"Surprised by Joy\" by C. S. Lewis.</td>\n",
       "      <td>Transfer course requirements for the Universit...</td>\n",
       "      <td>&lt;git push&gt; by far, too satisfying.</td>\n",
       "    </tr>\n",
       "    <tr>\n",
       "      <th>3</th>\n",
       "      <td>2024/01/29 7:47:12 PM CST</td>\n",
       "      <td>Liam</td>\n",
       "      <td>Missouri</td>\n",
       "      <td>Yes</td>\n",
       "      <td>0-3 months</td>\n",
       "      <td>Freshman</td>\n",
       "      <td>1</td>\n",
       "      <td>0</td>\n",
       "      <td>Vietnamese</td>\n",
       "      <td>Off campus</td>\n",
       "      <td>No</td>\n",
       "      <td>Biochemistry</td>\n",
       "      <td>18</td>\n",
       "      <td>NaN</td>\n",
       "      <td>NaN</td>\n",
       "      <td>NaN</td>\n",
       "      <td>Applicability</td>\n",
       "      <td>NaN</td>\n",
       "    </tr>\n",
       "    <tr>\n",
       "      <th>4</th>\n",
       "      <td>2024/01/29 10:45:38 PM CST</td>\n",
       "      <td>Aarushi Choudhary</td>\n",
       "      <td>Japan</td>\n",
       "      <td>Yes</td>\n",
       "      <td>0-3 months</td>\n",
       "      <td>Freshman</td>\n",
       "      <td>1</td>\n",
       "      <td>No pets</td>\n",
       "      <td>Pasta</td>\n",
       "      <td>On campus</td>\n",
       "      <td>Yes</td>\n",
       "      <td>Health Sciences</td>\n",
       "      <td>18</td>\n",
       "      <td>NaN</td>\n",
       "      <td>Spiderman 2</td>\n",
       "      <td>NaN</td>\n",
       "      <td>I'm trying to get a minor in data science</td>\n",
       "      <td>ls</td>\n",
       "    </tr>\n",
       "    <tr>\n",
       "      <th>5</th>\n",
       "      <td>2024/01/29 10:55:40 PM CST</td>\n",
       "      <td>Noel Zerai</td>\n",
       "      <td>Missouri</td>\n",
       "      <td>Yes</td>\n",
       "      <td>0-3 months</td>\n",
       "      <td>Freshman</td>\n",
       "      <td>2</td>\n",
       "      <td>none</td>\n",
       "      <td>injera</td>\n",
       "      <td>On campus</td>\n",
       "      <td>No</td>\n",
       "      <td>comp sci</td>\n",
       "      <td>19</td>\n",
       "      <td>on my block</td>\n",
       "      <td>assassins creed origins</td>\n",
       "      <td>kite runner</td>\n",
       "      <td>just as an intro to my desired career.</td>\n",
       "      <td>ls</td>\n",
       "    </tr>\n",
       "    <tr>\n",
       "      <th>6</th>\n",
       "      <td>2024/01/29 11:50:50 PM CST</td>\n",
       "      <td>Kine Thiam</td>\n",
       "      <td>United States</td>\n",
       "      <td>Yes</td>\n",
       "      <td>0-3 months</td>\n",
       "      <td>Freshman</td>\n",
       "      <td>5+</td>\n",
       "      <td>0</td>\n",
       "      <td>PASTAAAAA</td>\n",
       "      <td>On campus</td>\n",
       "      <td>Yes</td>\n",
       "      <td>It was pre medicine therefore biology but I de...</td>\n",
       "      <td>18</td>\n",
       "      <td>Reign</td>\n",
       "      <td>It takes two</td>\n",
       "      <td>Wonder</td>\n",
       "      <td>At first it was to see if I’d like computer sc...</td>\n",
       "      <td>NaN</td>\n",
       "    </tr>\n",
       "    <tr>\n",
       "      <th>7</th>\n",
       "      <td>2024/01/30 5:24:37 PM CST</td>\n",
       "      <td>Bandar Aldhahri</td>\n",
       "      <td>Saudi Arabia</td>\n",
       "      <td>Yes</td>\n",
       "      <td>0-3 months</td>\n",
       "      <td>Junior</td>\n",
       "      <td>5+</td>\n",
       "      <td>0</td>\n",
       "      <td>Kabsa</td>\n",
       "      <td>Off campus</td>\n",
       "      <td>No</td>\n",
       "      <td>Criminology and Criminal Justice and I am plan...</td>\n",
       "      <td>NaN</td>\n",
       "      <td>Breaking Bad</td>\n",
       "      <td>FIFA - Soccer</td>\n",
       "      <td>NaN</td>\n",
       "      <td>I am planing to get a master degree in CyberSe...</td>\n",
       "      <td>until  now is pwd</td>\n",
       "    </tr>\n",
       "    <tr>\n",
       "      <th>8</th>\n",
       "      <td>2024/01/31 10:44:53 AM CST</td>\n",
       "      <td>Aida Bah</td>\n",
       "      <td>Minnesota</td>\n",
       "      <td>Yes</td>\n",
       "      <td>0-3 months</td>\n",
       "      <td>Freshman</td>\n",
       "      <td>2</td>\n",
       "      <td>0</td>\n",
       "      <td>Gambian Food</td>\n",
       "      <td>On campus</td>\n",
       "      <td>Yes</td>\n",
       "      <td>Computer Science</td>\n",
       "      <td>18</td>\n",
       "      <td>NaN</td>\n",
       "      <td>NaN</td>\n",
       "      <td>Dead End Memories - Banana Yoshimoto</td>\n",
       "      <td>For my major, to learn python</td>\n",
       "      <td>tree</td>\n",
       "    </tr>\n",
       "    <tr>\n",
       "      <th>9</th>\n",
       "      <td>2024/01/31 6:34:07 PM CST</td>\n",
       "      <td>Kevin Patel</td>\n",
       "      <td>India</td>\n",
       "      <td>No</td>\n",
       "      <td>0-3 months</td>\n",
       "      <td>Senior</td>\n",
       "      <td>0</td>\n",
       "      <td>NaN</td>\n",
       "      <td>Italian</td>\n",
       "      <td>Off campus</td>\n",
       "      <td>No</td>\n",
       "      <td>Finance</td>\n",
       "      <td>21</td>\n",
       "      <td>Peaky Blinders</td>\n",
       "      <td>Warzone</td>\n",
       "      <td>The Great Gatsby</td>\n",
       "      <td>To learn the basics of python to help me stand...</td>\n",
       "      <td>'cd'</td>\n",
       "    </tr>\n",
       "    <tr>\n",
       "      <th>10</th>\n",
       "      <td>2024/01/31 7:18:31 PM CST</td>\n",
       "      <td>Brady Loehr</td>\n",
       "      <td>Missouri</td>\n",
       "      <td>No</td>\n",
       "      <td>0-3 months</td>\n",
       "      <td>Sophomore</td>\n",
       "      <td>1</td>\n",
       "      <td>We have a Husky named Maverick</td>\n",
       "      <td>some sort of steak, probably a filet mignon</td>\n",
       "      <td>On campus</td>\n",
       "      <td>No</td>\n",
       "      <td>Mathematics</td>\n",
       "      <td>19 turning 20 on February 28</td>\n",
       "      <td>all time: How to Get Away with Murder. still r...</td>\n",
       "      <td>currently Madden</td>\n",
       "      <td>haven't read for fun in years but the I am Num...</td>\n",
       "      <td>data science minor requirement</td>\n",
       "      <td>jupyter notebook</td>\n",
       "    </tr>\n",
       "    <tr>\n",
       "      <th>11</th>\n",
       "      <td>2024/01/31 7:19:58 PM CST</td>\n",
       "      <td>Wyatt Schmitz</td>\n",
       "      <td>New Mexico</td>\n",
       "      <td>Yes</td>\n",
       "      <td>0-3 months</td>\n",
       "      <td>Freshman</td>\n",
       "      <td>1</td>\n",
       "      <td>None ):</td>\n",
       "      <td>Burgers (blue cheese)</td>\n",
       "      <td>Off campus</td>\n",
       "      <td>No</td>\n",
       "      <td>International Business (Graduated)</td>\n",
       "      <td>22</td>\n",
       "      <td>Better Call Saul</td>\n",
       "      <td>Super Mario Galaxy</td>\n",
       "      <td>The Man in the High Castle</td>\n",
       "      <td>Foundation in Computer Science. I want to expa...</td>\n",
       "      <td>NaN</td>\n",
       "    </tr>\n",
       "    <tr>\n",
       "      <th>12</th>\n",
       "      <td>2024/01/31 7:20:10 PM CST</td>\n",
       "      <td>Alec Arnold</td>\n",
       "      <td>United States, Missouri</td>\n",
       "      <td>No</td>\n",
       "      <td>4-6 months</td>\n",
       "      <td>Freshman</td>\n",
       "      <td>1</td>\n",
       "      <td>2 miniature daschund dogs</td>\n",
       "      <td>grilled chicken</td>\n",
       "      <td>On campus</td>\n",
       "      <td>No</td>\n",
       "      <td>computer science</td>\n",
       "      <td>18</td>\n",
       "      <td>black mirror</td>\n",
       "      <td>valorant</td>\n",
       "      <td>catch22</td>\n",
       "      <td>credit for major</td>\n",
       "      <td>jupyter notebook</td>\n",
       "    </tr>\n",
       "    <tr>\n",
       "      <th>13</th>\n",
       "      <td>2024/01/31 7:20:54 PM CST</td>\n",
       "      <td>Tori Willis</td>\n",
       "      <td>Missouri</td>\n",
       "      <td>Yes</td>\n",
       "      <td>1-2 years</td>\n",
       "      <td>Sophomore</td>\n",
       "      <td>5+</td>\n",
       "      <td>none</td>\n",
       "      <td>pasta</td>\n",
       "      <td>Off campus</td>\n",
       "      <td>No</td>\n",
       "      <td>Computer Science</td>\n",
       "      <td>19</td>\n",
       "      <td>Nothing at the moment</td>\n",
       "      <td>Predecessor</td>\n",
       "      <td>Nothing at the moment</td>\n",
       "      <td>I want to be a better programmer.</td>\n",
       "      <td>cd</td>\n",
       "    </tr>\n",
       "    <tr>\n",
       "      <th>14</th>\n",
       "      <td>2024/01/31 7:21:43 PM CST</td>\n",
       "      <td>Giovanni Loftis</td>\n",
       "      <td>Missouri</td>\n",
       "      <td>Yes</td>\n",
       "      <td>0-3 months</td>\n",
       "      <td>Sophomore</td>\n",
       "      <td>4</td>\n",
       "      <td>1 Maincoon</td>\n",
       "      <td>salmon</td>\n",
       "      <td>Off campus</td>\n",
       "      <td>No</td>\n",
       "      <td>data science</td>\n",
       "      <td>20</td>\n",
       "      <td>Atlanta</td>\n",
       "      <td>fallout new Vegas</td>\n",
       "      <td>catch 22</td>\n",
       "      <td>required</td>\n",
       "      <td>mkdir</td>\n",
       "    </tr>\n",
       "    <tr>\n",
       "      <th>15</th>\n",
       "      <td>2024/01/31 7:22:36 PM CST</td>\n",
       "      <td>Nithya Bollineni</td>\n",
       "      <td>Missouri/U.S</td>\n",
       "      <td>No</td>\n",
       "      <td>0-3 months</td>\n",
       "      <td>Freshman</td>\n",
       "      <td>1</td>\n",
       "      <td>NaN</td>\n",
       "      <td>I don't have a favorite</td>\n",
       "      <td>On campus</td>\n",
       "      <td>No</td>\n",
       "      <td>Forensic Science</td>\n",
       "      <td>18</td>\n",
       "      <td>I can't choose</td>\n",
       "      <td>Fortnite</td>\n",
       "      <td>Karen M. McManus books</td>\n",
       "      <td>For my minor and as a backup for a potential c...</td>\n",
       "      <td>ls</td>\n",
       "    </tr>\n",
       "    <tr>\n",
       "      <th>16</th>\n",
       "      <td>2024/01/31 7:22:58 PM CST</td>\n",
       "      <td>Jacob Montes-Sabino</td>\n",
       "      <td>Georgia, USA</td>\n",
       "      <td>No</td>\n",
       "      <td>0-3 months</td>\n",
       "      <td>Junior</td>\n",
       "      <td>2</td>\n",
       "      <td>0</td>\n",
       "      <td>Pasta</td>\n",
       "      <td>Off campus</td>\n",
       "      <td>No</td>\n",
       "      <td>Computer Science</td>\n",
       "      <td>21</td>\n",
       "      <td>How I Met Your Mother</td>\n",
       "      <td>FIFA</td>\n",
       "      <td>Harry Potter and the Sorcerer's Stone</td>\n",
       "      <td>Major requirement</td>\n",
       "      <td>NaN</td>\n",
       "    </tr>\n",
       "    <tr>\n",
       "      <th>17</th>\n",
       "      <td>2024/01/31 7:23:13 PM CST</td>\n",
       "      <td>Will Naftzger</td>\n",
       "      <td>Illinois</td>\n",
       "      <td>Yes</td>\n",
       "      <td>0-3 months</td>\n",
       "      <td>Sophomore</td>\n",
       "      <td>2</td>\n",
       "      <td>My french bulldog just passed away a few month...</td>\n",
       "      <td>mexican/middleastern</td>\n",
       "      <td>On campus</td>\n",
       "      <td>Yes</td>\n",
       "      <td>Data Science</td>\n",
       "      <td>19</td>\n",
       "      <td>Breaking Bad</td>\n",
       "      <td>The Finals</td>\n",
       "      <td>Wool</td>\n",
       "      <td>I need it for data science</td>\n",
       "      <td>cd</td>\n",
       "    </tr>\n",
       "    <tr>\n",
       "      <th>18</th>\n",
       "      <td>2024/01/31 7:25:03 PM CST</td>\n",
       "      <td>Nora El-Ruwie</td>\n",
       "      <td>Benghazi, Libya</td>\n",
       "      <td>Yes</td>\n",
       "      <td>0-3 months</td>\n",
       "      <td>Freshman</td>\n",
       "      <td>3</td>\n",
       "      <td>2 cats and 1 dog</td>\n",
       "      <td>Brownies</td>\n",
       "      <td>Off campus</td>\n",
       "      <td>No</td>\n",
       "      <td>Computer Science</td>\n",
       "      <td>18</td>\n",
       "      <td>Reign</td>\n",
       "      <td>The Sims</td>\n",
       "      <td>The Throne of Glass series by Sarah J. Maas</td>\n",
       "      <td>To start building a foundation in code, especi...</td>\n",
       "      <td>ls, it's been the most useful command so far a...</td>\n",
       "    </tr>\n",
       "    <tr>\n",
       "      <th>19</th>\n",
       "      <td>2024/01/31 7:25:54 PM CST</td>\n",
       "      <td>Darryl Franks</td>\n",
       "      <td>Missouri</td>\n",
       "      <td>No</td>\n",
       "      <td>6 months - 1 year</td>\n",
       "      <td>Freshman</td>\n",
       "      <td>2</td>\n",
       "      <td>No pets</td>\n",
       "      <td>Pizza or Steak</td>\n",
       "      <td>On campus</td>\n",
       "      <td>No</td>\n",
       "      <td>Computer Sci</td>\n",
       "      <td>18 years old</td>\n",
       "      <td>The Vampire Diaries</td>\n",
       "      <td>Any Nba 2k game</td>\n",
       "      <td>Percy Jackson the lighting thief</td>\n",
       "      <td>I want to be able to do my major. Started of w...</td>\n",
       "      <td>Don't have one yet</td>\n",
       "    </tr>\n",
       "  </tbody>\n",
       "</table>\n",
       "</div>"
      ],
      "text/plain": [
       "                     Timestamp   What is your name?  \\\n",
       "0    2024/01/29 6:34:23 PM CST        Gavin Edwards   \n",
       "1    2024/01/29 6:46:07 PM CST                  NaN   \n",
       "2    2024/01/29 7:45:39 PM CST          Connor Love   \n",
       "3    2024/01/29 7:47:12 PM CST                 Liam   \n",
       "4   2024/01/29 10:45:38 PM CST    Aarushi Choudhary   \n",
       "5   2024/01/29 10:55:40 PM CST           Noel Zerai   \n",
       "6   2024/01/29 11:50:50 PM CST           Kine Thiam   \n",
       "7    2024/01/30 5:24:37 PM CST      Bandar Aldhahri   \n",
       "8   2024/01/31 10:44:53 AM CST             Aida Bah   \n",
       "9    2024/01/31 6:34:07 PM CST          Kevin Patel   \n",
       "10   2024/01/31 7:18:31 PM CST          Brady Loehr   \n",
       "11   2024/01/31 7:19:58 PM CST        Wyatt Schmitz   \n",
       "12   2024/01/31 7:20:10 PM CST          Alec Arnold   \n",
       "13   2024/01/31 7:20:54 PM CST          Tori Willis   \n",
       "14   2024/01/31 7:21:43 PM CST      Giovanni Loftis   \n",
       "15   2024/01/31 7:22:36 PM CST     Nithya Bollineni   \n",
       "16   2024/01/31 7:22:58 PM CST  Jacob Montes-Sabino   \n",
       "17   2024/01/31 7:23:13 PM CST        Will Naftzger   \n",
       "18   2024/01/31 7:25:03 PM CST        Nora El-Ruwie   \n",
       "19   2024/01/31 7:25:54 PM CST        Darryl Franks   \n",
       "\n",
       "   What state/country were you born in? Are you working while in school?  \\\n",
       "0                              Missouri                              Yes   \n",
       "1                 Saint Louis, Missouri                              Yes   \n",
       "2                              Illinois                               No   \n",
       "3                              Missouri                              Yes   \n",
       "4                                 Japan                              Yes   \n",
       "5                              Missouri                              Yes   \n",
       "6                         United States                              Yes   \n",
       "7                          Saudi Arabia                              Yes   \n",
       "8                             Minnesota                              Yes   \n",
       "9                                 India                               No   \n",
       "10                             Missouri                               No   \n",
       "11                           New Mexico                              Yes   \n",
       "12              United States, Missouri                               No   \n",
       "13                             Missouri                              Yes   \n",
       "14                             Missouri                              Yes   \n",
       "15                         Missouri/U.S                               No   \n",
       "16                         Georgia, USA                               No   \n",
       "17                             Illinois                              Yes   \n",
       "18                      Benghazi, Libya                              Yes   \n",
       "19                             Missouri                               No   \n",
       "\n",
       "   How much experience do you have programming? What class are you in?   \\\n",
       "0                             6 months - 1 year                Freshman   \n",
       "1                                    0-3 months                Freshman   \n",
       "2                                    0-3 months                Freshman   \n",
       "3                                    0-3 months                Freshman   \n",
       "4                                    0-3 months                Freshman   \n",
       "5                                    0-3 months                Freshman   \n",
       "6                                    0-3 months                Freshman   \n",
       "7                                    0-3 months                  Junior   \n",
       "8                                    0-3 months                Freshman   \n",
       "9                                    0-3 months                  Senior   \n",
       "10                                   0-3 months               Sophomore   \n",
       "11                                   0-3 months                Freshman   \n",
       "12                                   4-6 months                Freshman   \n",
       "13                                    1-2 years               Sophomore   \n",
       "14                                   0-3 months               Sophomore   \n",
       "15                                   0-3 months                Freshman   \n",
       "16                                   0-3 months                  Junior   \n",
       "17                                   0-3 months               Sophomore   \n",
       "18                                   0-3 months                Freshman   \n",
       "19                            6 months - 1 year                Freshman   \n",
       "\n",
       "   How many siblings do you have?  \\\n",
       "0                               1   \n",
       "1                               2   \n",
       "2                               1   \n",
       "3                               1   \n",
       "4                               1   \n",
       "5                               2   \n",
       "6                              5+   \n",
       "7                              5+   \n",
       "8                               2   \n",
       "9                               0   \n",
       "10                              1   \n",
       "11                              1   \n",
       "12                              1   \n",
       "13                             5+   \n",
       "14                              4   \n",
       "15                              1   \n",
       "16                              2   \n",
       "17                              2   \n",
       "18                              3   \n",
       "19                              2   \n",
       "\n",
       "         How many pets and of which kind do you have?  \\\n",
       "0               I have two dogs both chihuahua mixes.   \n",
       "1                                                   0   \n",
       "2   I have two golden retrievers, Ellie and Amber....   \n",
       "3                                                   0   \n",
       "4                                             No pets   \n",
       "5                                                none   \n",
       "6                                                   0   \n",
       "7                                                   0   \n",
       "8                                                   0   \n",
       "9                                                 NaN   \n",
       "10                     We have a Husky named Maverick   \n",
       "11                                            None ):   \n",
       "12                          2 miniature daschund dogs   \n",
       "13                                               none   \n",
       "14                                         1 Maincoon   \n",
       "15                                                NaN   \n",
       "16                                                  0   \n",
       "17  My french bulldog just passed away a few month...   \n",
       "18                                  2 cats and 1 dog    \n",
       "19                                           No pets    \n",
       "\n",
       "            What is your favorite type of food? Where do you live?  \\\n",
       "0             Pasta but fish is a close second.          On campus   \n",
       "1                                     Hot wings         Off campus   \n",
       "2                                      Mexican.          On campus   \n",
       "3                                    Vietnamese         Off campus   \n",
       "4                                         Pasta          On campus   \n",
       "5                                        injera          On campus   \n",
       "6                                     PASTAAAAA          On campus   \n",
       "7                                        Kabsa          Off campus   \n",
       "8                                  Gambian Food          On campus   \n",
       "9                                       Italian         Off campus   \n",
       "10  some sort of steak, probably a filet mignon          On campus   \n",
       "11                        Burgers (blue cheese)         Off campus   \n",
       "12                              grilled chicken          On campus   \n",
       "13                                        pasta         Off campus   \n",
       "14                                       salmon         Off campus   \n",
       "15                      I don't have a favorite          On campus   \n",
       "16                                        Pasta         Off campus   \n",
       "17                         mexican/middleastern          On campus   \n",
       "18                                     Brownies         Off campus   \n",
       "19                               Pizza or Steak          On campus   \n",
       "\n",
       "   Do you take the metro?                                What is your major?  \\\n",
       "0                      No                                      Data Science    \n",
       "1                      No                                            Nursing   \n",
       "2                      No                             Economics and Finance.   \n",
       "3                      No                                       Biochemistry   \n",
       "4                     Yes                                    Health Sciences   \n",
       "5                      No                                           comp sci   \n",
       "6                     Yes  It was pre medicine therefore biology but I de...   \n",
       "7                      No  Criminology and Criminal Justice and I am plan...   \n",
       "8                     Yes                                   Computer Science   \n",
       "9                      No                                            Finance   \n",
       "10                     No                                        Mathematics   \n",
       "11                     No                 International Business (Graduated)   \n",
       "12                     No                                   computer science   \n",
       "13                     No                                   Computer Science   \n",
       "14                     No                                       data science   \n",
       "15                     No                                   Forensic Science   \n",
       "16                     No                                   Computer Science   \n",
       "17                    Yes                                       Data Science   \n",
       "18                     No                                  Computer Science    \n",
       "19                     No                                       Computer Sci   \n",
       "\n",
       "                How old are you?  \\\n",
       "0                             18   \n",
       "1                             19   \n",
       "2                             19   \n",
       "3                             18   \n",
       "4                             18   \n",
       "5                             19   \n",
       "6                             18   \n",
       "7                            NaN   \n",
       "8                             18   \n",
       "9                             21   \n",
       "10  19 turning 20 on February 28   \n",
       "11                            22   \n",
       "12                            18   \n",
       "13                            19   \n",
       "14                            20   \n",
       "15                            18   \n",
       "16                            21   \n",
       "17                            19   \n",
       "18                            18   \n",
       "19                  18 years old   \n",
       "\n",
       "                       What is your favorite TV show?  \\\n",
       "0                                        Breaking Bad   \n",
       "1                                      Criminal Minds   \n",
       "2                                           The Wire.   \n",
       "3                                                 NaN   \n",
       "4                                                 NaN   \n",
       "5                                         on my block   \n",
       "6                                               Reign   \n",
       "7                                        Breaking Bad   \n",
       "8                                                 NaN   \n",
       "9                                      Peaky Blinders   \n",
       "10  all time: How to Get Away with Murder. still r...   \n",
       "11                                  Better Call Saul    \n",
       "12                                       black mirror   \n",
       "13                              Nothing at the moment   \n",
       "14                                            Atlanta   \n",
       "15                                     I can't choose   \n",
       "16                              How I Met Your Mother   \n",
       "17                                       Breaking Bad   \n",
       "18                                             Reign    \n",
       "19                                The Vampire Diaries   \n",
       "\n",
       "   What is your favorite video game?  \\\n",
       "0                      Rocket League   \n",
       "1                           Valorant   \n",
       "2                   Pokémon White 2.   \n",
       "3                                NaN   \n",
       "4                        Spiderman 2   \n",
       "5            assassins creed origins   \n",
       "6                       It takes two   \n",
       "7                     FIFA - Soccer    \n",
       "8                                NaN   \n",
       "9                            Warzone   \n",
       "10                  currently Madden   \n",
       "11               Super Mario Galaxy    \n",
       "12                          valorant   \n",
       "13                       Predecessor   \n",
       "14                 fallout new Vegas   \n",
       "15                          Fortnite   \n",
       "16                              FIFA   \n",
       "17                        The Finals   \n",
       "18                          The Sims   \n",
       "19                   Any Nba 2k game   \n",
       "\n",
       "                          What is your favorite book?  \\\n",
       "0                                   The Scythe series   \n",
       "1                    A Little life by Hanya Yanaghara   \n",
       "2                  \"Surprised by Joy\" by C. S. Lewis.   \n",
       "3                                                 NaN   \n",
       "4                                                 NaN   \n",
       "5                                         kite runner   \n",
       "6                                              Wonder   \n",
       "7                                                 NaN   \n",
       "8                Dead End Memories - Banana Yoshimoto   \n",
       "9                                    The Great Gatsby   \n",
       "10  haven't read for fun in years but the I am Num...   \n",
       "11                        The Man in the High Castle    \n",
       "12                                            catch22   \n",
       "13                              Nothing at the moment   \n",
       "14                                           catch 22   \n",
       "15                             Karen M. McManus books   \n",
       "16              Harry Potter and the Sorcerer's Stone   \n",
       "17                                               Wool   \n",
       "18        The Throne of Glass series by Sarah J. Maas   \n",
       "19                  Percy Jackson the lighting thief    \n",
       "\n",
       "                      Why are you taking this class?   \\\n",
       "0       Its a requirement for the data science major.   \n",
       "1   I have an interest in programming. I enjoy lea...   \n",
       "2   Transfer course requirements for the Universit...   \n",
       "3                                       Applicability   \n",
       "4           I'm trying to get a minor in data science   \n",
       "5              just as an intro to my desired career.   \n",
       "6   At first it was to see if I’d like computer sc...   \n",
       "7   I am planing to get a master degree in CyberSe...   \n",
       "8                      For my major, to learn python    \n",
       "9   To learn the basics of python to help me stand...   \n",
       "10                     data science minor requirement   \n",
       "11  Foundation in Computer Science. I want to expa...   \n",
       "12                                   credit for major   \n",
       "13                  I want to be a better programmer.   \n",
       "14                                           required   \n",
       "15  For my minor and as a backup for a potential c...   \n",
       "16                                  Major requirement   \n",
       "17                         I need it for data science   \n",
       "18  To start building a foundation in code, especi...   \n",
       "19  I want to be able to do my major. Started of w...   \n",
       "\n",
       "                    Whats your favorite bash command?  \n",
       "0                                                  ls  \n",
       "1                                                 NaN  \n",
       "2                  <git push> by far, too satisfying.  \n",
       "3                                                 NaN  \n",
       "4                                                  ls  \n",
       "5                                                ls    \n",
       "6                                                 NaN  \n",
       "7                                   until  now is pwd  \n",
       "8                                                tree  \n",
       "9                                                'cd'  \n",
       "10                                   jupyter notebook  \n",
       "11                                                NaN  \n",
       "12                                   jupyter notebook  \n",
       "13                                                 cd  \n",
       "14                                              mkdir  \n",
       "15                                                 ls  \n",
       "16                                                NaN  \n",
       "17                                                 cd  \n",
       "18  ls, it's been the most useful command so far a...  \n",
       "19                                 Don't have one yet  "
      ]
     },
     "execution_count": 138,
     "metadata": {},
     "output_type": "execute_result"
    }
   ],
   "source": [
    "import pandas as pd\n",
    "import numpy as np\n",
    "\n",
    "df = pd.read_csv(\"CSCI_1070_survey_results_1.csv\")\n",
    "df.head(20)"
   ]
  },
  {
   "cell_type": "code",
   "execution_count": 139,
   "id": "be3fde3d-2c02-4401-9263-ba709312efc1",
   "metadata": {},
   "outputs": [
    {
     "data": {
      "text/plain": [
       "Index(['Timestamp', 'What is your name?',\n",
       "       'What state/country were you born in?',\n",
       "       'Are you working while in school?',\n",
       "       'How much experience do you have programming?',\n",
       "       'What class are you in? ', 'How many siblings do you have?',\n",
       "       'How many pets and of which kind do you have?',\n",
       "       'What is your favorite type of food?', 'Where do you live?',\n",
       "       'Do you take the metro?', 'What is your major?', 'How old are you?',\n",
       "       'What is your favorite TV show?', 'What is your favorite video game?',\n",
       "       'What is your favorite book?', 'Why are you taking this class? ',\n",
       "       'Whats your favorite bash command?'],\n",
       "      dtype='object')"
      ]
     },
     "execution_count": 139,
     "metadata": {},
     "output_type": "execute_result"
    }
   ],
   "source": [
    "df.columns"
   ]
  },
  {
   "cell_type": "code",
   "execution_count": 140,
   "id": "e8938771-b347-4e71-b748-eac01b1666e1",
   "metadata": {},
   "outputs": [],
   "source": [
    "df[\"What is your major?\"] = df[\"What is your major?\"].str.replace(\"It was pre medicine therefore biology but I decided to switch over to computer science because I did not want to endure the tedious amounts of schooling to be a physician and I find software programming to be cool and the future.\", \"Pre Medicine\")\n",
    "df[\"What is your major?\"] = df[\"What is your major?\"].str.replace(\"data science\", \"Data Science\")\n",
    "df[\"What is your major?\"] = df[\"What is your major?\"].str.replace(\"computer science\", \"Computer Science\")\n",
    "df[\"What is your major?\"] = df[\"What is your major?\"].str.replace(\"comp sci\", \"Computer Science\")\n",
    "df[\"What is your major?\"] = df[\"What is your major?\"].str.replace(\"Criminology and Criminal Justice and I am planing to have a minor in CS\", \"Criminology and Criminal Justice\")\n",
    "df[\"What is your major?\"] = df[\"What is your major?\"].str.replace(\".\", \"\")\n",
    "df[\"How many pets and of which kind do you have?\"] = df[\"How many pets and of which kind do you have?\"].str.replace(\"NaN\",\"0\")\n",
    "df[\"How many pets and of which kind do you have?\"] = df[\"How many pets and of which kind do you have?\"].str.replace(\"We have a Husky named Maverick\", \"A dog\")\n",
    "df[\"How many pets and of which kind do you have?\"] = df[\"How many pets and of which kind do you have?\"].str.replace(\"No pets\",\"0\")\n",
    "df[\"How many pets and of which kind do you have?\"] = df[\"How many pets and of which kind do you have?\"].str.replace(\"none\",\"0\")\n",
    "df[\"How many pets and of which kind do you have?\"] = df[\"How many pets and of which kind do you have?\"].str.replace(\"2 miniature daschund dogs\",\"0\")\n",
    "df[\"How many pets and of which kind do you have?\"] = df[\"How many pets and of which kind do you have?\"].str.replace(\"NaN\",\"0\")\n",
    "df[\"How many pets and of which kind do you have?\"] = df[\"How many pets and of which kind do you have?\"].str.replace(\"2 cats and 1 dog\",\"2 Cats, and 1 Dog\")\n",
    "df[\"How many pets and of which kind do you have?\"] = df[\"How many pets and of which kind do you have?\"].str.replace(\"1 Maincoon\",\"A cat\")\n",
    "df[\"How many pets and of which kind do you have?\"] = df[\"How many pets and of which kind do you have?\"].str.replace(\"My french bulldog just passed away a few months ago\",\"0\")\n",
    "df[\"How many pets and of which kind do you have?\"] = df[\"How many pets and of which kind do you have?\"].str.replace(\"I have two golden retrievers, Ellie and Amber. Ellie is ten years young and everything good about life. Amber is two and scared of everything (foster), but Ellie's teaching her that things—even plastic bags—are okay.\",\"2 Dogs\")\n",
    "df[\"How many pets and of which kind do you have?\"] = df[\"How many pets and of which kind do you have?\"].str.replace(\"None ):\",\"0\")\n",
    "df[\"How many pets and of which kind do you have?\"] = df[\"How many pets and of which kind do you have?\"].str.replace(\"I have two dogs both chihuahua mixes.\",\"0\")\n",
    "\n",
    "df[\"What state/country were you born in?\"] = df[\"What state/country were you born in?\"].str.replace(\"Saint Louis, Missouri\", \"Missouri\")\n",
    "df[\"What state/country were you born in?\"] = df[\"What state/country were you born in?\"].str.replace(\"United States, Missouri\", \"Missouri\")\n",
    "df[\"What state/country were you born in?\"] = df[\"What state/country were you born in?\"].str.replace(\"Missouri/U.S\", \"Missouri\")\n",
    "df[\"What state/country were you born in?\"] = df[\"What state/country were you born in?\"].str.replace(\"Georgia, USA\", \"Georgia\")\n",
    "df[\"What state/country were you born in?\"] = df[\"What state/country were you born in?\"].str.replace(\"Benghazi, Libya\", \"Libya\")\n",
    "\n",
    "df[\"What is your favorite type of food?\"] = df[\"What is your favorite type of food?\"].str.replace(\"Pasta but fish is a close second.\",\"Italian Food\")\n",
    "df[\"What is your favorite type of food?\"] = df[\"What is your favorite type of food?\"].str.replace(\"Hot wings\",\"American Food\")\n",
    "df[\"What is your favorite type of food?\"] = df[\"What is your favorite type of food?\"].str.replace(\".\",\"\")\n",
    "df[\"What is your favorite type of food?\"] = df[\"What is your favorite type of food?\"].str.replace(\"Pasta\",\"Italian Food\")\n",
    "df[\"What is your favorite type of food?\"] = df[\"What is your favorite type of food?\"].str.replace(\"injera\",\"Ethiopian Food\")\n",
    "df[\"What is your favorite type of food?\"] = df[\"What is your favorite type of food?\"].str.replace(\"PASTAAAAA\",\"Italian Food\")\n",
    "df[\"What is your favorite type of food?\"] = df[\"What is your favorite type of food?\"].str.replace(\"Kabsa\",\"Saudi Food\")\n",
    "df[\"What is your favorite type of food?\"] = df[\"What is your favorite type of food?\"].str.replace(\"Italian\",\"Italian Food\")\n",
    "df[\"What is your favorite type of food?\"] = df[\"What is your favorite type of food?\"].str.replace(\"some sort of steak, probably a filet mignon\",\"American Food\")\n",
    "df[\"What is your favorite type of food?\"] = df[\"What is your favorite type of food?\"].str.replace(\"Burgers (blue cheese)\",\"American Food\")\n",
    "df[\"What is your favorite type of food?\"] = df[\"What is your favorite type of food?\"].str.replace(\"Peruvian food\",\"Peruvian Food\")\n",
    "df[\"What is your favorite type of food?\"] = df[\"What is your favorite type of food?\"].str.replace(\"salmon\", \"See Food\")\n",
    "df[\"What is your favorite type of food?\"] = df[\"What is your favorite type of food?\"].str.replace(\"I don't have a favorite\", \"All Food\")\n",
    "df[\"What is your favorite type of food?\"] = df[\"What is your favorite type of food?\"].str.replace(\"mexican/middleastern\", \"Mexican & Middleastern\")\n",
    "df[\"What is your favorite type of food?\"] = df[\"What is your favorite type of food?\"].str.replace(\"Brownies\", \"American\")\n",
    "df[\"What is your favorite type of food?\"] = df[\"What is your favorite type of food?\"].str.replace(\"grilled chicken\",\"Middleastern Food\")\n",
    "df[\"What is your favorite type of food?\"] = df[\"What is your favorite type of food?\"].str.replace(\"pasta\", \"Italian Food\")\n",
    "\n",
    "\n",
    "df['How old are you?']=df['How old are you?'].astype(str)\n",
    "df['How old are you?']=df['How old are you?'].replace('19 turning 20 on February 28', '19')\n"
   ]
  },
  {
   "cell_type": "code",
   "execution_count": 141,
   "id": "39ad2d34-cf8b-418b-b22d-4795243c2683",
   "metadata": {},
   "outputs": [
    {
     "data": {
      "text/html": [
       "<div>\n",
       "<style scoped>\n",
       "    .dataframe tbody tr th:only-of-type {\n",
       "        vertical-align: middle;\n",
       "    }\n",
       "\n",
       "    .dataframe tbody tr th {\n",
       "        vertical-align: top;\n",
       "    }\n",
       "\n",
       "    .dataframe thead th {\n",
       "        text-align: right;\n",
       "    }\n",
       "</style>\n",
       "<table border=\"1\" class=\"dataframe\">\n",
       "  <thead>\n",
       "    <tr style=\"text-align: right;\">\n",
       "      <th></th>\n",
       "      <th>Timestamp</th>\n",
       "      <th>What is your name?</th>\n",
       "      <th>What state/country were you born in?</th>\n",
       "      <th>Are you working while in school?</th>\n",
       "      <th>How much experience do you have programming?</th>\n",
       "      <th>What class are you in?</th>\n",
       "      <th>How many siblings do you have?</th>\n",
       "      <th>How many pets and of which kind do you have?</th>\n",
       "      <th>What is your favorite type of food?</th>\n",
       "      <th>Where do you live?</th>\n",
       "      <th>Do you take the metro?</th>\n",
       "      <th>What is your major?</th>\n",
       "      <th>How old are you?</th>\n",
       "      <th>What is your favorite TV show?</th>\n",
       "      <th>What is your favorite video game?</th>\n",
       "      <th>What is your favorite book?</th>\n",
       "      <th>Why are you taking this class?</th>\n",
       "      <th>Whats your favorite bash command?</th>\n",
       "    </tr>\n",
       "  </thead>\n",
       "  <tbody>\n",
       "    <tr>\n",
       "      <th>0</th>\n",
       "      <td>2024/01/29 6:34:23 PM CST</td>\n",
       "      <td>Gavin Edwards</td>\n",
       "      <td>Missouri</td>\n",
       "      <td>Yes</td>\n",
       "      <td>6 months - 1 year</td>\n",
       "      <td>Freshman</td>\n",
       "      <td>1</td>\n",
       "      <td>0</td>\n",
       "      <td>Italian Food Food</td>\n",
       "      <td>On campus</td>\n",
       "      <td>No</td>\n",
       "      <td>Data Science</td>\n",
       "      <td>18</td>\n",
       "      <td>Breaking Bad</td>\n",
       "      <td>Rocket League</td>\n",
       "      <td>The Scythe series</td>\n",
       "      <td>Its a requirement for the data science major.</td>\n",
       "      <td>ls</td>\n",
       "    </tr>\n",
       "    <tr>\n",
       "      <th>1</th>\n",
       "      <td>2024/01/29 6:46:07 PM CST</td>\n",
       "      <td>NaN</td>\n",
       "      <td>Missouri</td>\n",
       "      <td>Yes</td>\n",
       "      <td>0-3 months</td>\n",
       "      <td>Freshman</td>\n",
       "      <td>2</td>\n",
       "      <td>0</td>\n",
       "      <td>American Food</td>\n",
       "      <td>Off campus</td>\n",
       "      <td>No</td>\n",
       "      <td>Nursing</td>\n",
       "      <td>19</td>\n",
       "      <td>Criminal Minds</td>\n",
       "      <td>Valorant</td>\n",
       "      <td>A Little life by Hanya Yanaghara</td>\n",
       "      <td>I have an interest in programming. I enjoy lea...</td>\n",
       "      <td>NaN</td>\n",
       "    </tr>\n",
       "    <tr>\n",
       "      <th>2</th>\n",
       "      <td>2024/01/29 7:45:39 PM CST</td>\n",
       "      <td>Connor Love</td>\n",
       "      <td>Illinois</td>\n",
       "      <td>No</td>\n",
       "      <td>0-3 months</td>\n",
       "      <td>Freshman</td>\n",
       "      <td>1</td>\n",
       "      <td>2 Dogs</td>\n",
       "      <td>Mexican</td>\n",
       "      <td>On campus</td>\n",
       "      <td>No</td>\n",
       "      <td>Economics and Finance</td>\n",
       "      <td>19</td>\n",
       "      <td>The Wire.</td>\n",
       "      <td>Pokémon White 2.</td>\n",
       "      <td>\"Surprised by Joy\" by C. S. Lewis.</td>\n",
       "      <td>Transfer course requirements for the Universit...</td>\n",
       "      <td>&lt;git push&gt; by far, too satisfying.</td>\n",
       "    </tr>\n",
       "    <tr>\n",
       "      <th>3</th>\n",
       "      <td>2024/01/29 7:47:12 PM CST</td>\n",
       "      <td>Liam</td>\n",
       "      <td>Missouri</td>\n",
       "      <td>Yes</td>\n",
       "      <td>0-3 months</td>\n",
       "      <td>Freshman</td>\n",
       "      <td>1</td>\n",
       "      <td>0</td>\n",
       "      <td>Vietnamese</td>\n",
       "      <td>Off campus</td>\n",
       "      <td>No</td>\n",
       "      <td>Biochemistry</td>\n",
       "      <td>18</td>\n",
       "      <td>NaN</td>\n",
       "      <td>NaN</td>\n",
       "      <td>NaN</td>\n",
       "      <td>Applicability</td>\n",
       "      <td>NaN</td>\n",
       "    </tr>\n",
       "    <tr>\n",
       "      <th>4</th>\n",
       "      <td>2024/01/29 10:45:38 PM CST</td>\n",
       "      <td>Aarushi Choudhary</td>\n",
       "      <td>Japan</td>\n",
       "      <td>Yes</td>\n",
       "      <td>0-3 months</td>\n",
       "      <td>Freshman</td>\n",
       "      <td>1</td>\n",
       "      <td>0</td>\n",
       "      <td>Italian Food Food</td>\n",
       "      <td>On campus</td>\n",
       "      <td>Yes</td>\n",
       "      <td>Health Sciences</td>\n",
       "      <td>18</td>\n",
       "      <td>NaN</td>\n",
       "      <td>Spiderman 2</td>\n",
       "      <td>NaN</td>\n",
       "      <td>I'm trying to get a minor in data science</td>\n",
       "      <td>ls</td>\n",
       "    </tr>\n",
       "    <tr>\n",
       "      <th>5</th>\n",
       "      <td>2024/01/29 10:55:40 PM CST</td>\n",
       "      <td>Noel Zerai</td>\n",
       "      <td>Missouri</td>\n",
       "      <td>Yes</td>\n",
       "      <td>0-3 months</td>\n",
       "      <td>Freshman</td>\n",
       "      <td>2</td>\n",
       "      <td>0</td>\n",
       "      <td>Ethiopian Food</td>\n",
       "      <td>On campus</td>\n",
       "      <td>No</td>\n",
       "      <td>Computer Science</td>\n",
       "      <td>19</td>\n",
       "      <td>on my block</td>\n",
       "      <td>assassins creed origins</td>\n",
       "      <td>kite runner</td>\n",
       "      <td>just as an intro to my desired career.</td>\n",
       "      <td>ls</td>\n",
       "    </tr>\n",
       "    <tr>\n",
       "      <th>6</th>\n",
       "      <td>2024/01/29 11:50:50 PM CST</td>\n",
       "      <td>Kine Thiam</td>\n",
       "      <td>United States</td>\n",
       "      <td>Yes</td>\n",
       "      <td>0-3 months</td>\n",
       "      <td>Freshman</td>\n",
       "      <td>5+</td>\n",
       "      <td>0</td>\n",
       "      <td>Italian Food Food</td>\n",
       "      <td>On campus</td>\n",
       "      <td>Yes</td>\n",
       "      <td>Pre Medicine</td>\n",
       "      <td>18</td>\n",
       "      <td>Reign</td>\n",
       "      <td>It takes two</td>\n",
       "      <td>Wonder</td>\n",
       "      <td>At first it was to see if I’d like computer sc...</td>\n",
       "      <td>NaN</td>\n",
       "    </tr>\n",
       "    <tr>\n",
       "      <th>7</th>\n",
       "      <td>2024/01/30 5:24:37 PM CST</td>\n",
       "      <td>Bandar Aldhahri</td>\n",
       "      <td>Saudi Arabia</td>\n",
       "      <td>Yes</td>\n",
       "      <td>0-3 months</td>\n",
       "      <td>Junior</td>\n",
       "      <td>5+</td>\n",
       "      <td>0</td>\n",
       "      <td>Saudi Food</td>\n",
       "      <td>Off campus</td>\n",
       "      <td>No</td>\n",
       "      <td>Criminology and Criminal Justice</td>\n",
       "      <td>nan</td>\n",
       "      <td>Breaking Bad</td>\n",
       "      <td>FIFA - Soccer</td>\n",
       "      <td>NaN</td>\n",
       "      <td>I am planing to get a master degree in CyberSe...</td>\n",
       "      <td>until  now is pwd</td>\n",
       "    </tr>\n",
       "    <tr>\n",
       "      <th>8</th>\n",
       "      <td>2024/01/31 10:44:53 AM CST</td>\n",
       "      <td>Aida Bah</td>\n",
       "      <td>Minnesota</td>\n",
       "      <td>Yes</td>\n",
       "      <td>0-3 months</td>\n",
       "      <td>Freshman</td>\n",
       "      <td>2</td>\n",
       "      <td>0</td>\n",
       "      <td>Gambian Food</td>\n",
       "      <td>On campus</td>\n",
       "      <td>Yes</td>\n",
       "      <td>Computer Science</td>\n",
       "      <td>18</td>\n",
       "      <td>NaN</td>\n",
       "      <td>NaN</td>\n",
       "      <td>Dead End Memories - Banana Yoshimoto</td>\n",
       "      <td>For my major, to learn python</td>\n",
       "      <td>tree</td>\n",
       "    </tr>\n",
       "    <tr>\n",
       "      <th>9</th>\n",
       "      <td>2024/01/31 6:34:07 PM CST</td>\n",
       "      <td>Kevin Patel</td>\n",
       "      <td>India</td>\n",
       "      <td>No</td>\n",
       "      <td>0-3 months</td>\n",
       "      <td>Senior</td>\n",
       "      <td>0</td>\n",
       "      <td>NaN</td>\n",
       "      <td>Italian Food</td>\n",
       "      <td>Off campus</td>\n",
       "      <td>No</td>\n",
       "      <td>Finance</td>\n",
       "      <td>21</td>\n",
       "      <td>Peaky Blinders</td>\n",
       "      <td>Warzone</td>\n",
       "      <td>The Great Gatsby</td>\n",
       "      <td>To learn the basics of python to help me stand...</td>\n",
       "      <td>'cd'</td>\n",
       "    </tr>\n",
       "    <tr>\n",
       "      <th>10</th>\n",
       "      <td>2024/01/31 7:18:31 PM CST</td>\n",
       "      <td>Brady Loehr</td>\n",
       "      <td>Missouri</td>\n",
       "      <td>No</td>\n",
       "      <td>0-3 months</td>\n",
       "      <td>Sophomore</td>\n",
       "      <td>1</td>\n",
       "      <td>A dog</td>\n",
       "      <td>American Food</td>\n",
       "      <td>On campus</td>\n",
       "      <td>No</td>\n",
       "      <td>Mathematics</td>\n",
       "      <td>19</td>\n",
       "      <td>all time: How to Get Away with Murder. still r...</td>\n",
       "      <td>currently Madden</td>\n",
       "      <td>haven't read for fun in years but the I am Num...</td>\n",
       "      <td>data science minor requirement</td>\n",
       "      <td>jupyter notebook</td>\n",
       "    </tr>\n",
       "    <tr>\n",
       "      <th>11</th>\n",
       "      <td>2024/01/31 7:19:58 PM CST</td>\n",
       "      <td>Wyatt Schmitz</td>\n",
       "      <td>New Mexico</td>\n",
       "      <td>Yes</td>\n",
       "      <td>0-3 months</td>\n",
       "      <td>Freshman</td>\n",
       "      <td>1</td>\n",
       "      <td>0</td>\n",
       "      <td>American Food</td>\n",
       "      <td>Off campus</td>\n",
       "      <td>No</td>\n",
       "      <td>International Business (Graduated)</td>\n",
       "      <td>22</td>\n",
       "      <td>Better Call Saul</td>\n",
       "      <td>Super Mario Galaxy</td>\n",
       "      <td>The Man in the High Castle</td>\n",
       "      <td>Foundation in Computer Science. I want to expa...</td>\n",
       "      <td>NaN</td>\n",
       "    </tr>\n",
       "    <tr>\n",
       "      <th>12</th>\n",
       "      <td>2024/01/31 7:20:10 PM CST</td>\n",
       "      <td>Alec Arnold</td>\n",
       "      <td>Missouri</td>\n",
       "      <td>No</td>\n",
       "      <td>4-6 months</td>\n",
       "      <td>Freshman</td>\n",
       "      <td>1</td>\n",
       "      <td>0</td>\n",
       "      <td>Middleastern Food</td>\n",
       "      <td>On campus</td>\n",
       "      <td>No</td>\n",
       "      <td>Computer Science</td>\n",
       "      <td>18</td>\n",
       "      <td>black mirror</td>\n",
       "      <td>valorant</td>\n",
       "      <td>catch22</td>\n",
       "      <td>credit for major</td>\n",
       "      <td>jupyter notebook</td>\n",
       "    </tr>\n",
       "    <tr>\n",
       "      <th>13</th>\n",
       "      <td>2024/01/31 7:20:54 PM CST</td>\n",
       "      <td>Tori Willis</td>\n",
       "      <td>Missouri</td>\n",
       "      <td>Yes</td>\n",
       "      <td>1-2 years</td>\n",
       "      <td>Sophomore</td>\n",
       "      <td>5+</td>\n",
       "      <td>0</td>\n",
       "      <td>Italian Food</td>\n",
       "      <td>Off campus</td>\n",
       "      <td>No</td>\n",
       "      <td>Computer Science</td>\n",
       "      <td>19</td>\n",
       "      <td>Nothing at the moment</td>\n",
       "      <td>Predecessor</td>\n",
       "      <td>Nothing at the moment</td>\n",
       "      <td>I want to be a better programmer.</td>\n",
       "      <td>cd</td>\n",
       "    </tr>\n",
       "    <tr>\n",
       "      <th>14</th>\n",
       "      <td>2024/01/31 7:21:43 PM CST</td>\n",
       "      <td>Giovanni Loftis</td>\n",
       "      <td>Missouri</td>\n",
       "      <td>Yes</td>\n",
       "      <td>0-3 months</td>\n",
       "      <td>Sophomore</td>\n",
       "      <td>4</td>\n",
       "      <td>A cat</td>\n",
       "      <td>See Food</td>\n",
       "      <td>Off campus</td>\n",
       "      <td>No</td>\n",
       "      <td>Data Science</td>\n",
       "      <td>20</td>\n",
       "      <td>Atlanta</td>\n",
       "      <td>fallout new Vegas</td>\n",
       "      <td>catch 22</td>\n",
       "      <td>required</td>\n",
       "      <td>mkdir</td>\n",
       "    </tr>\n",
       "    <tr>\n",
       "      <th>15</th>\n",
       "      <td>2024/01/31 7:22:36 PM CST</td>\n",
       "      <td>Nithya Bollineni</td>\n",
       "      <td>Missouri</td>\n",
       "      <td>No</td>\n",
       "      <td>0-3 months</td>\n",
       "      <td>Freshman</td>\n",
       "      <td>1</td>\n",
       "      <td>NaN</td>\n",
       "      <td>All Food</td>\n",
       "      <td>On campus</td>\n",
       "      <td>No</td>\n",
       "      <td>Forensic Science</td>\n",
       "      <td>18</td>\n",
       "      <td>I can't choose</td>\n",
       "      <td>Fortnite</td>\n",
       "      <td>Karen M. McManus books</td>\n",
       "      <td>For my minor and as a backup for a potential c...</td>\n",
       "      <td>ls</td>\n",
       "    </tr>\n",
       "    <tr>\n",
       "      <th>16</th>\n",
       "      <td>2024/01/31 7:22:58 PM CST</td>\n",
       "      <td>Jacob Montes-Sabino</td>\n",
       "      <td>Georgia</td>\n",
       "      <td>No</td>\n",
       "      <td>0-3 months</td>\n",
       "      <td>Junior</td>\n",
       "      <td>2</td>\n",
       "      <td>0</td>\n",
       "      <td>Italian Food Food</td>\n",
       "      <td>Off campus</td>\n",
       "      <td>No</td>\n",
       "      <td>Computer Science</td>\n",
       "      <td>21</td>\n",
       "      <td>How I Met Your Mother</td>\n",
       "      <td>FIFA</td>\n",
       "      <td>Harry Potter and the Sorcerer's Stone</td>\n",
       "      <td>Major requirement</td>\n",
       "      <td>NaN</td>\n",
       "    </tr>\n",
       "    <tr>\n",
       "      <th>17</th>\n",
       "      <td>2024/01/31 7:23:13 PM CST</td>\n",
       "      <td>Will Naftzger</td>\n",
       "      <td>Illinois</td>\n",
       "      <td>Yes</td>\n",
       "      <td>0-3 months</td>\n",
       "      <td>Sophomore</td>\n",
       "      <td>2</td>\n",
       "      <td>0</td>\n",
       "      <td>Mexican &amp; Middleastern</td>\n",
       "      <td>On campus</td>\n",
       "      <td>Yes</td>\n",
       "      <td>Data Science</td>\n",
       "      <td>19</td>\n",
       "      <td>Breaking Bad</td>\n",
       "      <td>The Finals</td>\n",
       "      <td>Wool</td>\n",
       "      <td>I need it for data science</td>\n",
       "      <td>cd</td>\n",
       "    </tr>\n",
       "    <tr>\n",
       "      <th>18</th>\n",
       "      <td>2024/01/31 7:25:03 PM CST</td>\n",
       "      <td>Nora El-Ruwie</td>\n",
       "      <td>Libya</td>\n",
       "      <td>Yes</td>\n",
       "      <td>0-3 months</td>\n",
       "      <td>Freshman</td>\n",
       "      <td>3</td>\n",
       "      <td>2 Cats, and 1 Dog</td>\n",
       "      <td>American</td>\n",
       "      <td>Off campus</td>\n",
       "      <td>No</td>\n",
       "      <td>Computer Science</td>\n",
       "      <td>18</td>\n",
       "      <td>Reign</td>\n",
       "      <td>The Sims</td>\n",
       "      <td>The Throne of Glass series by Sarah J. Maas</td>\n",
       "      <td>To start building a foundation in code, especi...</td>\n",
       "      <td>ls, it's been the most useful command so far a...</td>\n",
       "    </tr>\n",
       "  </tbody>\n",
       "</table>\n",
       "</div>"
      ],
      "text/plain": [
       "                     Timestamp   What is your name?  \\\n",
       "0    2024/01/29 6:34:23 PM CST        Gavin Edwards   \n",
       "1    2024/01/29 6:46:07 PM CST                  NaN   \n",
       "2    2024/01/29 7:45:39 PM CST          Connor Love   \n",
       "3    2024/01/29 7:47:12 PM CST                 Liam   \n",
       "4   2024/01/29 10:45:38 PM CST    Aarushi Choudhary   \n",
       "5   2024/01/29 10:55:40 PM CST           Noel Zerai   \n",
       "6   2024/01/29 11:50:50 PM CST           Kine Thiam   \n",
       "7    2024/01/30 5:24:37 PM CST      Bandar Aldhahri   \n",
       "8   2024/01/31 10:44:53 AM CST             Aida Bah   \n",
       "9    2024/01/31 6:34:07 PM CST          Kevin Patel   \n",
       "10   2024/01/31 7:18:31 PM CST          Brady Loehr   \n",
       "11   2024/01/31 7:19:58 PM CST        Wyatt Schmitz   \n",
       "12   2024/01/31 7:20:10 PM CST          Alec Arnold   \n",
       "13   2024/01/31 7:20:54 PM CST          Tori Willis   \n",
       "14   2024/01/31 7:21:43 PM CST      Giovanni Loftis   \n",
       "15   2024/01/31 7:22:36 PM CST     Nithya Bollineni   \n",
       "16   2024/01/31 7:22:58 PM CST  Jacob Montes-Sabino   \n",
       "17   2024/01/31 7:23:13 PM CST        Will Naftzger   \n",
       "18   2024/01/31 7:25:03 PM CST        Nora El-Ruwie   \n",
       "\n",
       "   What state/country were you born in? Are you working while in school?  \\\n",
       "0                              Missouri                              Yes   \n",
       "1                              Missouri                              Yes   \n",
       "2                              Illinois                               No   \n",
       "3                              Missouri                              Yes   \n",
       "4                                 Japan                              Yes   \n",
       "5                              Missouri                              Yes   \n",
       "6                         United States                              Yes   \n",
       "7                          Saudi Arabia                              Yes   \n",
       "8                             Minnesota                              Yes   \n",
       "9                                 India                               No   \n",
       "10                             Missouri                               No   \n",
       "11                           New Mexico                              Yes   \n",
       "12                             Missouri                               No   \n",
       "13                             Missouri                              Yes   \n",
       "14                             Missouri                              Yes   \n",
       "15                             Missouri                               No   \n",
       "16                              Georgia                               No   \n",
       "17                             Illinois                              Yes   \n",
       "18                                Libya                              Yes   \n",
       "\n",
       "   How much experience do you have programming? What class are you in?   \\\n",
       "0                             6 months - 1 year                Freshman   \n",
       "1                                    0-3 months                Freshman   \n",
       "2                                    0-3 months                Freshman   \n",
       "3                                    0-3 months                Freshman   \n",
       "4                                    0-3 months                Freshman   \n",
       "5                                    0-3 months                Freshman   \n",
       "6                                    0-3 months                Freshman   \n",
       "7                                    0-3 months                  Junior   \n",
       "8                                    0-3 months                Freshman   \n",
       "9                                    0-3 months                  Senior   \n",
       "10                                   0-3 months               Sophomore   \n",
       "11                                   0-3 months                Freshman   \n",
       "12                                   4-6 months                Freshman   \n",
       "13                                    1-2 years               Sophomore   \n",
       "14                                   0-3 months               Sophomore   \n",
       "15                                   0-3 months                Freshman   \n",
       "16                                   0-3 months                  Junior   \n",
       "17                                   0-3 months               Sophomore   \n",
       "18                                   0-3 months                Freshman   \n",
       "\n",
       "   How many siblings do you have?  \\\n",
       "0                               1   \n",
       "1                               2   \n",
       "2                               1   \n",
       "3                               1   \n",
       "4                               1   \n",
       "5                               2   \n",
       "6                              5+   \n",
       "7                              5+   \n",
       "8                               2   \n",
       "9                               0   \n",
       "10                              1   \n",
       "11                              1   \n",
       "12                              1   \n",
       "13                             5+   \n",
       "14                              4   \n",
       "15                              1   \n",
       "16                              2   \n",
       "17                              2   \n",
       "18                              3   \n",
       "\n",
       "   How many pets and of which kind do you have?  \\\n",
       "0                                             0   \n",
       "1                                             0   \n",
       "2                                        2 Dogs   \n",
       "3                                             0   \n",
       "4                                             0   \n",
       "5                                             0   \n",
       "6                                             0   \n",
       "7                                             0   \n",
       "8                                             0   \n",
       "9                                           NaN   \n",
       "10                                        A dog   \n",
       "11                                            0   \n",
       "12                                            0   \n",
       "13                                            0   \n",
       "14                                        A cat   \n",
       "15                                          NaN   \n",
       "16                                            0   \n",
       "17                                            0   \n",
       "18                           2 Cats, and 1 Dog    \n",
       "\n",
       "   What is your favorite type of food? Where do you live?  \\\n",
       "0                    Italian Food Food          On campus   \n",
       "1                        American Food         Off campus   \n",
       "2                              Mexican          On campus   \n",
       "3                           Vietnamese         Off campus   \n",
       "4                    Italian Food Food          On campus   \n",
       "5                       Ethiopian Food          On campus   \n",
       "6                    Italian Food Food          On campus   \n",
       "7                          Saudi Food          Off campus   \n",
       "8                         Gambian Food          On campus   \n",
       "9                         Italian Food         Off campus   \n",
       "10                       American Food          On campus   \n",
       "11                       American Food         Off campus   \n",
       "12                   Middleastern Food          On campus   \n",
       "13                        Italian Food         Off campus   \n",
       "14                            See Food         Off campus   \n",
       "15                            All Food          On campus   \n",
       "16                   Italian Food Food         Off campus   \n",
       "17              Mexican & Middleastern          On campus   \n",
       "18                            American         Off campus   \n",
       "\n",
       "   Do you take the metro?                 What is your major?  \\\n",
       "0                      No                       Data Science    \n",
       "1                      No                             Nursing   \n",
       "2                      No               Economics and Finance   \n",
       "3                      No                        Biochemistry   \n",
       "4                     Yes                     Health Sciences   \n",
       "5                      No                    Computer Science   \n",
       "6                     Yes                        Pre Medicine   \n",
       "7                      No    Criminology and Criminal Justice   \n",
       "8                     Yes                    Computer Science   \n",
       "9                      No                             Finance   \n",
       "10                     No                         Mathematics   \n",
       "11                     No  International Business (Graduated)   \n",
       "12                     No                    Computer Science   \n",
       "13                     No                    Computer Science   \n",
       "14                     No                        Data Science   \n",
       "15                     No                    Forensic Science   \n",
       "16                     No                    Computer Science   \n",
       "17                    Yes                        Data Science   \n",
       "18                     No                   Computer Science    \n",
       "\n",
       "   How old are you?                     What is your favorite TV show?  \\\n",
       "0                18                                       Breaking Bad   \n",
       "1                19                                     Criminal Minds   \n",
       "2                19                                          The Wire.   \n",
       "3                18                                                NaN   \n",
       "4                18                                                NaN   \n",
       "5                19                                        on my block   \n",
       "6                18                                              Reign   \n",
       "7               nan                                       Breaking Bad   \n",
       "8                18                                                NaN   \n",
       "9                21                                     Peaky Blinders   \n",
       "10               19  all time: How to Get Away with Murder. still r...   \n",
       "11               22                                  Better Call Saul    \n",
       "12               18                                       black mirror   \n",
       "13               19                              Nothing at the moment   \n",
       "14               20                                            Atlanta   \n",
       "15               18                                     I can't choose   \n",
       "16               21                              How I Met Your Mother   \n",
       "17               19                                       Breaking Bad   \n",
       "18               18                                             Reign    \n",
       "\n",
       "   What is your favorite video game?  \\\n",
       "0                      Rocket League   \n",
       "1                           Valorant   \n",
       "2                   Pokémon White 2.   \n",
       "3                                NaN   \n",
       "4                        Spiderman 2   \n",
       "5            assassins creed origins   \n",
       "6                       It takes two   \n",
       "7                     FIFA - Soccer    \n",
       "8                                NaN   \n",
       "9                            Warzone   \n",
       "10                  currently Madden   \n",
       "11               Super Mario Galaxy    \n",
       "12                          valorant   \n",
       "13                       Predecessor   \n",
       "14                 fallout new Vegas   \n",
       "15                          Fortnite   \n",
       "16                              FIFA   \n",
       "17                        The Finals   \n",
       "18                          The Sims   \n",
       "\n",
       "                          What is your favorite book?  \\\n",
       "0                                   The Scythe series   \n",
       "1                    A Little life by Hanya Yanaghara   \n",
       "2                  \"Surprised by Joy\" by C. S. Lewis.   \n",
       "3                                                 NaN   \n",
       "4                                                 NaN   \n",
       "5                                         kite runner   \n",
       "6                                              Wonder   \n",
       "7                                                 NaN   \n",
       "8                Dead End Memories - Banana Yoshimoto   \n",
       "9                                    The Great Gatsby   \n",
       "10  haven't read for fun in years but the I am Num...   \n",
       "11                        The Man in the High Castle    \n",
       "12                                            catch22   \n",
       "13                              Nothing at the moment   \n",
       "14                                           catch 22   \n",
       "15                             Karen M. McManus books   \n",
       "16              Harry Potter and the Sorcerer's Stone   \n",
       "17                                               Wool   \n",
       "18        The Throne of Glass series by Sarah J. Maas   \n",
       "\n",
       "                      Why are you taking this class?   \\\n",
       "0       Its a requirement for the data science major.   \n",
       "1   I have an interest in programming. I enjoy lea...   \n",
       "2   Transfer course requirements for the Universit...   \n",
       "3                                       Applicability   \n",
       "4           I'm trying to get a minor in data science   \n",
       "5              just as an intro to my desired career.   \n",
       "6   At first it was to see if I’d like computer sc...   \n",
       "7   I am planing to get a master degree in CyberSe...   \n",
       "8                      For my major, to learn python    \n",
       "9   To learn the basics of python to help me stand...   \n",
       "10                     data science minor requirement   \n",
       "11  Foundation in Computer Science. I want to expa...   \n",
       "12                                   credit for major   \n",
       "13                  I want to be a better programmer.   \n",
       "14                                           required   \n",
       "15  For my minor and as a backup for a potential c...   \n",
       "16                                  Major requirement   \n",
       "17                         I need it for data science   \n",
       "18  To start building a foundation in code, especi...   \n",
       "\n",
       "                    Whats your favorite bash command?  \n",
       "0                                                  ls  \n",
       "1                                                 NaN  \n",
       "2                  <git push> by far, too satisfying.  \n",
       "3                                                 NaN  \n",
       "4                                                  ls  \n",
       "5                                                ls    \n",
       "6                                                 NaN  \n",
       "7                                   until  now is pwd  \n",
       "8                                                tree  \n",
       "9                                                'cd'  \n",
       "10                                   jupyter notebook  \n",
       "11                                                NaN  \n",
       "12                                   jupyter notebook  \n",
       "13                                                 cd  \n",
       "14                                              mkdir  \n",
       "15                                                 ls  \n",
       "16                                                NaN  \n",
       "17                                                 cd  \n",
       "18  ls, it's been the most useful command so far a...  "
      ]
     },
     "execution_count": 141,
     "metadata": {},
     "output_type": "execute_result"
    }
   ],
   "source": [
    "df.head(19)"
   ]
  },
  {
   "cell_type": "code",
   "execution_count": 142,
   "id": "e9136cee-968c-408e-b956-1cf702670f76",
   "metadata": {},
   "outputs": [],
   "source": [
    "import matplotlib.pyplot as plt"
   ]
  },
  {
   "cell_type": "code",
   "execution_count": 143,
   "id": "d906298f-98a0-4b2e-a989-cd22c4381352",
   "metadata": {},
   "outputs": [],
   "source": [
    "import plotly.express as px"
   ]
  },
  {
   "cell_type": "code",
   "execution_count": 144,
   "id": "a1e65f0e-b890-47e5-a323-9749c820daab",
   "metadata": {},
   "outputs": [],
   "source": [
    "%matplotlib inline"
   ]
  },
  {
   "cell_type": "code",
   "execution_count": 146,
   "id": "b286f76e-98ff-4930-a254-3e8d247134d5",
   "metadata": {},
   "outputs": [
    {
     "data": {
      "application/vnd.plotly.v1+json": {
       "config": {
        "plotlyServerURL": "https://plot.ly"
       },
       "data": [
        {
         "domain": {
          "x": [
           0,
           1
          ],
          "y": [
           0,
           1
          ]
         },
         "hovertemplate": "Where do you live?=%{label}<extra></extra>",
         "labels": [
          "On campus",
          "Off campus",
          "On campus",
          "Off campus",
          "On campus",
          "On campus",
          "On campus",
          "Off campus",
          "On campus",
          "Off campus",
          "On campus",
          "Off campus",
          "On campus",
          "Off campus",
          "Off campus",
          "On campus",
          "Off campus",
          "On campus",
          "Off campus",
          "On campus"
         ],
         "legendgroup": "",
         "name": "",
         "showlegend": true,
         "textinfo": "percent+label",
         "textposition": "inside",
         "type": "pie"
        }
       ],
       "layout": {
        "autosize": true,
        "legend": {
         "tracegroupgap": 0
        },
        "template": {
         "data": {
          "bar": [
           {
            "error_x": {
             "color": "#2a3f5f"
            },
            "error_y": {
             "color": "#2a3f5f"
            },
            "marker": {
             "line": {
              "color": "#E5ECF6",
              "width": 0.5
             },
             "pattern": {
              "fillmode": "overlay",
              "size": 10,
              "solidity": 0.2
             }
            },
            "type": "bar"
           }
          ],
          "barpolar": [
           {
            "marker": {
             "line": {
              "color": "#E5ECF6",
              "width": 0.5
             },
             "pattern": {
              "fillmode": "overlay",
              "size": 10,
              "solidity": 0.2
             }
            },
            "type": "barpolar"
           }
          ],
          "carpet": [
           {
            "aaxis": {
             "endlinecolor": "#2a3f5f",
             "gridcolor": "white",
             "linecolor": "white",
             "minorgridcolor": "white",
             "startlinecolor": "#2a3f5f"
            },
            "baxis": {
             "endlinecolor": "#2a3f5f",
             "gridcolor": "white",
             "linecolor": "white",
             "minorgridcolor": "white",
             "startlinecolor": "#2a3f5f"
            },
            "type": "carpet"
           }
          ],
          "choropleth": [
           {
            "colorbar": {
             "outlinewidth": 0,
             "ticks": ""
            },
            "type": "choropleth"
           }
          ],
          "contour": [
           {
            "colorbar": {
             "outlinewidth": 0,
             "ticks": ""
            },
            "colorscale": [
             [
              0,
              "#0d0887"
             ],
             [
              0.1111111111111111,
              "#46039f"
             ],
             [
              0.2222222222222222,
              "#7201a8"
             ],
             [
              0.3333333333333333,
              "#9c179e"
             ],
             [
              0.4444444444444444,
              "#bd3786"
             ],
             [
              0.5555555555555556,
              "#d8576b"
             ],
             [
              0.6666666666666666,
              "#ed7953"
             ],
             [
              0.7777777777777778,
              "#fb9f3a"
             ],
             [
              0.8888888888888888,
              "#fdca26"
             ],
             [
              1,
              "#f0f921"
             ]
            ],
            "type": "contour"
           }
          ],
          "contourcarpet": [
           {
            "colorbar": {
             "outlinewidth": 0,
             "ticks": ""
            },
            "type": "contourcarpet"
           }
          ],
          "heatmap": [
           {
            "colorbar": {
             "outlinewidth": 0,
             "ticks": ""
            },
            "colorscale": [
             [
              0,
              "#0d0887"
             ],
             [
              0.1111111111111111,
              "#46039f"
             ],
             [
              0.2222222222222222,
              "#7201a8"
             ],
             [
              0.3333333333333333,
              "#9c179e"
             ],
             [
              0.4444444444444444,
              "#bd3786"
             ],
             [
              0.5555555555555556,
              "#d8576b"
             ],
             [
              0.6666666666666666,
              "#ed7953"
             ],
             [
              0.7777777777777778,
              "#fb9f3a"
             ],
             [
              0.8888888888888888,
              "#fdca26"
             ],
             [
              1,
              "#f0f921"
             ]
            ],
            "type": "heatmap"
           }
          ],
          "heatmapgl": [
           {
            "colorbar": {
             "outlinewidth": 0,
             "ticks": ""
            },
            "colorscale": [
             [
              0,
              "#0d0887"
             ],
             [
              0.1111111111111111,
              "#46039f"
             ],
             [
              0.2222222222222222,
              "#7201a8"
             ],
             [
              0.3333333333333333,
              "#9c179e"
             ],
             [
              0.4444444444444444,
              "#bd3786"
             ],
             [
              0.5555555555555556,
              "#d8576b"
             ],
             [
              0.6666666666666666,
              "#ed7953"
             ],
             [
              0.7777777777777778,
              "#fb9f3a"
             ],
             [
              0.8888888888888888,
              "#fdca26"
             ],
             [
              1,
              "#f0f921"
             ]
            ],
            "type": "heatmapgl"
           }
          ],
          "histogram": [
           {
            "marker": {
             "pattern": {
              "fillmode": "overlay",
              "size": 10,
              "solidity": 0.2
             }
            },
            "type": "histogram"
           }
          ],
          "histogram2d": [
           {
            "colorbar": {
             "outlinewidth": 0,
             "ticks": ""
            },
            "colorscale": [
             [
              0,
              "#0d0887"
             ],
             [
              0.1111111111111111,
              "#46039f"
             ],
             [
              0.2222222222222222,
              "#7201a8"
             ],
             [
              0.3333333333333333,
              "#9c179e"
             ],
             [
              0.4444444444444444,
              "#bd3786"
             ],
             [
              0.5555555555555556,
              "#d8576b"
             ],
             [
              0.6666666666666666,
              "#ed7953"
             ],
             [
              0.7777777777777778,
              "#fb9f3a"
             ],
             [
              0.8888888888888888,
              "#fdca26"
             ],
             [
              1,
              "#f0f921"
             ]
            ],
            "type": "histogram2d"
           }
          ],
          "histogram2dcontour": [
           {
            "colorbar": {
             "outlinewidth": 0,
             "ticks": ""
            },
            "colorscale": [
             [
              0,
              "#0d0887"
             ],
             [
              0.1111111111111111,
              "#46039f"
             ],
             [
              0.2222222222222222,
              "#7201a8"
             ],
             [
              0.3333333333333333,
              "#9c179e"
             ],
             [
              0.4444444444444444,
              "#bd3786"
             ],
             [
              0.5555555555555556,
              "#d8576b"
             ],
             [
              0.6666666666666666,
              "#ed7953"
             ],
             [
              0.7777777777777778,
              "#fb9f3a"
             ],
             [
              0.8888888888888888,
              "#fdca26"
             ],
             [
              1,
              "#f0f921"
             ]
            ],
            "type": "histogram2dcontour"
           }
          ],
          "mesh3d": [
           {
            "colorbar": {
             "outlinewidth": 0,
             "ticks": ""
            },
            "type": "mesh3d"
           }
          ],
          "parcoords": [
           {
            "line": {
             "colorbar": {
              "outlinewidth": 0,
              "ticks": ""
             }
            },
            "type": "parcoords"
           }
          ],
          "pie": [
           {
            "automargin": true,
            "type": "pie"
           }
          ],
          "scatter": [
           {
            "fillpattern": {
             "fillmode": "overlay",
             "size": 10,
             "solidity": 0.2
            },
            "type": "scatter"
           }
          ],
          "scatter3d": [
           {
            "line": {
             "colorbar": {
              "outlinewidth": 0,
              "ticks": ""
             }
            },
            "marker": {
             "colorbar": {
              "outlinewidth": 0,
              "ticks": ""
             }
            },
            "type": "scatter3d"
           }
          ],
          "scattercarpet": [
           {
            "marker": {
             "colorbar": {
              "outlinewidth": 0,
              "ticks": ""
             }
            },
            "type": "scattercarpet"
           }
          ],
          "scattergeo": [
           {
            "marker": {
             "colorbar": {
              "outlinewidth": 0,
              "ticks": ""
             }
            },
            "type": "scattergeo"
           }
          ],
          "scattergl": [
           {
            "marker": {
             "colorbar": {
              "outlinewidth": 0,
              "ticks": ""
             }
            },
            "type": "scattergl"
           }
          ],
          "scattermapbox": [
           {
            "marker": {
             "colorbar": {
              "outlinewidth": 0,
              "ticks": ""
             }
            },
            "type": "scattermapbox"
           }
          ],
          "scatterpolar": [
           {
            "marker": {
             "colorbar": {
              "outlinewidth": 0,
              "ticks": ""
             }
            },
            "type": "scatterpolar"
           }
          ],
          "scatterpolargl": [
           {
            "marker": {
             "colorbar": {
              "outlinewidth": 0,
              "ticks": ""
             }
            },
            "type": "scatterpolargl"
           }
          ],
          "scatterternary": [
           {
            "marker": {
             "colorbar": {
              "outlinewidth": 0,
              "ticks": ""
             }
            },
            "type": "scatterternary"
           }
          ],
          "surface": [
           {
            "colorbar": {
             "outlinewidth": 0,
             "ticks": ""
            },
            "colorscale": [
             [
              0,
              "#0d0887"
             ],
             [
              0.1111111111111111,
              "#46039f"
             ],
             [
              0.2222222222222222,
              "#7201a8"
             ],
             [
              0.3333333333333333,
              "#9c179e"
             ],
             [
              0.4444444444444444,
              "#bd3786"
             ],
             [
              0.5555555555555556,
              "#d8576b"
             ],
             [
              0.6666666666666666,
              "#ed7953"
             ],
             [
              0.7777777777777778,
              "#fb9f3a"
             ],
             [
              0.8888888888888888,
              "#fdca26"
             ],
             [
              1,
              "#f0f921"
             ]
            ],
            "type": "surface"
           }
          ],
          "table": [
           {
            "cells": {
             "fill": {
              "color": "#EBF0F8"
             },
             "line": {
              "color": "white"
             }
            },
            "header": {
             "fill": {
              "color": "#C8D4E3"
             },
             "line": {
              "color": "white"
             }
            },
            "type": "table"
           }
          ]
         },
         "layout": {
          "annotationdefaults": {
           "arrowcolor": "#2a3f5f",
           "arrowhead": 0,
           "arrowwidth": 1
          },
          "autotypenumbers": "strict",
          "coloraxis": {
           "colorbar": {
            "outlinewidth": 0,
            "ticks": ""
           }
          },
          "colorscale": {
           "diverging": [
            [
             0,
             "#8e0152"
            ],
            [
             0.1,
             "#c51b7d"
            ],
            [
             0.2,
             "#de77ae"
            ],
            [
             0.3,
             "#f1b6da"
            ],
            [
             0.4,
             "#fde0ef"
            ],
            [
             0.5,
             "#f7f7f7"
            ],
            [
             0.6,
             "#e6f5d0"
            ],
            [
             0.7,
             "#b8e186"
            ],
            [
             0.8,
             "#7fbc41"
            ],
            [
             0.9,
             "#4d9221"
            ],
            [
             1,
             "#276419"
            ]
           ],
           "sequential": [
            [
             0,
             "#0d0887"
            ],
            [
             0.1111111111111111,
             "#46039f"
            ],
            [
             0.2222222222222222,
             "#7201a8"
            ],
            [
             0.3333333333333333,
             "#9c179e"
            ],
            [
             0.4444444444444444,
             "#bd3786"
            ],
            [
             0.5555555555555556,
             "#d8576b"
            ],
            [
             0.6666666666666666,
             "#ed7953"
            ],
            [
             0.7777777777777778,
             "#fb9f3a"
            ],
            [
             0.8888888888888888,
             "#fdca26"
            ],
            [
             1,
             "#f0f921"
            ]
           ],
           "sequentialminus": [
            [
             0,
             "#0d0887"
            ],
            [
             0.1111111111111111,
             "#46039f"
            ],
            [
             0.2222222222222222,
             "#7201a8"
            ],
            [
             0.3333333333333333,
             "#9c179e"
            ],
            [
             0.4444444444444444,
             "#bd3786"
            ],
            [
             0.5555555555555556,
             "#d8576b"
            ],
            [
             0.6666666666666666,
             "#ed7953"
            ],
            [
             0.7777777777777778,
             "#fb9f3a"
            ],
            [
             0.8888888888888888,
             "#fdca26"
            ],
            [
             1,
             "#f0f921"
            ]
           ]
          },
          "colorway": [
           "#636efa",
           "#EF553B",
           "#00cc96",
           "#ab63fa",
           "#FFA15A",
           "#19d3f3",
           "#FF6692",
           "#B6E880",
           "#FF97FF",
           "#FECB52"
          ],
          "font": {
           "color": "#2a3f5f"
          },
          "geo": {
           "bgcolor": "white",
           "lakecolor": "white",
           "landcolor": "#E5ECF6",
           "showlakes": true,
           "showland": true,
           "subunitcolor": "white"
          },
          "hoverlabel": {
           "align": "left"
          },
          "hovermode": "closest",
          "mapbox": {
           "style": "light"
          },
          "paper_bgcolor": "white",
          "plot_bgcolor": "#E5ECF6",
          "polar": {
           "angularaxis": {
            "gridcolor": "white",
            "linecolor": "white",
            "ticks": ""
           },
           "bgcolor": "#E5ECF6",
           "radialaxis": {
            "gridcolor": "white",
            "linecolor": "white",
            "ticks": ""
           }
          },
          "scene": {
           "xaxis": {
            "backgroundcolor": "#E5ECF6",
            "gridcolor": "white",
            "gridwidth": 2,
            "linecolor": "white",
            "showbackground": true,
            "ticks": "",
            "zerolinecolor": "white"
           },
           "yaxis": {
            "backgroundcolor": "#E5ECF6",
            "gridcolor": "white",
            "gridwidth": 2,
            "linecolor": "white",
            "showbackground": true,
            "ticks": "",
            "zerolinecolor": "white"
           },
           "zaxis": {
            "backgroundcolor": "#E5ECF6",
            "gridcolor": "white",
            "gridwidth": 2,
            "linecolor": "white",
            "showbackground": true,
            "ticks": "",
            "zerolinecolor": "white"
           }
          },
          "shapedefaults": {
           "line": {
            "color": "#2a3f5f"
           }
          },
          "ternary": {
           "aaxis": {
            "gridcolor": "white",
            "linecolor": "white",
            "ticks": ""
           },
           "baxis": {
            "gridcolor": "white",
            "linecolor": "white",
            "ticks": ""
           },
           "bgcolor": "#E5ECF6",
           "caxis": {
            "gridcolor": "white",
            "linecolor": "white",
            "ticks": ""
           }
          },
          "title": {
           "x": 0.05
          },
          "xaxis": {
           "automargin": true,
           "gridcolor": "white",
           "linecolor": "white",
           "ticks": "",
           "title": {
            "standoff": 15
           },
           "zerolinecolor": "white",
           "zerolinewidth": 2
          },
          "yaxis": {
           "automargin": true,
           "gridcolor": "white",
           "linecolor": "white",
           "ticks": "",
           "title": {
            "standoff": 15
           },
           "zerolinecolor": "white",
           "zerolinewidth": 2
          }
         }
        },
        "title": {
         "font": {
          "size": 42
         },
         "text": "Survey Results"
        }
       }
      },
      "image/png": "[encoded data removed]",
      "text/html": [
       "<div>                            <div id=\"2e5563b5-ed00-404f-8b39-1650cc33ee20\" class=\"plotly-graph-div\" style=\"height:525px; width:100%;\"></div>            <script type=\"text/javascript\">                require([\"plotly\"], function(Plotly) {                    window.PLOTLYENV=window.PLOTLYENV || {};                                    if (document.getElementById(\"2e5563b5-ed00-404f-8b39-1650cc33ee20\")) {                    Plotly.newPlot(                        \"2e5563b5-ed00-404f-8b39-1650cc33ee20\",                        [{\"domain\":{\"x\":[0.0,1.0],\"y\":[0.0,1.0]},\"hovertemplate\":\"Where do you live?=%{label}\\u003cextra\\u003e\\u003c\\u002fextra\\u003e\",\"labels\":[\"On campus\",\"Off campus\",\"On campus\",\"Off campus\",\"On campus\",\"On campus\",\"On campus\",\"Off campus\",\"On campus\",\"Off campus\",\"On campus\",\"Off campus\",\"On campus\",\"Off campus\",\"Off campus\",\"On campus\",\"Off campus\",\"On campus\",\"Off campus\",\"On campus\"],\"legendgroup\":\"\",\"name\":\"\",\"showlegend\":true,\"type\":\"pie\",\"textinfo\":\"percent+label\",\"textposition\":\"inside\"}],                        {\"template\":{\"data\":{\"histogram2dcontour\":[{\"type\":\"histogram2dcontour\",\"colorbar\":{\"outlinewidth\":0,\"ticks\":\"\"},\"colorscale\":[[0.0,\"#0d0887\"],[0.1111111111111111,\"#46039f\"],[0.2222222222222222,\"#7201a8\"],[0.3333333333333333,\"#9c179e\"],[0.4444444444444444,\"#bd3786\"],[0.5555555555555556,\"#d8576b\"],[0.6666666666666666,\"#ed7953\"],[0.7777777777777778,\"#fb9f3a\"],[0.8888888888888888,\"#fdca26\"],[1.0,\"#f0f921\"]]}],\"choropleth\":[{\"type\":\"choropleth\",\"colorbar\":{\"outlinewidth\":0,\"ticks\":\"\"}}],\"histogram2d\":[{\"type\":\"histogram2d\",\"colorbar\":{\"outlinewidth\":0,\"ticks\":\"\"},\"colorscale\":[[0.0,\"#0d0887\"],[0.1111111111111111,\"#46039f\"],[0.2222222222222222,\"#7201a8\"],[0.3333333333333333,\"#9c179e\"],[0.4444444444444444,\"#bd3786\"],[0.5555555555555556,\"#d8576b\"],[0.6666666666666666,\"#ed7953\"],[0.7777777777777778,\"#fb9f3a\"],[0.8888888888888888,\"#fdca26\"],[1.0,\"#f0f921\"]]}],\"heatmap\":[{\"type\":\"heatmap\",\"colorbar\":{\"outlinewidth\":0,\"ticks\":\"\"},\"colorscale\":[[0.0,\"#0d0887\"],[0.1111111111111111,\"#46039f\"],[0.2222222222222222,\"#7201a8\"],[0.3333333333333333,\"#9c179e\"],[0.4444444444444444,\"#bd3786\"],[0.5555555555555556,\"#d8576b\"],[0.6666666666666666,\"#ed7953\"],[0.7777777777777778,\"#fb9f3a\"],[0.8888888888888888,\"#fdca26\"],[1.0,\"#f0f921\"]]}],\"heatmapgl\":[{\"type\":\"heatmapgl\",\"colorbar\":{\"outlinewidth\":0,\"ticks\":\"\"},\"colorscale\":[[0.0,\"#0d0887\"],[0.1111111111111111,\"#46039f\"],[0.2222222222222222,\"#7201a8\"],[0.3333333333333333,\"#9c179e\"],[0.4444444444444444,\"#bd3786\"],[0.5555555555555556,\"#d8576b\"],[0.6666666666666666,\"#ed7953\"],[0.7777777777777778,\"#fb9f3a\"],[0.8888888888888888,\"#fdca26\"],[1.0,\"#f0f921\"]]}],\"contourcarpet\":[{\"type\":\"contourcarpet\",\"colorbar\":{\"outlinewidth\":0,\"ticks\":\"\"}}],\"contour\":[{\"type\":\"contour\",\"colorbar\":{\"outlinewidth\":0,\"ticks\":\"\"},\"colorscale\":[[0.0,\"#0d0887\"],[0.1111111111111111,\"#46039f\"],[0.2222222222222222,\"#7201a8\"],[0.3333333333333333,\"#9c179e\"],[0.4444444444444444,\"#bd3786\"],[0.5555555555555556,\"#d8576b\"],[0.6666666666666666,\"#ed7953\"],[0.7777777777777778,\"#fb9f3a\"],[0.8888888888888888,\"#fdca26\"],[1.0,\"#f0f921\"]]}],\"surface\":[{\"type\":\"surface\",\"colorbar\":{\"outlinewidth\":0,\"ticks\":\"\"},\"colorscale\":[[0.0,\"#0d0887\"],[0.1111111111111111,\"#46039f\"],[0.2222222222222222,\"#7201a8\"],[0.3333333333333333,\"#9c179e\"],[0.4444444444444444,\"#bd3786\"],[0.5555555555555556,\"#d8576b\"],[0.6666666666666666,\"#ed7953\"],[0.7777777777777778,\"#fb9f3a\"],[0.8888888888888888,\"#fdca26\"],[1.0,\"#f0f921\"]]}],\"mesh3d\":[{\"type\":\"mesh3d\",\"colorbar\":{\"outlinewidth\":0,\"ticks\":\"\"}}],\"scatter\":[{\"fillpattern\":{\"fillmode\":\"overlay\",\"size\":10,\"solidity\":0.2},\"type\":\"scatter\"}],\"parcoords\":[{\"type\":\"parcoords\",\"line\":{\"colorbar\":{\"outlinewidth\":0,\"ticks\":\"\"}}}],\"scatterpolargl\":[{\"type\":\"scatterpolargl\",\"marker\":{\"colorbar\":{\"outlinewidth\":0,\"ticks\":\"\"}}}],\"bar\":[{\"error_x\":{\"color\":\"#2a3f5f\"},\"error_y\":{\"color\":\"#2a3f5f\"},\"marker\":{\"line\":{\"color\":\"#E5ECF6\",\"width\":0.5},\"pattern\":{\"fillmode\":\"overlay\",\"size\":10,\"solidity\":0.2}},\"type\":\"bar\"}],\"scattergeo\":[{\"type\":\"scattergeo\",\"marker\":{\"colorbar\":{\"outlinewidth\":0,\"ticks\":\"\"}}}],\"scatterpolar\":[{\"type\":\"scatterpolar\",\"marker\":{\"colorbar\":{\"outlinewidth\":0,\"ticks\":\"\"}}}],\"histogram\":[{\"marker\":{\"pattern\":{\"fillmode\":\"overlay\",\"size\":10,\"solidity\":0.2}},\"type\":\"histogram\"}],\"scattergl\":[{\"type\":\"scattergl\",\"marker\":{\"colorbar\":{\"outlinewidth\":0,\"ticks\":\"\"}}}],\"scatter3d\":[{\"type\":\"scatter3d\",\"line\":{\"colorbar\":{\"outlinewidth\":0,\"ticks\":\"\"}},\"marker\":{\"colorbar\":{\"outlinewidth\":0,\"ticks\":\"\"}}}],\"scattermapbox\":[{\"type\":\"scattermapbox\",\"marker\":{\"colorbar\":{\"outlinewidth\":0,\"ticks\":\"\"}}}],\"scatterternary\":[{\"type\":\"scatterternary\",\"marker\":{\"colorbar\":{\"outlinewidth\":0,\"ticks\":\"\"}}}],\"scattercarpet\":[{\"type\":\"scattercarpet\",\"marker\":{\"colorbar\":{\"outlinewidth\":0,\"ticks\":\"\"}}}],\"carpet\":[{\"aaxis\":{\"endlinecolor\":\"#2a3f5f\",\"gridcolor\":\"white\",\"linecolor\":\"white\",\"minorgridcolor\":\"white\",\"startlinecolor\":\"#2a3f5f\"},\"baxis\":{\"endlinecolor\":\"#2a3f5f\",\"gridcolor\":\"white\",\"linecolor\":\"white\",\"minorgridcolor\":\"white\",\"startlinecolor\":\"#2a3f5f\"},\"type\":\"carpet\"}],\"table\":[{\"cells\":{\"fill\":{\"color\":\"#EBF0F8\"},\"line\":{\"color\":\"white\"}},\"header\":{\"fill\":{\"color\":\"#C8D4E3\"},\"line\":{\"color\":\"white\"}},\"type\":\"table\"}],\"barpolar\":[{\"marker\":{\"line\":{\"color\":\"#E5ECF6\",\"width\":0.5},\"pattern\":{\"fillmode\":\"overlay\",\"size\":10,\"solidity\":0.2}},\"type\":\"barpolar\"}],\"pie\":[{\"automargin\":true,\"type\":\"pie\"}]},\"layout\":{\"autotypenumbers\":\"strict\",\"colorway\":[\"#636efa\",\"#EF553B\",\"#00cc96\",\"#ab63fa\",\"#FFA15A\",\"#19d3f3\",\"#FF6692\",\"#B6E880\",\"#FF97FF\",\"#FECB52\"],\"font\":{\"color\":\"#2a3f5f\"},\"hovermode\":\"closest\",\"hoverlabel\":{\"align\":\"left\"},\"paper_bgcolor\":\"white\",\"plot_bgcolor\":\"#E5ECF6\",\"polar\":{\"bgcolor\":\"#E5ECF6\",\"angularaxis\":{\"gridcolor\":\"white\",\"linecolor\":\"white\",\"ticks\":\"\"},\"radialaxis\":{\"gridcolor\":\"white\",\"linecolor\":\"white\",\"ticks\":\"\"}},\"ternary\":{\"bgcolor\":\"#E5ECF6\",\"aaxis\":{\"gridcolor\":\"white\",\"linecolor\":\"white\",\"ticks\":\"\"},\"baxis\":{\"gridcolor\":\"white\",\"linecolor\":\"white\",\"ticks\":\"\"},\"caxis\":{\"gridcolor\":\"white\",\"linecolor\":\"white\",\"ticks\":\"\"}},\"coloraxis\":{\"colorbar\":{\"outlinewidth\":0,\"ticks\":\"\"}},\"colorscale\":{\"sequential\":[[0.0,\"#0d0887\"],[0.1111111111111111,\"#46039f\"],[0.2222222222222222,\"#7201a8\"],[0.3333333333333333,\"#9c179e\"],[0.4444444444444444,\"#bd3786\"],[0.5555555555555556,\"#d8576b\"],[0.6666666666666666,\"#ed7953\"],[0.7777777777777778,\"#fb9f3a\"],[0.8888888888888888,\"#fdca26\"],[1.0,\"#f0f921\"]],\"sequentialminus\":[[0.0,\"#0d0887\"],[0.1111111111111111,\"#46039f\"],[0.2222222222222222,\"#7201a8\"],[0.3333333333333333,\"#9c179e\"],[0.4444444444444444,\"#bd3786\"],[0.5555555555555556,\"#d8576b\"],[0.6666666666666666,\"#ed7953\"],[0.7777777777777778,\"#fb9f3a\"],[0.8888888888888888,\"#fdca26\"],[1.0,\"#f0f921\"]],\"diverging\":[[0,\"#8e0152\"],[0.1,\"#c51b7d\"],[0.2,\"#de77ae\"],[0.3,\"#f1b6da\"],[0.4,\"#fde0ef\"],[0.5,\"#f7f7f7\"],[0.6,\"#e6f5d0\"],[0.7,\"#b8e186\"],[0.8,\"#7fbc41\"],[0.9,\"#4d9221\"],[1,\"#276419\"]]},\"xaxis\":{\"gridcolor\":\"white\",\"linecolor\":\"white\",\"ticks\":\"\",\"title\":{\"standoff\":15},\"zerolinecolor\":\"white\",\"automargin\":true,\"zerolinewidth\":2},\"yaxis\":{\"gridcolor\":\"white\",\"linecolor\":\"white\",\"ticks\":\"\",\"title\":{\"standoff\":15},\"zerolinecolor\":\"white\",\"automargin\":true,\"zerolinewidth\":2},\"scene\":{\"xaxis\":{\"backgroundcolor\":\"#E5ECF6\",\"gridcolor\":\"white\",\"linecolor\":\"white\",\"showbackground\":true,\"ticks\":\"\",\"zerolinecolor\":\"white\",\"gridwidth\":2},\"yaxis\":{\"backgroundcolor\":\"#E5ECF6\",\"gridcolor\":\"white\",\"linecolor\":\"white\",\"showbackground\":true,\"ticks\":\"\",\"zerolinecolor\":\"white\",\"gridwidth\":2},\"zaxis\":{\"backgroundcolor\":\"#E5ECF6\",\"gridcolor\":\"white\",\"linecolor\":\"white\",\"showbackground\":true,\"ticks\":\"\",\"zerolinecolor\":\"white\",\"gridwidth\":2}},\"shapedefaults\":{\"line\":{\"color\":\"#2a3f5f\"}},\"annotationdefaults\":{\"arrowcolor\":\"#2a3f5f\",\"arrowhead\":0,\"arrowwidth\":1},\"geo\":{\"bgcolor\":\"white\",\"landcolor\":\"#E5ECF6\",\"subunitcolor\":\"white\",\"showland\":true,\"showlakes\":true,\"lakecolor\":\"white\"},\"title\":{\"x\":0.05},\"mapbox\":{\"style\":\"light\"}}},\"legend\":{\"tracegroupgap\":0},\"title\":{\"text\":\"Survey Results\",\"font\":{\"size\":42}}},                        {\"responsive\": true}                    ).then(function(){\n",
       "                            \n",
       "var gd = document.getElementById('2e5563b5-ed00-404f-8b39-1650cc33ee20');\n",
       "var x = new MutationObserver(function (mutations, observer) {{\n",
       "        var display = window.getComputedStyle(gd).display;\n",
       "        if (!display || display === 'none') {{\n",
       "            console.log([gd, 'removed!']);\n",
       "            Plotly.purge(gd);\n",
       "            observer.disconnect();\n",
       "        }}\n",
       "}});\n",
       "\n",
       "// Listen for the removal of the full notebook cells\n",
       "var notebookContainer = gd.closest('#notebook-container');\n",
       "if (notebookContainer) {{\n",
       "    x.observe(notebookContainer, {childList: true});\n",
       "}}\n",
       "\n",
       "// Listen for the clearing of the current output cell\n",
       "var outputEl = gd.closest('.output');\n",
       "if (outputEl) {{\n",
       "    x.observe(outputEl, {childList: true});\n",
       "}}\n",
       "\n",
       "                        })                };                });            </script>        </div>"
      ]
     },
     "metadata": {},
     "output_type": "display_data"
    }
   ],
   "source": [
    "fig = px.pie(df,\n",
    "             names='Where do you live?',\n",
    "             title='Survey Results'\n",
    "            )\n",
    "\n",
    "fig.update_traces(\n",
    "            textposition ='inside',\n",
    "            textinfo ='percent+label'\n",
    "            )\n",
    "\n",
    "fig.update_layout(\n",
    "            title_font_size = 42\n",
    "            )\n"
   ]
  },
  {
   "cell_type": "code",
   "execution_count": null,
   "id": "9fae8024-8be1-4b69-9643-557d3fb5b9ba",
   "metadata": {},
   "outputs": [],
   "source": [
    "# This survey shows that 55% of SC course students live on campus, while 45% live off campus."
   ]
  },
  {
   "cell_type": "code",
   "execution_count": 132,
   "id": "0f2589fc-080a-4926-ba3a-6714320b35f1",
   "metadata": {
    "scrolled": true
   },
   "outputs": [
    {
     "data": {
      "text/plain": [
       "Text(0.5, 1.0, 'Age vs Number of People')"
      ]
     },
     "execution_count": 132,
     "metadata": {},
     "output_type": "execute_result"
    },
    {
     "data": {
      "image/png": "[encoded data removed]",
      "text/plain": [
       "<Figure size 640x480 with 1 Axes>"
      ]
     },
     "metadata": {},
     "output_type": "display_data"
    }
   ],
   "source": [
    "plt.hist(df['How old are you?'], bins = 10 , rwidth=0.9 , color='blue')\n",
    "plt.xlabel('age of people')\n",
    "plt.ylabel('number of people')\n",
    "plt.title('Age vs Number of People')"
   ]
  },
  {
   "cell_type": "code",
   "execution_count": null,
   "id": "9d34dbf2-2fe0-4ff8-a723-8de961e024ab",
   "metadata": {
    "scrolled": true
   },
   "outputs": [],
   "source": [
    "# This histogram shows that 9 of the students are 18 years old, 6 of the students are 19 years old, \n",
    "# and there is only one student under the categories of 20 and 21 years old. "
   ]
  },
  {
   "cell_type": "code",
   "execution_count": 180,
   "id": "6ab5a6a4-d197-4163-ae8f-0fd5a1ccc73d",
   "metadata": {},
   "outputs": [
    {
     "data": {
      "text/plain": [
       "Text(0.5, 1.0, 'The place that students are from vs Where they live')"
      ]
     },
     "execution_count": 180,
     "metadata": {},
     "output_type": "execute_result"
    },
    {
     "data": {
      "image/png": "[encoded data removed]",
      "text/plain": [
       "<Figure size 640x480 with 1 Axes>"
      ]
     },
     "metadata": {},
     "output_type": "display_data"
    }
   ],
   "source": [
    "df.plot.scatter(x='What state/country were you born in?', y='Where do you live?', color='blue')\n",
    "plt.xlabel('What state/country were you born in?')\n",
    "plt.ylabel('Where do they live?')\n",
    "plt.title('The place that students are from vs Where they live')\n"
   ]
  },
  {
   "cell_type": "code",
   "execution_count": null,
   "id": "7fbcd052-ec72-4679-b3b0-76f5c00a6899",
   "metadata": {},
   "outputs": [],
   "source": [
    "# This survey shows the students who live on campus and the students who live off campus; it also shows where each student was born."
   ]
  },
  {
   "cell_type": "code",
   "execution_count": 135,
   "id": "0aa2d7eb-3a72-4da4-bec7-4b0642079a18",
   "metadata": {},
   "outputs": [
    {
     "data": {
      "application/vnd.plotly.v1+json": {
       "config": {
        "plotlyServerURL": "https://plot.ly"
       },
       "data": [
        {
         "domain": {
          "x": [
           0,
           1
          ],
          "y": [
           0,
           1
          ]
         },
         "hovertemplate": "How much experience do you have programming?=%{label}<extra></extra>",
         "labels": [
          "6 months - 1 year",
          "0-3 months",
          "0-3 months",
          "0-3 months",
          "0-3 months",
          "0-3 months",
          "0-3 months",
          "0-3 months",
          "0-3 months",
          "0-3 months",
          "0-3 months",
          "0-3 months",
          "4-6 months",
          "1-2 years",
          "0-3 months",
          "0-3 months",
          "0-3 months",
          "0-3 months",
          "0-3 months",
          "6 months - 1 year"
         ],
         "legendgroup": "",
         "name": "",
         "showlegend": true,
         "textinfo": "percent+label",
         "textposition": "inside",
         "type": "pie"
        }
       ],
       "layout": {
        "autosize": true,
        "legend": {
         "tracegroupgap": 0
        },
        "template": {
         "data": {
          "bar": [
           {
            "error_x": {
             "color": "#2a3f5f"
            },
            "error_y": {
             "color": "#2a3f5f"
            },
            "marker": {
             "line": {
              "color": "#E5ECF6",
              "width": 0.5
             },
             "pattern": {
              "fillmode": "overlay",
              "size": 10,
              "solidity": 0.2
             }
            },
            "type": "bar"
           }
          ],
          "barpolar": [
           {
            "marker": {
             "line": {
              "color": "#E5ECF6",
              "width": 0.5
             },
             "pattern": {
              "fillmode": "overlay",
              "size": 10,
              "solidity": 0.2
             }
            },
            "type": "barpolar"
           }
          ],
          "carpet": [
           {
            "aaxis": {
             "endlinecolor": "#2a3f5f",
             "gridcolor": "white",
             "linecolor": "white",
             "minorgridcolor": "white",
             "startlinecolor": "#2a3f5f"
            },
            "baxis": {
             "endlinecolor": "#2a3f5f",
             "gridcolor": "white",
             "linecolor": "white",
             "minorgridcolor": "white",
             "startlinecolor": "#2a3f5f"
            },
            "type": "carpet"
           }
          ],
          "choropleth": [
           {
            "colorbar": {
             "outlinewidth": 0,
             "ticks": ""
            },
            "type": "choropleth"
           }
          ],
          "contour": [
           {
            "colorbar": {
             "outlinewidth": 0,
             "ticks": ""
            },
            "colorscale": [
             [
              0,
              "#0d0887"
             ],
             [
              0.1111111111111111,
              "#46039f"
             ],
             [
              0.2222222222222222,
              "#7201a8"
             ],
             [
              0.3333333333333333,
              "#9c179e"
             ],
             [
              0.4444444444444444,
              "#bd3786"
             ],
             [
              0.5555555555555556,
              "#d8576b"
             ],
             [
              0.6666666666666666,
              "#ed7953"
             ],
             [
              0.7777777777777778,
              "#fb9f3a"
             ],
             [
              0.8888888888888888,
              "#fdca26"
             ],
             [
              1,
              "#f0f921"
             ]
            ],
            "type": "contour"
           }
          ],
          "contourcarpet": [
           {
            "colorbar": {
             "outlinewidth": 0,
             "ticks": ""
            },
            "type": "contourcarpet"
           }
          ],
          "heatmap": [
           {
            "colorbar": {
             "outlinewidth": 0,
             "ticks": ""
            },
            "colorscale": [
             [
              0,
              "#0d0887"
             ],
             [
              0.1111111111111111,
              "#46039f"
             ],
             [
              0.2222222222222222,
              "#7201a8"
             ],
             [
              0.3333333333333333,
              "#9c179e"
             ],
             [
              0.4444444444444444,
              "#bd3786"
             ],
             [
              0.5555555555555556,
              "#d8576b"
             ],
             [
              0.6666666666666666,
              "#ed7953"
             ],
             [
              0.7777777777777778,
              "#fb9f3a"
             ],
             [
              0.8888888888888888,
              "#fdca26"
             ],
             [
              1,
              "#f0f921"
             ]
            ],
            "type": "heatmap"
           }
          ],
          "heatmapgl": [
           {
            "colorbar": {
             "outlinewidth": 0,
             "ticks": ""
            },
            "colorscale": [
             [
              0,
              "#0d0887"
             ],
             [
              0.1111111111111111,
              "#46039f"
             ],
             [
              0.2222222222222222,
              "#7201a8"
             ],
             [
              0.3333333333333333,
              "#9c179e"
             ],
             [
              0.4444444444444444,
              "#bd3786"
             ],
             [
              0.5555555555555556,
              "#d8576b"
             ],
             [
              0.6666666666666666,
              "#ed7953"
             ],
             [
              0.7777777777777778,
              "#fb9f3a"
             ],
             [
              0.8888888888888888,
              "#fdca26"
             ],
             [
              1,
              "#f0f921"
             ]
            ],
            "type": "heatmapgl"
           }
          ],
          "histogram": [
           {
            "marker": {
             "pattern": {
              "fillmode": "overlay",
              "size": 10,
              "solidity": 0.2
             }
            },
            "type": "histogram"
           }
          ],
          "histogram2d": [
           {
            "colorbar": {
             "outlinewidth": 0,
             "ticks": ""
            },
            "colorscale": [
             [
              0,
              "#0d0887"
             ],
             [
              0.1111111111111111,
              "#46039f"
             ],
             [
              0.2222222222222222,
              "#7201a8"
             ],
             [
              0.3333333333333333,
              "#9c179e"
             ],
             [
              0.4444444444444444,
              "#bd3786"
             ],
             [
              0.5555555555555556,
              "#d8576b"
             ],
             [
              0.6666666666666666,
              "#ed7953"
             ],
             [
              0.7777777777777778,
              "#fb9f3a"
             ],
             [
              0.8888888888888888,
              "#fdca26"
             ],
             [
              1,
              "#f0f921"
             ]
            ],
            "type": "histogram2d"
           }
          ],
          "histogram2dcontour": [
           {
            "colorbar": {
             "outlinewidth": 0,
             "ticks": ""
            },
            "colorscale": [
             [
              0,
              "#0d0887"
             ],
             [
              0.1111111111111111,
              "#46039f"
             ],
             [
              0.2222222222222222,
              "#7201a8"
             ],
             [
              0.3333333333333333,
              "#9c179e"
             ],
             [
              0.4444444444444444,
              "#bd3786"
             ],
             [
              0.5555555555555556,
              "#d8576b"
             ],
             [
              0.6666666666666666,
              "#ed7953"
             ],
             [
              0.7777777777777778,
              "#fb9f3a"
             ],
             [
              0.8888888888888888,
              "#fdca26"
             ],
             [
              1,
              "#f0f921"
             ]
            ],
            "type": "histogram2dcontour"
           }
          ],
          "mesh3d": [
           {
            "colorbar": {
             "outlinewidth": 0,
             "ticks": ""
            },
            "type": "mesh3d"
           }
          ],
          "parcoords": [
           {
            "line": {
             "colorbar": {
              "outlinewidth": 0,
              "ticks": ""
             }
            },
            "type": "parcoords"
           }
          ],
          "pie": [
           {
            "automargin": true,
            "type": "pie"
           }
          ],
          "scatter": [
           {
            "fillpattern": {
             "fillmode": "overlay",
             "size": 10,
             "solidity": 0.2
            },
            "type": "scatter"
           }
          ],
          "scatter3d": [
           {
            "line": {
             "colorbar": {
              "outlinewidth": 0,
              "ticks": ""
             }
            },
            "marker": {
             "colorbar": {
              "outlinewidth": 0,
              "ticks": ""
             }
            },
            "type": "scatter3d"
           }
          ],
          "scattercarpet": [
           {
            "marker": {
             "colorbar": {
              "outlinewidth": 0,
              "ticks": ""
             }
            },
            "type": "scattercarpet"
           }
          ],
          "scattergeo": [
           {
            "marker": {
             "colorbar": {
              "outlinewidth": 0,
              "ticks": ""
             }
            },
            "type": "scattergeo"
           }
          ],
          "scattergl": [
           {
            "marker": {
             "colorbar": {
              "outlinewidth": 0,
              "ticks": ""
             }
            },
            "type": "scattergl"
           }
          ],
          "scattermapbox": [
           {
            "marker": {
             "colorbar": {
              "outlinewidth": 0,
              "ticks": ""
             }
            },
            "type": "scattermapbox"
           }
          ],
          "scatterpolar": [
           {
            "marker": {
             "colorbar": {
              "outlinewidth": 0,
              "ticks": ""
             }
            },
            "type": "scatterpolar"
           }
          ],
          "scatterpolargl": [
           {
            "marker": {
             "colorbar": {
              "outlinewidth": 0,
              "ticks": ""
             }
            },
            "type": "scatterpolargl"
           }
          ],
          "scatterternary": [
           {
            "marker": {
             "colorbar": {
              "outlinewidth": 0,
              "ticks": ""
             }
            },
            "type": "scatterternary"
           }
          ],
          "surface": [
           {
            "colorbar": {
             "outlinewidth": 0,
             "ticks": ""
            },
            "colorscale": [
             [
              0,
              "#0d0887"
             ],
             [
              0.1111111111111111,
              "#46039f"
             ],
             [
              0.2222222222222222,
              "#7201a8"
             ],
             [
              0.3333333333333333,
              "#9c179e"
             ],
             [
              0.4444444444444444,
              "#bd3786"
             ],
             [
              0.5555555555555556,
              "#d8576b"
             ],
             [
              0.6666666666666666,
              "#ed7953"
             ],
             [
              0.7777777777777778,
              "#fb9f3a"
             ],
             [
              0.8888888888888888,
              "#fdca26"
             ],
             [
              1,
              "#f0f921"
             ]
            ],
            "type": "surface"
           }
          ],
          "table": [
           {
            "cells": {
             "fill": {
              "color": "#EBF0F8"
             },
             "line": {
              "color": "white"
             }
            },
            "header": {
             "fill": {
              "color": "#C8D4E3"
             },
             "line": {
              "color": "white"
             }
            },
            "type": "table"
           }
          ]
         },
         "layout": {
          "annotationdefaults": {
           "arrowcolor": "#2a3f5f",
           "arrowhead": 0,
           "arrowwidth": 1
          },
          "autotypenumbers": "strict",
          "coloraxis": {
           "colorbar": {
            "outlinewidth": 0,
            "ticks": ""
           }
          },
          "colorscale": {
           "diverging": [
            [
             0,
             "#8e0152"
            ],
            [
             0.1,
             "#c51b7d"
            ],
            [
             0.2,
             "#de77ae"
            ],
            [
             0.3,
             "#f1b6da"
            ],
            [
             0.4,
             "#fde0ef"
            ],
            [
             0.5,
             "#f7f7f7"
            ],
            [
             0.6,
             "#e6f5d0"
            ],
            [
             0.7,
             "#b8e186"
            ],
            [
             0.8,
             "#7fbc41"
            ],
            [
             0.9,
             "#4d9221"
            ],
            [
             1,
             "#276419"
            ]
           ],
           "sequential": [
            [
             0,
             "#0d0887"
            ],
            [
             0.1111111111111111,
             "#46039f"
            ],
            [
             0.2222222222222222,
             "#7201a8"
            ],
            [
             0.3333333333333333,
             "#9c179e"
            ],
            [
             0.4444444444444444,
             "#bd3786"
            ],
            [
             0.5555555555555556,
             "#d8576b"
            ],
            [
             0.6666666666666666,
             "#ed7953"
            ],
            [
             0.7777777777777778,
             "#fb9f3a"
            ],
            [
             0.8888888888888888,
             "#fdca26"
            ],
            [
             1,
             "#f0f921"
            ]
           ],
           "sequentialminus": [
            [
             0,
             "#0d0887"
            ],
            [
             0.1111111111111111,
             "#46039f"
            ],
            [
             0.2222222222222222,
             "#7201a8"
            ],
            [
             0.3333333333333333,
             "#9c179e"
            ],
            [
             0.4444444444444444,
             "#bd3786"
            ],
            [
             0.5555555555555556,
             "#d8576b"
            ],
            [
             0.6666666666666666,
             "#ed7953"
            ],
            [
             0.7777777777777778,
             "#fb9f3a"
            ],
            [
             0.8888888888888888,
             "#fdca26"
            ],
            [
             1,
             "#f0f921"
            ]
           ]
          },
          "colorway": [
           "#636efa",
           "#EF553B",
           "#00cc96",
           "#ab63fa",
           "#FFA15A",
           "#19d3f3",
           "#FF6692",
           "#B6E880",
           "#FF97FF",
           "#FECB52"
          ],
          "font": {
           "color": "#2a3f5f"
          },
          "geo": {
           "bgcolor": "white",
           "lakecolor": "white",
           "landcolor": "#E5ECF6",
           "showlakes": true,
           "showland": true,
           "subunitcolor": "white"
          },
          "hoverlabel": {
           "align": "left"
          },
          "hovermode": "closest",
          "mapbox": {
           "style": "light"
          },
          "paper_bgcolor": "white",
          "plot_bgcolor": "#E5ECF6",
          "polar": {
           "angularaxis": {
            "gridcolor": "white",
            "linecolor": "white",
            "ticks": ""
           },
           "bgcolor": "#E5ECF6",
           "radialaxis": {
            "gridcolor": "white",
            "linecolor": "white",
            "ticks": ""
           }
          },
          "scene": {
           "xaxis": {
            "backgroundcolor": "#E5ECF6",
            "gridcolor": "white",
            "gridwidth": 2,
            "linecolor": "white",
            "showbackground": true,
            "ticks": "",
            "zerolinecolor": "white"
           },
           "yaxis": {
            "backgroundcolor": "#E5ECF6",
            "gridcolor": "white",
            "gridwidth": 2,
            "linecolor": "white",
            "showbackground": true,
            "ticks": "",
            "zerolinecolor": "white"
           },
           "zaxis": {
            "backgroundcolor": "#E5ECF6",
            "gridcolor": "white",
            "gridwidth": 2,
            "linecolor": "white",
            "showbackground": true,
            "ticks": "",
            "zerolinecolor": "white"
           }
          },
          "shapedefaults": {
           "line": {
            "color": "#2a3f5f"
           }
          },
          "ternary": {
           "aaxis": {
            "gridcolor": "white",
            "linecolor": "white",
            "ticks": ""
           },
           "baxis": {
            "gridcolor": "white",
            "linecolor": "white",
            "ticks": ""
           },
           "bgcolor": "#E5ECF6",
           "caxis": {
            "gridcolor": "white",
            "linecolor": "white",
            "ticks": ""
           }
          },
          "title": {
           "x": 0.05
          },
          "xaxis": {
           "automargin": true,
           "gridcolor": "white",
           "linecolor": "white",
           "ticks": "",
           "title": {
            "standoff": 15
           },
           "zerolinecolor": "white",
           "zerolinewidth": 2
          },
          "yaxis": {
           "automargin": true,
           "gridcolor": "white",
           "linecolor": "white",
           "ticks": "",
           "title": {
            "standoff": 15
           },
           "zerolinecolor": "white",
           "zerolinewidth": 2
          }
         }
        },
        "title": {
         "font": {
          "size": 42
         },
         "text": "Survey Results"
        }
       }
      },
      "image/png": "[encoded data removed]",
      "text/html": [
       "<div>                            <div id=\"ca4e80fd-fb7a-45e2-9651-86e9a2fa1969\" class=\"plotly-graph-div\" style=\"height:525px; width:100%;\"></div>            <script type=\"text/javascript\">                require([\"plotly\"], function(Plotly) {                    window.PLOTLYENV=window.PLOTLYENV || {};                                    if (document.getElementById(\"ca4e80fd-fb7a-45e2-9651-86e9a2fa1969\")) {                    Plotly.newPlot(                        \"ca4e80fd-fb7a-45e2-9651-86e9a2fa1969\",                        [{\"domain\":{\"x\":[0.0,1.0],\"y\":[0.0,1.0]},\"hovertemplate\":\"How much experience do you have programming?=%{label}\\u003cextra\\u003e\\u003c\\u002fextra\\u003e\",\"labels\":[\"6 months - 1 year\",\"0-3 months\",\"0-3 months\",\"0-3 months\",\"0-3 months\",\"0-3 months\",\"0-3 months\",\"0-3 months\",\"0-3 months\",\"0-3 months\",\"0-3 months\",\"0-3 months\",\"4-6 months\",\"1-2 years\",\"0-3 months\",\"0-3 months\",\"0-3 months\",\"0-3 months\",\"0-3 months\",\"6 months - 1 year\"],\"legendgroup\":\"\",\"name\":\"\",\"showlegend\":true,\"type\":\"pie\",\"textinfo\":\"percent+label\",\"textposition\":\"inside\"}],                        {\"template\":{\"data\":{\"histogram2dcontour\":[{\"type\":\"histogram2dcontour\",\"colorbar\":{\"outlinewidth\":0,\"ticks\":\"\"},\"colorscale\":[[0.0,\"#0d0887\"],[0.1111111111111111,\"#46039f\"],[0.2222222222222222,\"#7201a8\"],[0.3333333333333333,\"#9c179e\"],[0.4444444444444444,\"#bd3786\"],[0.5555555555555556,\"#d8576b\"],[0.6666666666666666,\"#ed7953\"],[0.7777777777777778,\"#fb9f3a\"],[0.8888888888888888,\"#fdca26\"],[1.0,\"#f0f921\"]]}],\"choropleth\":[{\"type\":\"choropleth\",\"colorbar\":{\"outlinewidth\":0,\"ticks\":\"\"}}],\"histogram2d\":[{\"type\":\"histogram2d\",\"colorbar\":{\"outlinewidth\":0,\"ticks\":\"\"},\"colorscale\":[[0.0,\"#0d0887\"],[0.1111111111111111,\"#46039f\"],[0.2222222222222222,\"#7201a8\"],[0.3333333333333333,\"#9c179e\"],[0.4444444444444444,\"#bd3786\"],[0.5555555555555556,\"#d8576b\"],[0.6666666666666666,\"#ed7953\"],[0.7777777777777778,\"#fb9f3a\"],[0.8888888888888888,\"#fdca26\"],[1.0,\"#f0f921\"]]}],\"heatmap\":[{\"type\":\"heatmap\",\"colorbar\":{\"outlinewidth\":0,\"ticks\":\"\"},\"colorscale\":[[0.0,\"#0d0887\"],[0.1111111111111111,\"#46039f\"],[0.2222222222222222,\"#7201a8\"],[0.3333333333333333,\"#9c179e\"],[0.4444444444444444,\"#bd3786\"],[0.5555555555555556,\"#d8576b\"],[0.6666666666666666,\"#ed7953\"],[0.7777777777777778,\"#fb9f3a\"],[0.8888888888888888,\"#fdca26\"],[1.0,\"#f0f921\"]]}],\"heatmapgl\":[{\"type\":\"heatmapgl\",\"colorbar\":{\"outlinewidth\":0,\"ticks\":\"\"},\"colorscale\":[[0.0,\"#0d0887\"],[0.1111111111111111,\"#46039f\"],[0.2222222222222222,\"#7201a8\"],[0.3333333333333333,\"#9c179e\"],[0.4444444444444444,\"#bd3786\"],[0.5555555555555556,\"#d8576b\"],[0.6666666666666666,\"#ed7953\"],[0.7777777777777778,\"#fb9f3a\"],[0.8888888888888888,\"#fdca26\"],[1.0,\"#f0f921\"]]}],\"contourcarpet\":[{\"type\":\"contourcarpet\",\"colorbar\":{\"outlinewidth\":0,\"ticks\":\"\"}}],\"contour\":[{\"type\":\"contour\",\"colorbar\":{\"outlinewidth\":0,\"ticks\":\"\"},\"colorscale\":[[0.0,\"#0d0887\"],[0.1111111111111111,\"#46039f\"],[0.2222222222222222,\"#7201a8\"],[0.3333333333333333,\"#9c179e\"],[0.4444444444444444,\"#bd3786\"],[0.5555555555555556,\"#d8576b\"],[0.6666666666666666,\"#ed7953\"],[0.7777777777777778,\"#fb9f3a\"],[0.8888888888888888,\"#fdca26\"],[1.0,\"#f0f921\"]]}],\"surface\":[{\"type\":\"surface\",\"colorbar\":{\"outlinewidth\":0,\"ticks\":\"\"},\"colorscale\":[[0.0,\"#0d0887\"],[0.1111111111111111,\"#46039f\"],[0.2222222222222222,\"#7201a8\"],[0.3333333333333333,\"#9c179e\"],[0.4444444444444444,\"#bd3786\"],[0.5555555555555556,\"#d8576b\"],[0.6666666666666666,\"#ed7953\"],[0.7777777777777778,\"#fb9f3a\"],[0.8888888888888888,\"#fdca26\"],[1.0,\"#f0f921\"]]}],\"mesh3d\":[{\"type\":\"mesh3d\",\"colorbar\":{\"outlinewidth\":0,\"ticks\":\"\"}}],\"scatter\":[{\"fillpattern\":{\"fillmode\":\"overlay\",\"size\":10,\"solidity\":0.2},\"type\":\"scatter\"}],\"parcoords\":[{\"type\":\"parcoords\",\"line\":{\"colorbar\":{\"outlinewidth\":0,\"ticks\":\"\"}}}],\"scatterpolargl\":[{\"type\":\"scatterpolargl\",\"marker\":{\"colorbar\":{\"outlinewidth\":0,\"ticks\":\"\"}}}],\"bar\":[{\"error_x\":{\"color\":\"#2a3f5f\"},\"error_y\":{\"color\":\"#2a3f5f\"},\"marker\":{\"line\":{\"color\":\"#E5ECF6\",\"width\":0.5},\"pattern\":{\"fillmode\":\"overlay\",\"size\":10,\"solidity\":0.2}},\"type\":\"bar\"}],\"scattergeo\":[{\"type\":\"scattergeo\",\"marker\":{\"colorbar\":{\"outlinewidth\":0,\"ticks\":\"\"}}}],\"scatterpolar\":[{\"type\":\"scatterpolar\",\"marker\":{\"colorbar\":{\"outlinewidth\":0,\"ticks\":\"\"}}}],\"histogram\":[{\"marker\":{\"pattern\":{\"fillmode\":\"overlay\",\"size\":10,\"solidity\":0.2}},\"type\":\"histogram\"}],\"scattergl\":[{\"type\":\"scattergl\",\"marker\":{\"colorbar\":{\"outlinewidth\":0,\"ticks\":\"\"}}}],\"scatter3d\":[{\"type\":\"scatter3d\",\"line\":{\"colorbar\":{\"outlinewidth\":0,\"ticks\":\"\"}},\"marker\":{\"colorbar\":{\"outlinewidth\":0,\"ticks\":\"\"}}}],\"scattermapbox\":[{\"type\":\"scattermapbox\",\"marker\":{\"colorbar\":{\"outlinewidth\":0,\"ticks\":\"\"}}}],\"scatterternary\":[{\"type\":\"scatterternary\",\"marker\":{\"colorbar\":{\"outlinewidth\":0,\"ticks\":\"\"}}}],\"scattercarpet\":[{\"type\":\"scattercarpet\",\"marker\":{\"colorbar\":{\"outlinewidth\":0,\"ticks\":\"\"}}}],\"carpet\":[{\"aaxis\":{\"endlinecolor\":\"#2a3f5f\",\"gridcolor\":\"white\",\"linecolor\":\"white\",\"minorgridcolor\":\"white\",\"startlinecolor\":\"#2a3f5f\"},\"baxis\":{\"endlinecolor\":\"#2a3f5f\",\"gridcolor\":\"white\",\"linecolor\":\"white\",\"minorgridcolor\":\"white\",\"startlinecolor\":\"#2a3f5f\"},\"type\":\"carpet\"}],\"table\":[{\"cells\":{\"fill\":{\"color\":\"#EBF0F8\"},\"line\":{\"color\":\"white\"}},\"header\":{\"fill\":{\"color\":\"#C8D4E3\"},\"line\":{\"color\":\"white\"}},\"type\":\"table\"}],\"barpolar\":[{\"marker\":{\"line\":{\"color\":\"#E5ECF6\",\"width\":0.5},\"pattern\":{\"fillmode\":\"overlay\",\"size\":10,\"solidity\":0.2}},\"type\":\"barpolar\"}],\"pie\":[{\"automargin\":true,\"type\":\"pie\"}]},\"layout\":{\"autotypenumbers\":\"strict\",\"colorway\":[\"#636efa\",\"#EF553B\",\"#00cc96\",\"#ab63fa\",\"#FFA15A\",\"#19d3f3\",\"#FF6692\",\"#B6E880\",\"#FF97FF\",\"#FECB52\"],\"font\":{\"color\":\"#2a3f5f\"},\"hovermode\":\"closest\",\"hoverlabel\":{\"align\":\"left\"},\"paper_bgcolor\":\"white\",\"plot_bgcolor\":\"#E5ECF6\",\"polar\":{\"bgcolor\":\"#E5ECF6\",\"angularaxis\":{\"gridcolor\":\"white\",\"linecolor\":\"white\",\"ticks\":\"\"},\"radialaxis\":{\"gridcolor\":\"white\",\"linecolor\":\"white\",\"ticks\":\"\"}},\"ternary\":{\"bgcolor\":\"#E5ECF6\",\"aaxis\":{\"gridcolor\":\"white\",\"linecolor\":\"white\",\"ticks\":\"\"},\"baxis\":{\"gridcolor\":\"white\",\"linecolor\":\"white\",\"ticks\":\"\"},\"caxis\":{\"gridcolor\":\"white\",\"linecolor\":\"white\",\"ticks\":\"\"}},\"coloraxis\":{\"colorbar\":{\"outlinewidth\":0,\"ticks\":\"\"}},\"colorscale\":{\"sequential\":[[0.0,\"#0d0887\"],[0.1111111111111111,\"#46039f\"],[0.2222222222222222,\"#7201a8\"],[0.3333333333333333,\"#9c179e\"],[0.4444444444444444,\"#bd3786\"],[0.5555555555555556,\"#d8576b\"],[0.6666666666666666,\"#ed7953\"],[0.7777777777777778,\"#fb9f3a\"],[0.8888888888888888,\"#fdca26\"],[1.0,\"#f0f921\"]],\"sequentialminus\":[[0.0,\"#0d0887\"],[0.1111111111111111,\"#46039f\"],[0.2222222222222222,\"#7201a8\"],[0.3333333333333333,\"#9c179e\"],[0.4444444444444444,\"#bd3786\"],[0.5555555555555556,\"#d8576b\"],[0.6666666666666666,\"#ed7953\"],[0.7777777777777778,\"#fb9f3a\"],[0.8888888888888888,\"#fdca26\"],[1.0,\"#f0f921\"]],\"diverging\":[[0,\"#8e0152\"],[0.1,\"#c51b7d\"],[0.2,\"#de77ae\"],[0.3,\"#f1b6da\"],[0.4,\"#fde0ef\"],[0.5,\"#f7f7f7\"],[0.6,\"#e6f5d0\"],[0.7,\"#b8e186\"],[0.8,\"#7fbc41\"],[0.9,\"#4d9221\"],[1,\"#276419\"]]},\"xaxis\":{\"gridcolor\":\"white\",\"linecolor\":\"white\",\"ticks\":\"\",\"title\":{\"standoff\":15},\"zerolinecolor\":\"white\",\"automargin\":true,\"zerolinewidth\":2},\"yaxis\":{\"gridcolor\":\"white\",\"linecolor\":\"white\",\"ticks\":\"\",\"title\":{\"standoff\":15},\"zerolinecolor\":\"white\",\"automargin\":true,\"zerolinewidth\":2},\"scene\":{\"xaxis\":{\"backgroundcolor\":\"#E5ECF6\",\"gridcolor\":\"white\",\"linecolor\":\"white\",\"showbackground\":true,\"ticks\":\"\",\"zerolinecolor\":\"white\",\"gridwidth\":2},\"yaxis\":{\"backgroundcolor\":\"#E5ECF6\",\"gridcolor\":\"white\",\"linecolor\":\"white\",\"showbackground\":true,\"ticks\":\"\",\"zerolinecolor\":\"white\",\"gridwidth\":2},\"zaxis\":{\"backgroundcolor\":\"#E5ECF6\",\"gridcolor\":\"white\",\"linecolor\":\"white\",\"showbackground\":true,\"ticks\":\"\",\"zerolinecolor\":\"white\",\"gridwidth\":2}},\"shapedefaults\":{\"line\":{\"color\":\"#2a3f5f\"}},\"annotationdefaults\":{\"arrowcolor\":\"#2a3f5f\",\"arrowhead\":0,\"arrowwidth\":1},\"geo\":{\"bgcolor\":\"white\",\"landcolor\":\"#E5ECF6\",\"subunitcolor\":\"white\",\"showland\":true,\"showlakes\":true,\"lakecolor\":\"white\"},\"title\":{\"x\":0.05},\"mapbox\":{\"style\":\"light\"}}},\"legend\":{\"tracegroupgap\":0},\"title\":{\"text\":\"Survey Results\",\"font\":{\"size\":42}}},                        {\"responsive\": true}                    ).then(function(){\n",
       "                            \n",
       "var gd = document.getElementById('ca4e80fd-fb7a-45e2-9651-86e9a2fa1969');\n",
       "var x = new MutationObserver(function (mutations, observer) {{\n",
       "        var display = window.getComputedStyle(gd).display;\n",
       "        if (!display || display === 'none') {{\n",
       "            console.log([gd, 'removed!']);\n",
       "            Plotly.purge(gd);\n",
       "            observer.disconnect();\n",
       "        }}\n",
       "}});\n",
       "\n",
       "// Listen for the removal of the full notebook cells\n",
       "var notebookContainer = gd.closest('#notebook-container');\n",
       "if (notebookContainer) {{\n",
       "    x.observe(notebookContainer, {childList: true});\n",
       "}}\n",
       "\n",
       "// Listen for the clearing of the current output cell\n",
       "var outputEl = gd.closest('.output');\n",
       "if (outputEl) {{\n",
       "    x.observe(outputEl, {childList: true});\n",
       "}}\n",
       "\n",
       "                        })                };                });            </script>        </div>"
      ]
     },
     "metadata": {},
     "output_type": "display_data"
    }
   ],
   "source": [
    "fig = px.pie(df,\n",
    "             names='How much experience do you have programming?',\n",
    "             title='Survey Results'\n",
    "            )\n",
    "\n",
    "fig.update_traces(\n",
    "            textposition ='inside',\n",
    "            textinfo ='percent+label'\n",
    "            )\n",
    "\n",
    "fig.update_layout(\n",
    "            title_font_size = 42\n",
    "            )"
   ]
  },
  {
   "cell_type": "code",
   "execution_count": null,
   "id": "55930a52-6bc4-49a9-ad0d-8053b78541d3",
   "metadata": {},
   "outputs": [],
   "source": [
    "# This survey shows that 80% of SC course students have between 0-3 months of programming experience, \n",
    "# 10% have between 6 months to a year, 5% have 4-6 months of experience, and 5% have 1-2 years of experience in programming."
   ]
  },
  {
   "cell_type": "code",
   "execution_count": 136,
   "id": "89753258-096f-4893-acdf-bfb17d7c8b50",
   "metadata": {},
   "outputs": [
    {
     "data": {
      "application/vnd.plotly.v1+json": {
       "config": {
        "plotlyServerURL": "https://plot.ly"
       },
       "data": [
        {
         "domain": {
          "x": [
           0,
           1
          ],
          "y": [
           0,
           1
          ]
         },
         "hovertemplate": "Do you take the metro?=%{label}<extra></extra>",
         "labels": [
          "No",
          "No",
          "No",
          "No",
          "Yes",
          "No",
          "Yes",
          "No",
          "Yes",
          "No",
          "No",
          "No",
          "No",
          "No",
          "No",
          "No",
          "No",
          "Yes",
          "No",
          "No"
         ],
         "legendgroup": "",
         "name": "",
         "showlegend": true,
         "textinfo": "percent+label",
         "textposition": "inside",
         "type": "pie"
        }
       ],
       "layout": {
        "autosize": true,
        "legend": {
         "tracegroupgap": 0
        },
        "template": {
         "data": {
          "bar": [
           {
            "error_x": {
             "color": "#2a3f5f"
            },
            "error_y": {
             "color": "#2a3f5f"
            },
            "marker": {
             "line": {
              "color": "#E5ECF6",
              "width": 0.5
             },
             "pattern": {
              "fillmode": "overlay",
              "size": 10,
              "solidity": 0.2
             }
            },
            "type": "bar"
           }
          ],
          "barpolar": [
           {
            "marker": {
             "line": {
              "color": "#E5ECF6",
              "width": 0.5
             },
             "pattern": {
              "fillmode": "overlay",
              "size": 10,
              "solidity": 0.2
             }
            },
            "type": "barpolar"
           }
          ],
          "carpet": [
           {
            "aaxis": {
             "endlinecolor": "#2a3f5f",
             "gridcolor": "white",
             "linecolor": "white",
             "minorgridcolor": "white",
             "startlinecolor": "#2a3f5f"
            },
            "baxis": {
             "endlinecolor": "#2a3f5f",
             "gridcolor": "white",
             "linecolor": "white",
             "minorgridcolor": "white",
             "startlinecolor": "#2a3f5f"
            },
            "type": "carpet"
           }
          ],
          "choropleth": [
           {
            "colorbar": {
             "outlinewidth": 0,
             "ticks": ""
            },
            "type": "choropleth"
           }
          ],
          "contour": [
           {
            "colorbar": {
             "outlinewidth": 0,
             "ticks": ""
            },
            "colorscale": [
             [
              0,
              "#0d0887"
             ],
             [
              0.1111111111111111,
              "#46039f"
             ],
             [
              0.2222222222222222,
              "#7201a8"
             ],
             [
              0.3333333333333333,
              "#9c179e"
             ],
             [
              0.4444444444444444,
              "#bd3786"
             ],
             [
              0.5555555555555556,
              "#d8576b"
             ],
             [
              0.6666666666666666,
              "#ed7953"
             ],
             [
              0.7777777777777778,
              "#fb9f3a"
             ],
             [
              0.8888888888888888,
              "#fdca26"
             ],
             [
              1,
              "#f0f921"
             ]
            ],
            "type": "contour"
           }
          ],
          "contourcarpet": [
           {
            "colorbar": {
             "outlinewidth": 0,
             "ticks": ""
            },
            "type": "contourcarpet"
           }
          ],
          "heatmap": [
           {
            "colorbar": {
             "outlinewidth": 0,
             "ticks": ""
            },
            "colorscale": [
             [
              0,
              "#0d0887"
             ],
             [
              0.1111111111111111,
              "#46039f"
             ],
             [
              0.2222222222222222,
              "#7201a8"
             ],
             [
              0.3333333333333333,
              "#9c179e"
             ],
             [
              0.4444444444444444,
              "#bd3786"
             ],
             [
              0.5555555555555556,
              "#d8576b"
             ],
             [
              0.6666666666666666,
              "#ed7953"
             ],
             [
              0.7777777777777778,
              "#fb9f3a"
             ],
             [
              0.8888888888888888,
              "#fdca26"
             ],
             [
              1,
              "#f0f921"
             ]
            ],
            "type": "heatmap"
           }
          ],
          "heatmapgl": [
           {
            "colorbar": {
             "outlinewidth": 0,
             "ticks": ""
            },
            "colorscale": [
             [
              0,
              "#0d0887"
             ],
             [
              0.1111111111111111,
              "#46039f"
             ],
             [
              0.2222222222222222,
              "#7201a8"
             ],
             [
              0.3333333333333333,
              "#9c179e"
             ],
             [
              0.4444444444444444,
              "#bd3786"
             ],
             [
              0.5555555555555556,
              "#d8576b"
             ],
             [
              0.6666666666666666,
              "#ed7953"
             ],
             [
              0.7777777777777778,
              "#fb9f3a"
             ],
             [
              0.8888888888888888,
              "#fdca26"
             ],
             [
              1,
              "#f0f921"
             ]
            ],
            "type": "heatmapgl"
           }
          ],
          "histogram": [
           {
            "marker": {
             "pattern": {
              "fillmode": "overlay",
              "size": 10,
              "solidity": 0.2
             }
            },
            "type": "histogram"
           }
          ],
          "histogram2d": [
           {
            "colorbar": {
             "outlinewidth": 0,
             "ticks": ""
            },
            "colorscale": [
             [
              0,
              "#0d0887"
             ],
             [
              0.1111111111111111,
              "#46039f"
             ],
             [
              0.2222222222222222,
              "#7201a8"
             ],
             [
              0.3333333333333333,
              "#9c179e"
             ],
             [
              0.4444444444444444,
              "#bd3786"
             ],
             [
              0.5555555555555556,
              "#d8576b"
             ],
             [
              0.6666666666666666,
              "#ed7953"
             ],
             [
              0.7777777777777778,
              "#fb9f3a"
             ],
             [
              0.8888888888888888,
              "#fdca26"
             ],
             [
              1,
              "#f0f921"
             ]
            ],
            "type": "histogram2d"
           }
          ],
          "histogram2dcontour": [
           {
            "colorbar": {
             "outlinewidth": 0,
             "ticks": ""
            },
            "colorscale": [
             [
              0,
              "#0d0887"
             ],
             [
              0.1111111111111111,
              "#46039f"
             ],
             [
              0.2222222222222222,
              "#7201a8"
             ],
             [
              0.3333333333333333,
              "#9c179e"
             ],
             [
              0.4444444444444444,
              "#bd3786"
             ],
             [
              0.5555555555555556,
              "#d8576b"
             ],
             [
              0.6666666666666666,
              "#ed7953"
             ],
             [
              0.7777777777777778,
              "#fb9f3a"
             ],
             [
              0.8888888888888888,
              "#fdca26"
             ],
             [
              1,
              "#f0f921"
             ]
            ],
            "type": "histogram2dcontour"
           }
          ],
          "mesh3d": [
           {
            "colorbar": {
             "outlinewidth": 0,
             "ticks": ""
            },
            "type": "mesh3d"
           }
          ],
          "parcoords": [
           {
            "line": {
             "colorbar": {
              "outlinewidth": 0,
              "ticks": ""
             }
            },
            "type": "parcoords"
           }
          ],
          "pie": [
           {
            "automargin": true,
            "type": "pie"
           }
          ],
          "scatter": [
           {
            "fillpattern": {
             "fillmode": "overlay",
             "size": 10,
             "solidity": 0.2
            },
            "type": "scatter"
           }
          ],
          "scatter3d": [
           {
            "line": {
             "colorbar": {
              "outlinewidth": 0,
              "ticks": ""
             }
            },
            "marker": {
             "colorbar": {
              "outlinewidth": 0,
              "ticks": ""
             }
            },
            "type": "scatter3d"
           }
          ],
          "scattercarpet": [
           {
            "marker": {
             "colorbar": {
              "outlinewidth": 0,
              "ticks": ""
             }
            },
            "type": "scattercarpet"
           }
          ],
          "scattergeo": [
           {
            "marker": {
             "colorbar": {
              "outlinewidth": 0,
              "ticks": ""
             }
            },
            "type": "scattergeo"
           }
          ],
          "scattergl": [
           {
            "marker": {
             "colorbar": {
              "outlinewidth": 0,
              "ticks": ""
             }
            },
            "type": "scattergl"
           }
          ],
          "scattermapbox": [
           {
            "marker": {
             "colorbar": {
              "outlinewidth": 0,
              "ticks": ""
             }
            },
            "type": "scattermapbox"
           }
          ],
          "scatterpolar": [
           {
            "marker": {
             "colorbar": {
              "outlinewidth": 0,
              "ticks": ""
             }
            },
            "type": "scatterpolar"
           }
          ],
          "scatterpolargl": [
           {
            "marker": {
             "colorbar": {
              "outlinewidth": 0,
              "ticks": ""
             }
            },
            "type": "scatterpolargl"
           }
          ],
          "scatterternary": [
           {
            "marker": {
             "colorbar": {
              "outlinewidth": 0,
              "ticks": ""
             }
            },
            "type": "scatterternary"
           }
          ],
          "surface": [
           {
            "colorbar": {
             "outlinewidth": 0,
             "ticks": ""
            },
            "colorscale": [
             [
              0,
              "#0d0887"
             ],
             [
              0.1111111111111111,
              "#46039f"
             ],
             [
              0.2222222222222222,
              "#7201a8"
             ],
             [
              0.3333333333333333,
              "#9c179e"
             ],
             [
              0.4444444444444444,
              "#bd3786"
             ],
             [
              0.5555555555555556,
              "#d8576b"
             ],
             [
              0.6666666666666666,
              "#ed7953"
             ],
             [
              0.7777777777777778,
              "#fb9f3a"
             ],
             [
              0.8888888888888888,
              "#fdca26"
             ],
             [
              1,
              "#f0f921"
             ]
            ],
            "type": "surface"
           }
          ],
          "table": [
           {
            "cells": {
             "fill": {
              "color": "#EBF0F8"
             },
             "line": {
              "color": "white"
             }
            },
            "header": {
             "fill": {
              "color": "#C8D4E3"
             },
             "line": {
              "color": "white"
             }
            },
            "type": "table"
           }
          ]
         },
         "layout": {
          "annotationdefaults": {
           "arrowcolor": "#2a3f5f",
           "arrowhead": 0,
           "arrowwidth": 1
          },
          "autotypenumbers": "strict",
          "coloraxis": {
           "colorbar": {
            "outlinewidth": 0,
            "ticks": ""
           }
          },
          "colorscale": {
           "diverging": [
            [
             0,
             "#8e0152"
            ],
            [
             0.1,
             "#c51b7d"
            ],
            [
             0.2,
             "#de77ae"
            ],
            [
             0.3,
             "#f1b6da"
            ],
            [
             0.4,
             "#fde0ef"
            ],
            [
             0.5,
             "#f7f7f7"
            ],
            [
             0.6,
             "#e6f5d0"
            ],
            [
             0.7,
             "#b8e186"
            ],
            [
             0.8,
             "#7fbc41"
            ],
            [
             0.9,
             "#4d9221"
            ],
            [
             1,
             "#276419"
            ]
           ],
           "sequential": [
            [
             0,
             "#0d0887"
            ],
            [
             0.1111111111111111,
             "#46039f"
            ],
            [
             0.2222222222222222,
             "#7201a8"
            ],
            [
             0.3333333333333333,
             "#9c179e"
            ],
            [
             0.4444444444444444,
             "#bd3786"
            ],
            [
             0.5555555555555556,
             "#d8576b"
            ],
            [
             0.6666666666666666,
             "#ed7953"
            ],
            [
             0.7777777777777778,
             "#fb9f3a"
            ],
            [
             0.8888888888888888,
             "#fdca26"
            ],
            [
             1,
             "#f0f921"
            ]
           ],
           "sequentialminus": [
            [
             0,
             "#0d0887"
            ],
            [
             0.1111111111111111,
             "#46039f"
            ],
            [
             0.2222222222222222,
             "#7201a8"
            ],
            [
             0.3333333333333333,
             "#9c179e"
            ],
            [
             0.4444444444444444,
             "#bd3786"
            ],
            [
             0.5555555555555556,
             "#d8576b"
            ],
            [
             0.6666666666666666,
             "#ed7953"
            ],
            [
             0.7777777777777778,
             "#fb9f3a"
            ],
            [
             0.8888888888888888,
             "#fdca26"
            ],
            [
             1,
             "#f0f921"
            ]
           ]
          },
          "colorway": [
           "#636efa",
           "#EF553B",
           "#00cc96",
           "#ab63fa",
           "#FFA15A",
           "#19d3f3",
           "#FF6692",
           "#B6E880",
           "#FF97FF",
           "#FECB52"
          ],
          "font": {
           "color": "#2a3f5f"
          },
          "geo": {
           "bgcolor": "white",
           "lakecolor": "white",
           "landcolor": "#E5ECF6",
           "showlakes": true,
           "showland": true,
           "subunitcolor": "white"
          },
          "hoverlabel": {
           "align": "left"
          },
          "hovermode": "closest",
          "mapbox": {
           "style": "light"
          },
          "paper_bgcolor": "white",
          "plot_bgcolor": "#E5ECF6",
          "polar": {
           "angularaxis": {
            "gridcolor": "white",
            "linecolor": "white",
            "ticks": ""
           },
           "bgcolor": "#E5ECF6",
           "radialaxis": {
            "gridcolor": "white",
            "linecolor": "white",
            "ticks": ""
           }
          },
          "scene": {
           "xaxis": {
            "backgroundcolor": "#E5ECF6",
            "gridcolor": "white",
            "gridwidth": 2,
            "linecolor": "white",
            "showbackground": true,
            "ticks": "",
            "zerolinecolor": "white"
           },
           "yaxis": {
            "backgroundcolor": "#E5ECF6",
            "gridcolor": "white",
            "gridwidth": 2,
            "linecolor": "white",
            "showbackground": true,
            "ticks": "",
            "zerolinecolor": "white"
           },
           "zaxis": {
            "backgroundcolor": "#E5ECF6",
            "gridcolor": "white",
            "gridwidth": 2,
            "linecolor": "white",
            "showbackground": true,
            "ticks": "",
            "zerolinecolor": "white"
           }
          },
          "shapedefaults": {
           "line": {
            "color": "#2a3f5f"
           }
          },
          "ternary": {
           "aaxis": {
            "gridcolor": "white",
            "linecolor": "white",
            "ticks": ""
           },
           "baxis": {
            "gridcolor": "white",
            "linecolor": "white",
            "ticks": ""
           },
           "bgcolor": "#E5ECF6",
           "caxis": {
            "gridcolor": "white",
            "linecolor": "white",
            "ticks": ""
           }
          },
          "title": {
           "x": 0.05
          },
          "xaxis": {
           "automargin": true,
           "gridcolor": "white",
           "linecolor": "white",
           "ticks": "",
           "title": {
            "standoff": 15
           },
           "zerolinecolor": "white",
           "zerolinewidth": 2
          },
          "yaxis": {
           "automargin": true,
           "gridcolor": "white",
           "linecolor": "white",
           "ticks": "",
           "title": {
            "standoff": 15
           },
           "zerolinecolor": "white",
           "zerolinewidth": 2
          }
         }
        },
        "title": {
         "font": {
          "size": 42
         },
         "text": "Survey Results"
        }
       }
      },
      "image/png": "[encoded data removed]",
      "text/html": [
       "<div>                            <div id=\"4f5aa5d5-8bd9-49ee-be11-f23df55e0c7e\" class=\"plotly-graph-div\" style=\"height:525px; width:100%;\"></div>            <script type=\"text/javascript\">                require([\"plotly\"], function(Plotly) {                    window.PLOTLYENV=window.PLOTLYENV || {};                                    if (document.getElementById(\"4f5aa5d5-8bd9-49ee-be11-f23df55e0c7e\")) {                    Plotly.newPlot(                        \"4f5aa5d5-8bd9-49ee-be11-f23df55e0c7e\",                        [{\"domain\":{\"x\":[0.0,1.0],\"y\":[0.0,1.0]},\"hovertemplate\":\"Do you take the metro?=%{label}\\u003cextra\\u003e\\u003c\\u002fextra\\u003e\",\"labels\":[\"No\",\"No\",\"No\",\"No\",\"Yes\",\"No\",\"Yes\",\"No\",\"Yes\",\"No\",\"No\",\"No\",\"No\",\"No\",\"No\",\"No\",\"No\",\"Yes\",\"No\",\"No\"],\"legendgroup\":\"\",\"name\":\"\",\"showlegend\":true,\"type\":\"pie\",\"textinfo\":\"percent+label\",\"textposition\":\"inside\"}],                        {\"template\":{\"data\":{\"histogram2dcontour\":[{\"type\":\"histogram2dcontour\",\"colorbar\":{\"outlinewidth\":0,\"ticks\":\"\"},\"colorscale\":[[0.0,\"#0d0887\"],[0.1111111111111111,\"#46039f\"],[0.2222222222222222,\"#7201a8\"],[0.3333333333333333,\"#9c179e\"],[0.4444444444444444,\"#bd3786\"],[0.5555555555555556,\"#d8576b\"],[0.6666666666666666,\"#ed7953\"],[0.7777777777777778,\"#fb9f3a\"],[0.8888888888888888,\"#fdca26\"],[1.0,\"#f0f921\"]]}],\"choropleth\":[{\"type\":\"choropleth\",\"colorbar\":{\"outlinewidth\":0,\"ticks\":\"\"}}],\"histogram2d\":[{\"type\":\"histogram2d\",\"colorbar\":{\"outlinewidth\":0,\"ticks\":\"\"},\"colorscale\":[[0.0,\"#0d0887\"],[0.1111111111111111,\"#46039f\"],[0.2222222222222222,\"#7201a8\"],[0.3333333333333333,\"#9c179e\"],[0.4444444444444444,\"#bd3786\"],[0.5555555555555556,\"#d8576b\"],[0.6666666666666666,\"#ed7953\"],[0.7777777777777778,\"#fb9f3a\"],[0.8888888888888888,\"#fdca26\"],[1.0,\"#f0f921\"]]}],\"heatmap\":[{\"type\":\"heatmap\",\"colorbar\":{\"outlinewidth\":0,\"ticks\":\"\"},\"colorscale\":[[0.0,\"#0d0887\"],[0.1111111111111111,\"#46039f\"],[0.2222222222222222,\"#7201a8\"],[0.3333333333333333,\"#9c179e\"],[0.4444444444444444,\"#bd3786\"],[0.5555555555555556,\"#d8576b\"],[0.6666666666666666,\"#ed7953\"],[0.7777777777777778,\"#fb9f3a\"],[0.8888888888888888,\"#fdca26\"],[1.0,\"#f0f921\"]]}],\"heatmapgl\":[{\"type\":\"heatmapgl\",\"colorbar\":{\"outlinewidth\":0,\"ticks\":\"\"},\"colorscale\":[[0.0,\"#0d0887\"],[0.1111111111111111,\"#46039f\"],[0.2222222222222222,\"#7201a8\"],[0.3333333333333333,\"#9c179e\"],[0.4444444444444444,\"#bd3786\"],[0.5555555555555556,\"#d8576b\"],[0.6666666666666666,\"#ed7953\"],[0.7777777777777778,\"#fb9f3a\"],[0.8888888888888888,\"#fdca26\"],[1.0,\"#f0f921\"]]}],\"contourcarpet\":[{\"type\":\"contourcarpet\",\"colorbar\":{\"outlinewidth\":0,\"ticks\":\"\"}}],\"contour\":[{\"type\":\"contour\",\"colorbar\":{\"outlinewidth\":0,\"ticks\":\"\"},\"colorscale\":[[0.0,\"#0d0887\"],[0.1111111111111111,\"#46039f\"],[0.2222222222222222,\"#7201a8\"],[0.3333333333333333,\"#9c179e\"],[0.4444444444444444,\"#bd3786\"],[0.5555555555555556,\"#d8576b\"],[0.6666666666666666,\"#ed7953\"],[0.7777777777777778,\"#fb9f3a\"],[0.8888888888888888,\"#fdca26\"],[1.0,\"#f0f921\"]]}],\"surface\":[{\"type\":\"surface\",\"colorbar\":{\"outlinewidth\":0,\"ticks\":\"\"},\"colorscale\":[[0.0,\"#0d0887\"],[0.1111111111111111,\"#46039f\"],[0.2222222222222222,\"#7201a8\"],[0.3333333333333333,\"#9c179e\"],[0.4444444444444444,\"#bd3786\"],[0.5555555555555556,\"#d8576b\"],[0.6666666666666666,\"#ed7953\"],[0.7777777777777778,\"#fb9f3a\"],[0.8888888888888888,\"#fdca26\"],[1.0,\"#f0f921\"]]}],\"mesh3d\":[{\"type\":\"mesh3d\",\"colorbar\":{\"outlinewidth\":0,\"ticks\":\"\"}}],\"scatter\":[{\"fillpattern\":{\"fillmode\":\"overlay\",\"size\":10,\"solidity\":0.2},\"type\":\"scatter\"}],\"parcoords\":[{\"type\":\"parcoords\",\"line\":{\"colorbar\":{\"outlinewidth\":0,\"ticks\":\"\"}}}],\"scatterpolargl\":[{\"type\":\"scatterpolargl\",\"marker\":{\"colorbar\":{\"outlinewidth\":0,\"ticks\":\"\"}}}],\"bar\":[{\"error_x\":{\"color\":\"#2a3f5f\"},\"error_y\":{\"color\":\"#2a3f5f\"},\"marker\":{\"line\":{\"color\":\"#E5ECF6\",\"width\":0.5},\"pattern\":{\"fillmode\":\"overlay\",\"size\":10,\"solidity\":0.2}},\"type\":\"bar\"}],\"scattergeo\":[{\"type\":\"scattergeo\",\"marker\":{\"colorbar\":{\"outlinewidth\":0,\"ticks\":\"\"}}}],\"scatterpolar\":[{\"type\":\"scatterpolar\",\"marker\":{\"colorbar\":{\"outlinewidth\":0,\"ticks\":\"\"}}}],\"histogram\":[{\"marker\":{\"pattern\":{\"fillmode\":\"overlay\",\"size\":10,\"solidity\":0.2}},\"type\":\"histogram\"}],\"scattergl\":[{\"type\":\"scattergl\",\"marker\":{\"colorbar\":{\"outlinewidth\":0,\"ticks\":\"\"}}}],\"scatter3d\":[{\"type\":\"scatter3d\",\"line\":{\"colorbar\":{\"outlinewidth\":0,\"ticks\":\"\"}},\"marker\":{\"colorbar\":{\"outlinewidth\":0,\"ticks\":\"\"}}}],\"scattermapbox\":[{\"type\":\"scattermapbox\",\"marker\":{\"colorbar\":{\"outlinewidth\":0,\"ticks\":\"\"}}}],\"scatterternary\":[{\"type\":\"scatterternary\",\"marker\":{\"colorbar\":{\"outlinewidth\":0,\"ticks\":\"\"}}}],\"scattercarpet\":[{\"type\":\"scattercarpet\",\"marker\":{\"colorbar\":{\"outlinewidth\":0,\"ticks\":\"\"}}}],\"carpet\":[{\"aaxis\":{\"endlinecolor\":\"#2a3f5f\",\"gridcolor\":\"white\",\"linecolor\":\"white\",\"minorgridcolor\":\"white\",\"startlinecolor\":\"#2a3f5f\"},\"baxis\":{\"endlinecolor\":\"#2a3f5f\",\"gridcolor\":\"white\",\"linecolor\":\"white\",\"minorgridcolor\":\"white\",\"startlinecolor\":\"#2a3f5f\"},\"type\":\"carpet\"}],\"table\":[{\"cells\":{\"fill\":{\"color\":\"#EBF0F8\"},\"line\":{\"color\":\"white\"}},\"header\":{\"fill\":{\"color\":\"#C8D4E3\"},\"line\":{\"color\":\"white\"}},\"type\":\"table\"}],\"barpolar\":[{\"marker\":{\"line\":{\"color\":\"#E5ECF6\",\"width\":0.5},\"pattern\":{\"fillmode\":\"overlay\",\"size\":10,\"solidity\":0.2}},\"type\":\"barpolar\"}],\"pie\":[{\"automargin\":true,\"type\":\"pie\"}]},\"layout\":{\"autotypenumbers\":\"strict\",\"colorway\":[\"#636efa\",\"#EF553B\",\"#00cc96\",\"#ab63fa\",\"#FFA15A\",\"#19d3f3\",\"#FF6692\",\"#B6E880\",\"#FF97FF\",\"#FECB52\"],\"font\":{\"color\":\"#2a3f5f\"},\"hovermode\":\"closest\",\"hoverlabel\":{\"align\":\"left\"},\"paper_bgcolor\":\"white\",\"plot_bgcolor\":\"#E5ECF6\",\"polar\":{\"bgcolor\":\"#E5ECF6\",\"angularaxis\":{\"gridcolor\":\"white\",\"linecolor\":\"white\",\"ticks\":\"\"},\"radialaxis\":{\"gridcolor\":\"white\",\"linecolor\":\"white\",\"ticks\":\"\"}},\"ternary\":{\"bgcolor\":\"#E5ECF6\",\"aaxis\":{\"gridcolor\":\"white\",\"linecolor\":\"white\",\"ticks\":\"\"},\"baxis\":{\"gridcolor\":\"white\",\"linecolor\":\"white\",\"ticks\":\"\"},\"caxis\":{\"gridcolor\":\"white\",\"linecolor\":\"white\",\"ticks\":\"\"}},\"coloraxis\":{\"colorbar\":{\"outlinewidth\":0,\"ticks\":\"\"}},\"colorscale\":{\"sequential\":[[0.0,\"#0d0887\"],[0.1111111111111111,\"#46039f\"],[0.2222222222222222,\"#7201a8\"],[0.3333333333333333,\"#9c179e\"],[0.4444444444444444,\"#bd3786\"],[0.5555555555555556,\"#d8576b\"],[0.6666666666666666,\"#ed7953\"],[0.7777777777777778,\"#fb9f3a\"],[0.8888888888888888,\"#fdca26\"],[1.0,\"#f0f921\"]],\"sequentialminus\":[[0.0,\"#0d0887\"],[0.1111111111111111,\"#46039f\"],[0.2222222222222222,\"#7201a8\"],[0.3333333333333333,\"#9c179e\"],[0.4444444444444444,\"#bd3786\"],[0.5555555555555556,\"#d8576b\"],[0.6666666666666666,\"#ed7953\"],[0.7777777777777778,\"#fb9f3a\"],[0.8888888888888888,\"#fdca26\"],[1.0,\"#f0f921\"]],\"diverging\":[[0,\"#8e0152\"],[0.1,\"#c51b7d\"],[0.2,\"#de77ae\"],[0.3,\"#f1b6da\"],[0.4,\"#fde0ef\"],[0.5,\"#f7f7f7\"],[0.6,\"#e6f5d0\"],[0.7,\"#b8e186\"],[0.8,\"#7fbc41\"],[0.9,\"#4d9221\"],[1,\"#276419\"]]},\"xaxis\":{\"gridcolor\":\"white\",\"linecolor\":\"white\",\"ticks\":\"\",\"title\":{\"standoff\":15},\"zerolinecolor\":\"white\",\"automargin\":true,\"zerolinewidth\":2},\"yaxis\":{\"gridcolor\":\"white\",\"linecolor\":\"white\",\"ticks\":\"\",\"title\":{\"standoff\":15},\"zerolinecolor\":\"white\",\"automargin\":true,\"zerolinewidth\":2},\"scene\":{\"xaxis\":{\"backgroundcolor\":\"#E5ECF6\",\"gridcolor\":\"white\",\"linecolor\":\"white\",\"showbackground\":true,\"ticks\":\"\",\"zerolinecolor\":\"white\",\"gridwidth\":2},\"yaxis\":{\"backgroundcolor\":\"#E5ECF6\",\"gridcolor\":\"white\",\"linecolor\":\"white\",\"showbackground\":true,\"ticks\":\"\",\"zerolinecolor\":\"white\",\"gridwidth\":2},\"zaxis\":{\"backgroundcolor\":\"#E5ECF6\",\"gridcolor\":\"white\",\"linecolor\":\"white\",\"showbackground\":true,\"ticks\":\"\",\"zerolinecolor\":\"white\",\"gridwidth\":2}},\"shapedefaults\":{\"line\":{\"color\":\"#2a3f5f\"}},\"annotationdefaults\":{\"arrowcolor\":\"#2a3f5f\",\"arrowhead\":0,\"arrowwidth\":1},\"geo\":{\"bgcolor\":\"white\",\"landcolor\":\"#E5ECF6\",\"subunitcolor\":\"white\",\"showland\":true,\"showlakes\":true,\"lakecolor\":\"white\"},\"title\":{\"x\":0.05},\"mapbox\":{\"style\":\"light\"}}},\"legend\":{\"tracegroupgap\":0},\"title\":{\"text\":\"Survey Results\",\"font\":{\"size\":42}}},                        {\"responsive\": true}                    ).then(function(){\n",
       "                            \n",
       "var gd = document.getElementById('4f5aa5d5-8bd9-49ee-be11-f23df55e0c7e');\n",
       "var x = new MutationObserver(function (mutations, observer) {{\n",
       "        var display = window.getComputedStyle(gd).display;\n",
       "        if (!display || display === 'none') {{\n",
       "            console.log([gd, 'removed!']);\n",
       "            Plotly.purge(gd);\n",
       "            observer.disconnect();\n",
       "        }}\n",
       "}});\n",
       "\n",
       "// Listen for the removal of the full notebook cells\n",
       "var notebookContainer = gd.closest('#notebook-container');\n",
       "if (notebookContainer) {{\n",
       "    x.observe(notebookContainer, {childList: true});\n",
       "}}\n",
       "\n",
       "// Listen for the clearing of the current output cell\n",
       "var outputEl = gd.closest('.output');\n",
       "if (outputEl) {{\n",
       "    x.observe(outputEl, {childList: true});\n",
       "}}\n",
       "\n",
       "                        })                };                });            </script>        </div>"
      ]
     },
     "metadata": {},
     "output_type": "display_data"
    }
   ],
   "source": [
    "fig = px.pie(df,\n",
    "             names='Do you take the metro?',\n",
    "             title='Survey Results'\n",
    "            )\n",
    "\n",
    "fig.update_traces(\n",
    "            textposition ='inside',\n",
    "            textinfo ='percent+label'\n",
    "            )\n",
    "\n",
    "fig.update_layout(\n",
    "            title_font_size = 42\n",
    "            )"
   ]
  },
  {
   "cell_type": "code",
   "execution_count": null,
   "id": "9ce4dcb1-9280-404d-bedb-8872ce4ce6df",
   "metadata": {},
   "outputs": [],
   "source": [
    "# This pie survey indicates that 20% of computer science students take the metro while 20% do not take the metro. "
   ]
  }
 ],
 "metadata": {
  "kernelspec": {
   "display_name": "Python 3 (ipykernel)",
   "language": "python",
   "name": "python3"
  },
  "language_info": {
   "codemirror_mode": {
    "name": "ipython",
    "version": 3
   },
   "file_extension": ".py",
   "mimetype": "text/x-python",
   "name": "python",
   "nbconvert_exporter": "python",
   "pygments_lexer": "ipython3",
   "version": "3.9.6"
  }
 },
 "nbformat": 4,
 "nbformat_minor": 5
}
