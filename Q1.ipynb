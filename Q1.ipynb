{
 "cells": [
  {
   "cell_type": "code",
   "execution_count": 11,
   "id": "88a28f7a-9038-48d9-ba6a-0453d8f16782",
   "metadata": {},
   "outputs": [
    {
     "name": "stdout",
     "output_type": "stream",
     "text": [
      "[-1, -3, -5, -7, -9, -11, 2, 4, 6, 8, 10, 12]\n"
     ]
    }
   ],
   "source": [
    "def rearrange(arr):\n",
    "    return [x for x in arr if x < 0] + [x for x in arr if x > 0]\n",
    "\n",
    "def main():\n",
    "    arr = [-1, 2, -3, 4, -5, 6, -7, 8, -9, 10, -11, 12]\n",
    "    print(rearrange(arr))\n",
    "\n",
    "if __name__ == \"__main__\":\n",
    "    main()"
   ]
  }
 ],
 "metadata": {
  "kernelspec": {
   "display_name": "Python 3 (ipykernel)",
   "language": "python",
   "name": "python3"
  },
  "language_info": {
   "codemirror_mode": {
    "name": "ipython",
    "version": 3
   },
   "file_extension": ".py",
   "mimetype": "text/x-python",
   "name": "python",
   "nbconvert_exporter": "python",
   "pygments_lexer": "ipython3",
   "version": "3.12.1"
  }
 },
 "nbformat": 4,
 "nbformat_minor": 5
}
