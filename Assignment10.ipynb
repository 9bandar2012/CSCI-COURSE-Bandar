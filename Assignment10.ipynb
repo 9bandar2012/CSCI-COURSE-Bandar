{
 "cells": [
  {
   "cell_type": "markdown",
   "id": "7018ec28-d447-4799-9239-05611848748d",
   "metadata": {},
   "source": [
    "## Question 1\n",
    "\n",
    "**`Inductive Reasoning`**:  Making generalized conclusions based on specific observations or cases is what constitutes Inductive Reasoning. It commences with specific observations and moves towards general theories. However, inductive arguments can still lead to false conclusions even if the premises are true.\n",
    "\n",
    "**`Example`**: You have noticed your friend wearing a raincoat and carrying an umbrella when it’s cloudy on multiple occasions. From this; you infer that people usually wear raincoats and carry umbrellas when they expect it to rain.\n",
    "\n",
    "**`Deductive Reasoning`**: on the other hand, involves deriving particular predictions or conclusions from general rules or principles. It begins with a general statement or hypothesis and examines possibilities to reach a specific logical conclusion.\n",
    "\n",
    "**`Example`**: If all mammals breathe air (general rule) and a whale is a mammal (specific case), then you deduce that a whale breathes air."
   ]
  },
  {
   "cell_type": "code",
   "execution_count": 23,
   "id": "435b93ec-a068-4b8f-8d67-d927f7dae795",
   "metadata": {},
   "outputs": [],
   "source": [
    "import numpy as np\n",
    "import pandas as pd\n",
    "from sklearn.model_selection import train_test_split\n",
    "from sklearn.metrics import mean_squared_error\n",
    "from sklearn.tree import DecisionTreeRegressor\n",
    "from sklearn.model_selection import GridSearchCV\n",
    "from sklearn.metrics import mean_squared_error\n",
    "import xgboost as xgb"
   ]
  },
  {
   "cell_type": "code",
   "execution_count": 24,
   "id": "0cabbd25-8238-42b3-9db5-9b7570ba9103",
   "metadata": {},
   "outputs": [
    {
     "data": {
      "text/plain": [
       "(    Ind_ID GENDER Car_Owner Propert_Owner  CHILDREN  Annual_income  \\\n",
       " 0  5008827      M         Y             Y         0       180000.0   \n",
       " 1  5009744      F         Y             N         0       315000.0   \n",
       " 2  5009746      F         Y             N         0       315000.0   \n",
       " 3  5009749      F         Y             N         0            NaN   \n",
       " 4  5009752      F         Y             N         0       315000.0   \n",
       " \n",
       "             Type_Income         EDUCATION Marital_status       Housing_type  \\\n",
       " 0             Pensioner  Higher education        Married  House / apartment   \n",
       " 1  Commercial associate  Higher education        Married  House / apartment   \n",
       " 2  Commercial associate  Higher education        Married  House / apartment   \n",
       " 3  Commercial associate  Higher education        Married  House / apartment   \n",
       " 4  Commercial associate  Higher education        Married  House / apartment   \n",
       " \n",
       "    Birthday_count  Employed_days  Mobile_phone  Work_Phone  Phone  EMAIL_ID  \\\n",
       " 0        -18772.0         365243             1           0      0         0   \n",
       " 1        -13557.0           -586             1           1      1         0   \n",
       " 2             NaN           -586             1           1      1         0   \n",
       " 3        -13557.0           -586             1           1      1         0   \n",
       " 4        -13557.0           -586             1           1      1         0   \n",
       " \n",
       "   Type_Occupation  Family_Members  \n",
       " 0             NaN               2  \n",
       " 1             NaN               2  \n",
       " 2             NaN               2  \n",
       " 3             NaN               2  \n",
       " 4             NaN               2  ,\n",
       "     Ind_ID  label\n",
       " 0  5008827      1\n",
       " 1  5009744      1\n",
       " 2  5009746      1\n",
       " 3  5009749      1\n",
       " 4  5009752      1)"
      ]
     },
     "execution_count": 24,
     "metadata": {},
     "output_type": "execute_result"
    }
   ],
   "source": [
    "credit_data = pd.read_csv('./Credit_card.csv')\n",
    "credit_labels = pd.read_csv('./Credit_card_label.csv')\n",
    "\n",
    "(credit_data.head(), credit_labels.head())"
   ]
  },
  {
   "cell_type": "code",
   "execution_count": 25,
   "id": "9c65ac0e-7e2d-4444-b6a7-8693e82a90ea",
   "metadata": {},
   "outputs": [
    {
     "data": {
      "text/plain": [
       "Ind_ID              0.000000\n",
       "GENDER              0.452196\n",
       "Car_Owner           0.000000\n",
       "Propert_Owner       0.000000\n",
       "CHILDREN            0.000000\n",
       "Annual_income       1.485788\n",
       "Type_Income         0.000000\n",
       "EDUCATION           0.000000\n",
       "Marital_status      0.000000\n",
       "Housing_type        0.000000\n",
       "Birthday_count      1.421189\n",
       "Employed_days       0.000000\n",
       "Mobile_phone        0.000000\n",
       "Work_Phone          0.000000\n",
       "Phone               0.000000\n",
       "EMAIL_ID            0.000000\n",
       "Type_Occupation    31.524548\n",
       "Family_Members      0.000000\n",
       "dtype: float64"
      ]
     },
     "execution_count": 25,
     "metadata": {},
     "output_type": "execute_result"
    }
   ],
   "source": [
    "missing_values_percentage = credit_data.isnull().mean() * 100\n",
    "\n",
    "missing_values_percentage"
   ]
  },
  {
   "cell_type": "code",
   "execution_count": 26,
   "id": "2877f08e-317c-499a-a47c-4401049a6a00",
   "metadata": {},
   "outputs": [
    {
     "name": "stderr",
     "output_type": "stream",
     "text": [
      "/var/folders/hz/0tzs2jl53rxflmsh_8s4hkk00000gn/T/ipykernel_27026/2835318614.py:1: FutureWarning: A value is trying to be set on a copy of a DataFrame or Series through chained assignment using an inplace method.\n",
      "The behavior will change in pandas 3.0. This inplace method will never work because the intermediate object on which we are setting values always behaves as a copy.\n",
      "\n",
      "For example, when doing 'df[col].method(value, inplace=True)', try using 'df.method({col: value}, inplace=True)' or df[col] = df[col].method(value) instead, to perform the operation inplace on the original object.\n",
      "\n",
      "\n",
      "  credit_data['GENDER'].fillna(credit_data['GENDER'].mode()[0], inplace=True)\n",
      "/var/folders/hz/0tzs2jl53rxflmsh_8s4hkk00000gn/T/ipykernel_27026/2835318614.py:3: FutureWarning: A value is trying to be set on a copy of a DataFrame or Series through chained assignment using an inplace method.\n",
      "The behavior will change in pandas 3.0. This inplace method will never work because the intermediate object on which we are setting values always behaves as a copy.\n",
      "\n",
      "For example, when doing 'df[col].method(value, inplace=True)', try using 'df.method({col: value}, inplace=True)' or df[col] = df[col].method(value) instead, to perform the operation inplace on the original object.\n",
      "\n",
      "\n",
      "  credit_data['Annual_income'].fillna(credit_data['Annual_income'].median(), inplace=True)\n",
      "/var/folders/hz/0tzs2jl53rxflmsh_8s4hkk00000gn/T/ipykernel_27026/2835318614.py:4: FutureWarning: A value is trying to be set on a copy of a DataFrame or Series through chained assignment using an inplace method.\n",
      "The behavior will change in pandas 3.0. This inplace method will never work because the intermediate object on which we are setting values always behaves as a copy.\n",
      "\n",
      "For example, when doing 'df[col].method(value, inplace=True)', try using 'df.method({col: value}, inplace=True)' or df[col] = df[col].method(value) instead, to perform the operation inplace on the original object.\n",
      "\n",
      "\n",
      "  credit_data['Birthday_count'].fillna(credit_data['Birthday_count'].median(), inplace=True)\n",
      "/var/folders/hz/0tzs2jl53rxflmsh_8s4hkk00000gn/T/ipykernel_27026/2835318614.py:6: FutureWarning: A value is trying to be set on a copy of a DataFrame or Series through chained assignment using an inplace method.\n",
      "The behavior will change in pandas 3.0. This inplace method will never work because the intermediate object on which we are setting values always behaves as a copy.\n",
      "\n",
      "For example, when doing 'df[col].method(value, inplace=True)', try using 'df.method({col: value}, inplace=True)' or df[col] = df[col].method(value) instead, to perform the operation inplace on the original object.\n",
      "\n",
      "\n",
      "  credit_data['Type_Occupation'].fillna(\"Unknown\", inplace=True)\n"
     ]
    },
    {
     "data": {
      "text/plain": [
       "Ind_ID             0\n",
       "GENDER             0\n",
       "Car_Owner          0\n",
       "Propert_Owner      0\n",
       "CHILDREN           0\n",
       "Annual_income      0\n",
       "Type_Income        0\n",
       "EDUCATION          0\n",
       "Marital_status     0\n",
       "Housing_type       0\n",
       "Birthday_count     0\n",
       "Employed_days      0\n",
       "Mobile_phone       0\n",
       "Work_Phone         0\n",
       "Phone              0\n",
       "EMAIL_ID           0\n",
       "Type_Occupation    0\n",
       "Family_Members     0\n",
       "dtype: int64"
      ]
     },
     "execution_count": 26,
     "metadata": {},
     "output_type": "execute_result"
    }
   ],
   "source": [
    "credit_data['GENDER'].fillna(credit_data['GENDER'].mode()[0], inplace=True)\n",
    "\n",
    "credit_data['Annual_income'].fillna(credit_data['Annual_income'].median(), inplace=True)\n",
    "credit_data['Birthday_count'].fillna(credit_data['Birthday_count'].median(), inplace=True)\n",
    "\n",
    "credit_data['Type_Occupation'].fillna(\"Unknown\", inplace=True)\n",
    "\n",
    "missing_values_after_filling = credit_data.isnull().sum()\n",
    "\n",
    "missing_values_after_filling"
   ]
  },
  {
   "cell_type": "code",
   "execution_count": 27,
   "id": "69f14de8-9017-4d1d-b6b1-41ddf63e5db4",
   "metadata": {},
   "outputs": [
    {
     "name": "stdout",
     "output_type": "stream",
     "text": [
      "    Ind_ID  CHILDREN  Annual_income  Birthday_count  Employed_days  \\\n",
      "0  5008827         0       180000.0        -18772.0         365243   \n",
      "1  5009744         0       315000.0        -13557.0           -586   \n",
      "2  5009746         0       315000.0        -15661.5           -586   \n",
      "3  5009749         0       166500.0        -13557.0           -586   \n",
      "4  5009752         0       315000.0        -13557.0           -586   \n",
      "\n",
      "   Mobile_phone  Work_Phone  Phone  EMAIL_ID  Family_Members  ...  \\\n",
      "0             1           0      0         0               2  ...   \n",
      "1             1           1      1         0               2  ...   \n",
      "2             1           1      1         0               2  ...   \n",
      "3             1           1      1         0               2  ...   \n",
      "4             1           1      1         0               2  ...   \n",
      "\n",
      "   Type_Occupation_Low-skill Laborers  Type_Occupation_Managers  \\\n",
      "0                               False                     False   \n",
      "1                               False                     False   \n",
      "2                               False                     False   \n",
      "3                               False                     False   \n",
      "4                               False                     False   \n",
      "\n",
      "   Type_Occupation_Medicine staff  Type_Occupation_Private service staff  \\\n",
      "0                           False                                  False   \n",
      "1                           False                                  False   \n",
      "2                           False                                  False   \n",
      "3                           False                                  False   \n",
      "4                           False                                  False   \n",
      "\n",
      "   Type_Occupation_Realty agents  Type_Occupation_Sales staff  \\\n",
      "0                          False                        False   \n",
      "1                          False                        False   \n",
      "2                          False                        False   \n",
      "3                          False                        False   \n",
      "4                          False                        False   \n",
      "\n",
      "   Type_Occupation_Secretaries  Type_Occupation_Security staff  \\\n",
      "0                        False                           False   \n",
      "1                        False                           False   \n",
      "2                        False                           False   \n",
      "3                        False                           False   \n",
      "4                        False                           False   \n",
      "\n",
      "   Type_Occupation_Unknown  Type_Occupation_Waiters/barmen staff  \n",
      "0                     True                                 False  \n",
      "1                     True                                 False  \n",
      "2                     True                                 False  \n",
      "3                     True                                 False  \n",
      "4                     True                                 False  \n",
      "\n",
      "[5 rows x 55 columns]\n"
     ]
    }
   ],
   "source": [
    "categorical_cols = ['GENDER', 'Car_Owner', 'Propert_Owner', 'Type_Income', 'EDUCATION', 'Marital_status', 'Housing_type', 'Type_Occupation']\n",
    "\n",
    "credit_data_encoded = pd.get_dummies(credit_data, columns=categorical_cols)\n",
    "\n",
    "print(credit_data_encoded.head())"
   ]
  },
  {
   "cell_type": "code",
   "execution_count": 28,
   "id": "ff79522a-39bd-4bbb-a409-c0998824b6de",
   "metadata": {},
   "outputs": [
    {
     "name": "stdout",
     "output_type": "stream",
     "text": [
      "    Ind_ID  CHILDREN  Annual_income  Birthday_count  Employed_days  \\\n",
      "0  5008827         0       180000.0        -18772.0         365243   \n",
      "1  5009744         0       315000.0        -13557.0           -586   \n",
      "2  5009746         0       315000.0        -15661.5           -586   \n",
      "3  5009749         0       166500.0        -13557.0           -586   \n",
      "4  5009752         0       315000.0        -13557.0           -586   \n",
      "\n",
      "   Mobile_phone  Work_Phone  Phone  EMAIL_ID  Family_Members  ...  \\\n",
      "0             1           0      0         0               2  ...   \n",
      "1             1           1      1         0               2  ...   \n",
      "2             1           1      1         0               2  ...   \n",
      "3             1           1      1         0               2  ...   \n",
      "4             1           1      1         0               2  ...   \n",
      "\n",
      "   Type_Occupation_Managers  Type_Occupation_Medicine staff  \\\n",
      "0                     False                           False   \n",
      "1                     False                           False   \n",
      "2                     False                           False   \n",
      "3                     False                           False   \n",
      "4                     False                           False   \n",
      "\n",
      "   Type_Occupation_Private service staff  Type_Occupation_Realty agents  \\\n",
      "0                                  False                          False   \n",
      "1                                  False                          False   \n",
      "2                                  False                          False   \n",
      "3                                  False                          False   \n",
      "4                                  False                          False   \n",
      "\n",
      "   Type_Occupation_Sales staff  Type_Occupation_Secretaries  \\\n",
      "0                        False                        False   \n",
      "1                        False                        False   \n",
      "2                        False                        False   \n",
      "3                        False                        False   \n",
      "4                        False                        False   \n",
      "\n",
      "   Type_Occupation_Security staff  Type_Occupation_Unknown  \\\n",
      "0                           False                     True   \n",
      "1                           False                     True   \n",
      "2                           False                     True   \n",
      "3                           False                     True   \n",
      "4                           False                     True   \n",
      "\n",
      "   Type_Occupation_Waiters/barmen staff  label  \n",
      "0                                 False      1  \n",
      "1                                 False      1  \n",
      "2                                 False      1  \n",
      "3                                 False      1  \n",
      "4                                 False      1  \n",
      "\n",
      "[5 rows x 56 columns]\n"
     ]
    }
   ],
   "source": [
    "credit_merged = pd.merge(credit_data_encoded, credit_labels, on='Ind_ID')\n",
    "\n",
    "print(credit_merged.head())"
   ]
  },
  {
   "cell_type": "code",
   "execution_count": 29,
   "id": "2ab1d4ad-2ba1-49fa-9ceb-71e7af6bf447",
   "metadata": {},
   "outputs": [],
   "source": [
    "X = credit_merged.drop('label', axis=1)\n",
    "y = credit_merged['label']\n",
    "\n",
    "X_train, X_validation, y_train, y_validation = train_test_split(X, y, test_size=0.2, random_state=42)"
   ]
  },
  {
   "cell_type": "code",
   "execution_count": 30,
   "id": "d3ed52ba-3f3c-4388-82b1-e3e8f74c4457",
   "metadata": {},
   "outputs": [
    {
     "name": "stdout",
     "output_type": "stream",
     "text": [
      "Decision Tree RMSE on Training Data: 0.22991837010953878\n",
      "Decision Tree RMSE on Validation Data: 0.3148498891964941\n"
     ]
    }
   ],
   "source": [
    "dt_regressor = DecisionTreeRegressor(random_state=42)\n",
    "dt_params = {'max_depth': [None, 10, 20], 'min_samples_split': [2, 10, 20], 'min_samples_leaf': [1, 5, 10]}\n",
    "\n",
    "dt_grid_search = GridSearchCV(dt_regressor, dt_params, cv=5, scoring='neg_mean_squared_error')\n",
    "dt_grid_search.fit(X_train, y_train)\n",
    "\n",
    "best_dt = dt_grid_search.best_estimator_\n",
    "dt_predictions_train = best_dt.predict(X_train)\n",
    "dt_predictions_val = best_dt.predict(X_validation)\n",
    "dt_rmse_train = np.sqrt(mean_squared_error(y_train, dt_predictions_train))\n",
    "dt_rmse_val = np.sqrt(mean_squared_error(y_validation, dt_predictions_val))\n",
    "\n",
    "print(f\"Decision Tree RMSE on Training Data: {dt_rmse_train}\")\n",
    "print(f\"Decision Tree RMSE on Validation Data: {dt_rmse_val}\")"
   ]
  },
  {
   "cell_type": "code",
   "execution_count": 31,
   "id": "e2131fe6-1395-487a-8bea-91cd5c104d71",
   "metadata": {},
   "outputs": [
    {
     "name": "stdout",
     "output_type": "stream",
     "text": [
      "XGBoost RMSE on Training Data: 0.05383573515265429\n",
      "XGBoost RMSE on Validation Data: 0.23575752591449772\n"
     ]
    }
   ],
   "source": [
    "xgb_regressor = xgb.XGBRegressor(objective='reg:squarederror', random_state=42)\n",
    "xgb_params = {'max_depth': [6, 10, 15], 'min_child_weight': [1, 5, 10], 'learning_rate': [0.01, 0.1, 0.2], 'subsample': [0.8, 1], 'colsample_bytree': [0.8, 1]}\n",
    "\n",
    "xgb_grid_search = GridSearchCV(xgb_regressor, xgb_params, cv=5, scoring='neg_mean_squared_error')\n",
    "xgb_grid_search.fit(X_train, y_train)\n",
    "\n",
    "best_xgb = xgb_grid_search.best_estimator_\n",
    "xgb_predictions_train = best_xgb.predict(X_train)\n",
    "xgb_predictions_val = best_xgb.predict(X_validation)\n",
    "xgb_rmse_train = np.sqrt(mean_squared_error(y_train, xgb_predictions_train))\n",
    "xgb_rmse_val = np.sqrt(mean_squared_error(y_validation, xgb_predictions_val))\n",
    "\n",
    "print(f\"XGBoost RMSE on Training Data: {xgb_rmse_train}\")\n",
    "print(f\"XGBoost RMSE on Validation Data: {xgb_rmse_val}\")"
   ]
  },
  {
   "cell_type": "markdown",
   "id": "48cb4e78-cc0d-4a6f-a5a9-f3de45b19295",
   "metadata": {},
   "source": [
    "## Model Tuning Techniques\n",
    "\n",
    "## 3. Decision Tree Model Tuning\n",
    "\n",
    "For this purpose, I used `GridSearchCV` which is an exhaustive search method to test all possible combinations of specified parameter values for the estimator. Here are those parameters that I focused on and why:\n",
    "\n",
    "- **`max_depth`**: This parameter controls the maximum depth of the tree. The deepness of the tree is limited in order to control overfitting. I set it to `None`, `10`, and `20` so that it could allow the model to decide which one is best using data and also try moderate and more constrained tree depths.\n",
    "\n",
    "- **`min_samples_split`**: This parameter represents the minimum number of samples required to split an internal node. For example, by testing such values as `2`, `10`, and `20`, I would aim at finding a balance between underfitting and overfitting, ensuring that my model does not split too eagerly on very small subsets of data.\n",
    "\n",
    "- **`min_samples_leaf`**: This parameter specifies the minimum number of samples required to be at a leaf node. In regression especially, it helps in smoothing the model. Values like `1`, `5`, and ‘10’ were selected so as to find out what effect more or less constraint has on leaf size.\n",
    "\n",
    "The goal was finding a combination of these parameters that minimizes overfitting while still allowing the tree to capture enough detail about our data.\n",
    "\n",
    "## 4. Random Forest Model Tuning\n",
    "\n",
    "Similar strategy was used in tuning The Random Forest, again using GridSearchCV for hyperparameters exploration:\n",
    "\n",
    "- **`n_estimators’** : This refers to how many trees should be grown within each random forest; more trees make it more robust but computationally expensive; thus trying ‘100’ or ‘200’ to see if there is any significant improvement with greater number of estimators.\n",
    "\n",
    "- **‘max_depth’:** This parameter controls the depth of each tree in the random forest similar to decision tree model. I used again the same values to assess their impact in an ensemble context.\n",
    "\n",
    "- **`min_samples_split`** and **`min_samples_leaf`**: The rationale for tuning these parameters is also the same as Decision Tree model. It should be such that it strikes a balance between the complexity of the model and its generalization ability.\n",
    "\n",
    "The combination of these parameters was aimed at increasing the model’s ability to generalize, avoiding overfitting common in decision trees by leveraging the ensemble nature of random forests.\n",
    "\n",
    "## 5. XGBoost Model Tuning\n",
    "\n",
    "XGBoost is known for its performance and speed. Here’s how it was tuned:\n",
    "\n",
    "- **‘max_depth’:** Determines how deep each tree can grow which I changed to see what depth do my trees need to have so that they grasp data complexity without overfitting;\n",
    "\n",
    "- **‘min_child_weight’:** As this parameter defines minimum sum of instance weight (hessian) needed in a child, this is used to control over-fitting; high values prevent learning different relations which might be highly specific to particular samples.\n",
    "2\n",
    "- ‘learning_rate’ or ‘eta:’ Shrinks weights on each step thus making the process more robust. I tried some values with eta o find out where learning is neither too slow requiring many trees nor too fast leading to overfitting.\n",
    "\n",
    "- **‘subsample’:** fraction of observations to be randomly sampled for each tree. This introduces randomness into individual estimates when fitting trees, which makes it more robust against overfitting.\n",
    "\n"
   ]
  }
 ],
 "metadata": {
  "kernelspec": {
   "display_name": "Python 3 (ipykernel)",
   "language": "python",
   "name": "python3"
  },
  "language_info": {
   "codemirror_mode": {
    "name": "ipython",
    "version": 3
   },
   "file_extension": ".py",
   "mimetype": "text/x-python",
   "name": "python",
   "nbconvert_exporter": "python",
   "pygments_lexer": "ipython3",
   "version": "3.12.1"
  }
 },
 "nbformat": 4,
 "nbformat_minor": 5
}
